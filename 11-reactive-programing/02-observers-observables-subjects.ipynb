{
 "cells": [
  {
   "cell_type": "markdown",
   "metadata": {},
   "source": [
    "# Módulo RxPy\n",
    "\n",
    "Dentro del módulo **RxPy** encontramos los 3 objetos **Observables**, **Observers** y **Subjects**, y los veremos cada uno por separado\n",
    "\n",
    "## Observables RxPy\n",
    "\n",
    "Un **Observable** es una clase de Python que permitira publicar datos que pueden tomar los que esten suscritos a este Observable y esta clase se peude instanciar directamente o crear de una función generadorá.\n",
    "\n",
    "Un ejemplo de uso sencillo es crear un **Observable** a partir de una lista"
   ]
  },
  {
   "cell_type": "code",
   "execution_count": null,
   "metadata": {},
   "outputs": [],
   "source": [
    "import rx\n",
    "\n",
    "Observable = rx.from_list([2, 3, 5, 7])"
   ]
  },
  {
   "cell_type": "markdown",
   "metadata": {},
   "source": [
    "## Observe RxPy\n",
    "\n",
    "El suscriptor u **observer** se genera con el método ``susbcribe()`` que poseen los **Observable** y dicho método acepta 4 parámetros\n",
    "\n",
    "- ``on_next`` = función que se ejecutará al recibir un nuevo valor\n",
    "- ``on_complete`` = función que se ejecuta una vez el Observable envia la señal de complete\n",
    "- ``on_error`` = Función para manejar los errores generados desde el Observable\n",
    "- ``Observer`` = The object that is to receive notifications. You may subscribe using an Observer or callbacks, not both\n",
    "\n",
    "podemos usarla con Lambdas functions o funciones normales"
   ]
  },
  {
   "cell_type": "code",
   "execution_count": null,
   "metadata": {},
   "outputs": [],
   "source": [
    "import rx\n",
    "\n",
    "\n",
    "def prime_number_reporter(value):\n",
    "    print('Function Received', value)\n",
    "\n",
    "Observable = rx.from_list([2, 3, 5, 7])\n",
    "\n",
    "# Subscribe a named function\n",
    "observable.subscribe(prime_number_reporter)\n",
    "# Subscribe a lambda function\n",
    "observable.subscribe(lambda value: print('Lambda Received', value))"
   ]
  },
  {
   "cell_type": "code",
   "execution_count": null,
   "metadata": {},
   "outputs": [],
   "source": [
    "import rx\n",
    "\n",
    "Observable = rx.from_list([2, 3, 5, 7])\n",
    "\n",
    "class PrimeNumberObserver:\n",
    "    def on_next(self, value):\n",
    "        print('Object Received', value)\n",
    "\n",
    "    def on_completed(self):\n",
    "        print('Data Stream Completed')\n",
    "\n",
    "    def on_error(self, error):\n",
    "        print('Error Occurred', error)\n",
    "\n",
    "# Subscribe an Observer object\n",
    "observable.subscribe(PrimeNumberObserver())\n",
    "\n",
    "# Use lambdas to set up all three functions\n",
    "observable.subscribe(\n",
    "    on_next = lambda value: print('Received on_next', value),\n",
    "    on_error = lambda exp: print('Error Occurred', exp),\n",
    "    on_completed = lambda: print('Received completed notification')\n",
    ")"
   ]
  },
  {
   "cell_type": "markdown",
   "metadata": {},
   "source": [
    "## Multiples suscriptores/observers\n",
    "\n",
    "Como nombramos una de las principales funcionalidades de la programación reactiva es que podemos tener multiples observers suscritos a un solo observable y cada uno actuando por serparado"
   ]
  },
  {
   "cell_type": "code",
   "execution_count": null,
   "metadata": {},
   "outputs": [],
   "source": [
    "import rx\n",
    "\n",
    "# Create an observable using data in a list\n",
    "observable = rx.from_list([2, 3, 5, 7])\n",
    "\n",
    "class PrimeNumberObserver:\n",
    "    \"\"\" An Observer class \"\"\"\n",
    "    def on_next(self, value):\n",
    "        print('Object Received', value)\n",
    "\n",
    "    def on_completed(self):\n",
    "        print('Data Stream Completed')\n",
    "\n",
    "    def on_error(self, error):\n",
    "        print('Error Occurred', error)\n",
    "\n",
    "    def prime_number_reporter(value):\n",
    "        print('Function Received', value)\n",
    "\n",
    "\n",
    "print('Set up Observers / Subscribers')\n",
    "\n",
    "# Subscribe a lambda function\n",
    "observable.subscribe(lambda value: print('Lambda Received',value))\n",
    "\n",
    "# Subscribe a named function\n",
    "observable.subscribe(prime_number_reporter)\n",
    "\n",
    "# Subscribe an Observer object\n",
    "observable.subscribe(PrimeNumberObserver())\n",
    "\n",
    "# Use lambdas to set up all three functions\n",
    "observable.subscribe(\n",
    "    on_next=lambda value: print('Received on_next', value),\n",
    "    on_error=lambda exp: print('Error Occurred', exp),\n",
    "    on_completed=lambda: print('Received completed notification')\n",
    ")"
   ]
  },
  {
   "cell_type": "markdown",
   "metadata": {},
   "source": [
    "# Subjects RxPy\n",
    "\n",
    "Los subjects actuan como Obersevable y Observe al mismo tiempo, es decir que ademas de recibir información de un observable, es decir al estar suscrito, este transformara los datos y los publciara como si fuera un Observable como tal"
   ]
  },
  {
   "cell_type": "code",
   "execution_count": null,
   "metadata": {},
   "outputs": [],
   "source": [
    "import rx\n",
    "from rx.subjects import Subject\n",
    "from datetime import datetime\n",
    "\n",
    "\n",
    "source = rx.from_list([2, 3, 5, 7])\n",
    "\n",
    "\n",
    "class TimeStampSubject(Subject):\n",
    "    def on_next(self, value):\n",
    "        print('Subject Received', value)\n",
    "        super().on_next((value, datetime.now()))\n",
    "\n",
    "    def on_completed(self):\n",
    "        print('Data Stream Completed')\n",
    "        super().on_completed()\n",
    "\n",
    "    def on_error(self, error):\n",
    "        print('In Subject - Error Occurred', error)\n",
    "        super().on_error(error)\n",
    "\n",
    "def prime_number_reporter(value):\n",
    "    print('Function Received', value)\n",
    "\n",
    "print('Set up')\n",
    "\n",
    "# Create the Subject\n",
    "subject = TimeStampSubject()\n",
    "\n",
    "# Set up multiple subscribers for the subject\n",
    "subject.subscribe(prime_number_reporter)\n",
    "subject.subscribe(lambda value: print('Lambda Received', value))\n",
    "subject.subscribe(\n",
    "    on_next = lambda value: print('Received on_next', value),\n",
    "    on_error = lambda exp: print('Error Occurred', exp),\n",
    "    on_completed = lambda: print('Received completed notification')\n",
    ")\n",
    "\n",
    "# Subscribe the Subject to the Observable source\n",
    "source.subscribe(subject)\n",
    "print('Done')"
   ]
  },
  {
   "cell_type": "markdown",
   "metadata": {},
   "source": [
    "# Concurrencia en RxPy\n",
    "\n",
    "\n"
   ]
  }
 ],
 "metadata": {
  "interpreter": {
   "hash": "bcd7c787f28bea0056094e3c9b26ef67fce7e96daae66b0d49af05fb891ff97b"
  },
  "kernelspec": {
   "display_name": "Python 3.9.7 64-bit",
   "name": "python3"
  },
  "language_info": {
   "codemirror_mode": {
    "name": "ipython",
    "version": 3
   },
   "file_extension": ".py",
   "mimetype": "text/x-python",
   "name": "python",
   "nbconvert_exporter": "python",
   "pygments_lexer": "ipython3",
   "version": "3.9.7"
  },
  "orig_nbformat": 4
 },
 "nbformat": 4,
 "nbformat_minor": 2
}
