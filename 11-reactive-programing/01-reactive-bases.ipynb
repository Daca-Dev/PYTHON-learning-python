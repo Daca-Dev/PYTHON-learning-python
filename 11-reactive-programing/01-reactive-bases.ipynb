{
 "cells": [
  {
   "cell_type": "markdown",
   "metadata": {},
   "source": [
    "# Programación reactiva\n",
    "\n",
    "La programación reactiva es un estilo de programación que se busca crear código que responda a enventos o acciones en el moemnto que deben de responder y tiene las siguiente caracteristica\n",
    "\n",
    "- **Responivo** = Consiste en que el sistema sea capaz de manejar en los tiempos optimos los eventos que se generen\n",
    "- **Resilente** = es decir que sea capaz de enfrentar cualquier caso incluso los errores, en la programación reactiva se deben de manera los errores y no deben de parar todo el programa\n",
    "- **elastico** = si el sistema crece o se escala este debe de seguir respondiendo\n",
    "- **gestor de mensajes** =  Information is exchanged between elements of a reactive system using messages. This ensures loose coupling, isolation and location transparency between these components.\n",
    "\n",
    "---\n",
    "\n",
    "# Proyecto ReactiveX \n",
    "\n",
    "El proyecto **ReactiveX** busca crear librerias para los distintos lenguajes de programación que te permitan implementar este tipo de programación, este se basa en el patron **Observer-Observable**, en Python dicha librería se llama **RxPy** y dicho módulo es descrito como\n",
    "\n",
    "> A library for composing asynchronous and event-based programs using Observable collections and query operator functions in Python"
   ]
  },
  {
   "cell_type": "markdown",
   "metadata": {},
   "source": [
    "\n",
    "---\n",
    "# Patron de Observador\n",
    "\n",
    "Este patron se basa en dos partes el **observador** y el **observable** y busca generar una relación de *uno a muchos* es decir que generar una relación entre el **observable** con los **observadores** pero sin que los observadores esten relacionados entre ellos.\n",
    "\n",
    "EL objetivo es que si hay algun cambio o evento en el **observable** todos los que estan interesados en el, es decir los **observadores** se enteren y hagan el debido procesamiento que necesitan.\n",
    "\n",
    "podemos visualizar esta idea en el siguiente grafico:\n",
    "\n",
    "![grafico](./images/img1.png)\n"
   ]
  },
  {
   "cell_type": "markdown",
   "metadata": {},
   "source": [
    "este patron tiene las siguientes partes\n",
    "\n",
    "- **Observable** = es el objeto que es encargado de generar eventos y datos\n",
    "- **Obserrver** = son los objetos que serán notificados de los eventos y que recibiran los datos para manipularlos\n",
    "- **state** = es un objeto que nos permite obtener información de los cambios de estados del observable\n",
    "\n",
    "## Hot and cold Observables\n",
    "\n",
    "estos dos **Observables** consiste en el modo de funcionamiento según unas caracteristicas\n",
    "\n",
    "- *Cold observable* = es un Observable que se ejecuta solo si hay almenos un observer suscrito a el\n",
    "- *hot Observable* = es un Observable que siempre esta enviando información asi no haya algún observer suscrito"
   ]
  },
  {
   "cell_type": "markdown",
   "metadata": {},
   "source": [
    "# Ventajas de programación reactiva\n",
    "\n",
    "- **evita callback hell** = evita la anidación de callbacks que si estos se exteinden lelgan a ser dificiles de mantener\n",
    "- **facilita las tareas asincronas** = ya que las tareas asincroncas son manejas por los mismos Observables y Observers\n",
    "- **built-in functions** = los módulos nos ofercen funciones ya construidas para la mayoria de los casos de uso, evitando tener que crear Observables sino yendo a usar uno ya establecido\n",
    "- **data composition** = te permite modificar la información que resulta de cada observable permitiendo optimizar los datos y su uso\n",
    "\n"
   ]
  }
 ],
 "metadata": {
  "interpreter": {
   "hash": "e10c588331812ce8644711cf49296cc7106d891fd97acbc1dbff548955ff74f4"
  },
  "kernelspec": {
   "display_name": "Python 3.9.7 64-bit ('learn-python': conda)",
   "name": "python3"
  },
  "language_info": {
   "name": "python",
   "version": "3.9.7"
  },
  "orig_nbformat": 4
 },
 "nbformat": 4,
 "nbformat_minor": 2
}
