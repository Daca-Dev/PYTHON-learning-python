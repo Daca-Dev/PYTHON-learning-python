{
 "cells": [
  {
   "cell_type": "markdown",
   "source": [
    "# if Tests and Syntax Rules\r\n",
    "\r\n",
    "La sentencia if es la que nos permite validar si ejecutar o no ciertas piezas de código, para ello se debe de ahcer uso de los alores y operaciones booleanas\r\n",
    "\r\n",
    "La estructura base es:\r\n",
    "\r\n",
    "```python\r\n",
    "if test1:       # if test\r\n",
    "    statements1 # Associated block\r\n",
    "elif test2:     # Optional elifs\r\n",
    "    statements2\r\n",
    "else:           # Optional else\r\n",
    "    statements3\r\n",
    "```\r\n",
    "\r\n",
    "También podemos expresar un if simple en una sola línea empleando el `if terneario` este nos permite definir un valor si cierta condición se cumple o no, vemosmolo.\r\n",
    "\r\n",
    "Supongamos que tenemos el siguiente if básico"
   ],
   "metadata": {}
  },
  {
   "cell_type": "code",
   "execution_count": 2,
   "source": [
    "x = True\r\n",
    "if x:\r\n",
    "    A = 'si'\r\n",
    "else:\r\n",
    "    A = 'No'\r\n",
    "    \r\n",
    "print(A)"
   ],
   "outputs": [
    {
     "output_type": "stream",
     "name": "stdout",
     "text": [
      "si\n"
     ]
    }
   ],
   "metadata": {}
  },
  {
   "cell_type": "markdown",
   "source": [
    "Ahora lo escribiremos en formato del if terciario\r\n"
   ],
   "metadata": {}
  },
  {
   "cell_type": "code",
   "execution_count": 3,
   "source": [
    "x = False\r\n",
    "A = 'si' if x else 'no'\r\n",
    "A"
   ],
   "outputs": [
    {
     "output_type": "execute_result",
     "data": {
      "text/plain": [
       "'no'"
      ]
     },
     "metadata": {},
     "execution_count": 3
    }
   ],
   "metadata": {}
  },
  {
   "cell_type": "markdown",
   "source": [
    "## Usos especiales de los booleanos\r\n",
    "\r\n",
    "Los valores booleanos que son los usados en nuestras sentencias if (y en las while mas adelante) tiene sus operaciones especiales que peuden facilitarnos el trabajo a la hora de programar, una de ellas son:\r\n",
    "\r\n",
    "1. poder asignar multiples variables dependiendo de si esta vacia o no, es decir si tienen una valor falso\r\n"
   ],
   "metadata": {}
  },
  {
   "cell_type": "code",
   "execution_count": 4,
   "source": [
    "a,b,c = '', [], False\r\n",
    "x = a or b or c or 'Nada'\r\n",
    "x\r\n"
   ],
   "outputs": [
    {
     "output_type": "execute_result",
     "data": {
      "text/plain": [
       "'Nada'"
      ]
     },
     "metadata": {},
     "execution_count": 4
    }
   ],
   "metadata": {}
  },
  {
   "cell_type": "code",
   "execution_count": 6,
   "source": [
    "b = 'hola'\r\n",
    "x = a or b or c or 'Nada'\r\n",
    "x"
   ],
   "outputs": [
    {
     "output_type": "execute_result",
     "data": {
      "text/plain": [
       "'hola'"
      ]
     },
     "metadata": {},
     "execution_count": 6
    }
   ],
   "metadata": {}
  },
  {
   "cell_type": "code",
   "execution_count": null,
   "source": [],
   "outputs": [],
   "metadata": {}
  }
 ],
 "metadata": {
  "orig_nbformat": 4,
  "language_info": {
   "name": "python",
   "version": "3.9.7",
   "mimetype": "text/x-python",
   "codemirror_mode": {
    "name": "ipython",
    "version": 3
   },
   "pygments_lexer": "ipython3",
   "nbconvert_exporter": "python",
   "file_extension": ".py"
  },
  "kernelspec": {
   "name": "python3",
   "display_name": "Python 3.9.7 64-bit ('learning-python': conda)"
  },
  "interpreter": {
   "hash": "cb6cd5bb8a4fc649266e1b95dae8ab58b18cb2208a1b6d749f13a16dd38b4c0e"
  }
 },
 "nbformat": 4,
 "nbformat_minor": 2
}