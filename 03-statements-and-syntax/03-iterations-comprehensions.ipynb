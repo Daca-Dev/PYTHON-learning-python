{
 "cells": [
  {
   "cell_type": "markdown",
   "source": [
    "# Iterations\r\n",
    "\r\n",
    "Los iteradores o en español los generadores, son funciones que nos regresan un valor a la vez según el criterio de la función.\r\n",
    "\r\n",
    "La principal ventaja de los generadores es que no sobresaturan la memoría del computador, al no cargar todo el objeto o lista completa, sino que van generadno el tado en memoria a medida que lo van necesitando, esto es muhco mas optimo\r\n",
    "\r\n",
    "En python existen una amplia variedad de generadores, el más común es la función built-in `iter()`.]"
   ],
   "metadata": {}
  },
  {
   "cell_type": "code",
   "execution_count": 8,
   "source": [
    "lista = list(range(5))\r\n",
    "generador = iter(lista)\r\n",
    "print(generador)"
   ],
   "outputs": [
    {
     "output_type": "stream",
     "name": "stdout",
     "text": [
      "<list_iterator object at 0x000001F568A25970>\n"
     ]
    }
   ],
   "metadata": {}
  },
  {
   "cell_type": "markdown",
   "source": [
    "Como podemos observar no es posible ver toda la lista, solo nos dice que el objeto es de tipo ``iterator``\r\n",
    "para ver los elementos usaremos el método ``__next()__`` o la función ``next()`` del built-in de Python"
   ],
   "metadata": {}
  },
  {
   "cell_type": "code",
   "execution_count": 9,
   "source": [
    "print('item:', next(generador))\r\n",
    "print('item:', generador.__next__())\r\n",
    "print('item:', next(generador))\r\n",
    "print('item:', next(generador))\r\n",
    "print('item:', next(generador))\r\n",
    "print('item:', next(generador))"
   ],
   "outputs": [
    {
     "output_type": "stream",
     "name": "stdout",
     "text": [
      "item: 0\n",
      "item: 1\n",
      "item: 2\n",
      "item: 3\n",
      "item: 4\n"
     ]
    },
    {
     "output_type": "error",
     "ename": "StopIteration",
     "evalue": "",
     "traceback": [
      "\u001b[1;31m---------------------------------------------------------------------------\u001b[0m",
      "\u001b[1;31mStopIteration\u001b[0m                             Traceback (most recent call last)",
      "\u001b[1;32mC:\\Users\\DAVID~1.CAS\\AppData\\Local\\Temp/ipykernel_7116/3062729439.py\u001b[0m in \u001b[0;36m<module>\u001b[1;34m\u001b[0m\n\u001b[0;32m      4\u001b[0m \u001b[0mprint\u001b[0m\u001b[1;33m(\u001b[0m\u001b[1;34m'item:'\u001b[0m\u001b[1;33m,\u001b[0m \u001b[0mnext\u001b[0m\u001b[1;33m(\u001b[0m\u001b[0mgenerador\u001b[0m\u001b[1;33m)\u001b[0m\u001b[1;33m)\u001b[0m\u001b[1;33m\u001b[0m\u001b[1;33m\u001b[0m\u001b[0m\n\u001b[0;32m      5\u001b[0m \u001b[0mprint\u001b[0m\u001b[1;33m(\u001b[0m\u001b[1;34m'item:'\u001b[0m\u001b[1;33m,\u001b[0m \u001b[0mnext\u001b[0m\u001b[1;33m(\u001b[0m\u001b[0mgenerador\u001b[0m\u001b[1;33m)\u001b[0m\u001b[1;33m)\u001b[0m\u001b[1;33m\u001b[0m\u001b[1;33m\u001b[0m\u001b[0m\n\u001b[1;32m----> 6\u001b[1;33m \u001b[0mprint\u001b[0m\u001b[1;33m(\u001b[0m\u001b[1;34m'item:'\u001b[0m\u001b[1;33m,\u001b[0m \u001b[0mnext\u001b[0m\u001b[1;33m(\u001b[0m\u001b[0mgenerador\u001b[0m\u001b[1;33m)\u001b[0m\u001b[1;33m)\u001b[0m\u001b[1;33m\u001b[0m\u001b[1;33m\u001b[0m\u001b[0m\n\u001b[0m",
      "\u001b[1;31mStopIteration\u001b[0m: "
     ]
    }
   ],
   "metadata": {}
  },
  {
   "cell_type": "markdown",
   "source": [
    "podemos observar que esta función nos ha entreado de a un item los valores de la lista creada, sin embargo cuando ya sacamos todos los elementos del generador, nos arroja un error `StopIteration` el cual nos avisa que no hay mas elemento en el generador.\r\n",
    "> Debemos de capturar este error y procesarlo con un ``try - catch``\r\n",
    "\r\n"
   ],
   "metadata": {}
  },
  {
   "cell_type": "code",
   "execution_count": 10,
   "source": [
    "try:\r\n",
    "    print('item:', next(generador))\r\n",
    "except StopIteration:\r\n",
    "    print('no hay más items')"
   ],
   "outputs": [
    {
     "output_type": "stream",
     "name": "stdout",
     "text": [
      "no hay más items\n"
     ]
    }
   ],
   "metadata": {}
  },
  {
   "cell_type": "markdown",
   "source": [
    "Los generadores peuden comvertir cualqueri iterable en un generador, y en la version 3.3 de Python ya se habilito para que pueda iterar sobre diccionarios\r\n",
    "\r\n",
    "> recordar que un diccionario no es un iterador, sino un grupo de datos no ordenados\r\n",
    "\r\n",
    "para iterar sobre diccionarios el generador lo que devuelve en cada entrega es el nombre de una clave, hasta recorrerlas todas"
   ],
   "metadata": {}
  },
  {
   "cell_type": "code",
   "execution_count": 13,
   "source": [
    "D = {'a':1, 'b':2, 'c':3}\r\n",
    "I = iter(D)\r\n",
    "print(next(I))\r\n",
    "print(next(I))\r\n",
    "print(next(I))\r\n",
    "print(next(I))"
   ],
   "outputs": [
    {
     "output_type": "stream",
     "name": "stdout",
     "text": [
      "a\n",
      "b\n",
      "c\n"
     ]
    },
    {
     "output_type": "error",
     "ename": "StopIteration",
     "evalue": "",
     "traceback": [
      "\u001b[1;31m---------------------------------------------------------------------------\u001b[0m",
      "\u001b[1;31mStopIteration\u001b[0m                             Traceback (most recent call last)",
      "\u001b[1;32mC:\\Users\\DAVID~1.CAS\\AppData\\Local\\Temp/ipykernel_7116/1493705253.py\u001b[0m in \u001b[0;36m<module>\u001b[1;34m\u001b[0m\n\u001b[0;32m      4\u001b[0m \u001b[0mprint\u001b[0m\u001b[1;33m(\u001b[0m\u001b[0mnext\u001b[0m\u001b[1;33m(\u001b[0m\u001b[0mI\u001b[0m\u001b[1;33m)\u001b[0m\u001b[1;33m)\u001b[0m\u001b[1;33m\u001b[0m\u001b[1;33m\u001b[0m\u001b[0m\n\u001b[0;32m      5\u001b[0m \u001b[0mprint\u001b[0m\u001b[1;33m(\u001b[0m\u001b[0mnext\u001b[0m\u001b[1;33m(\u001b[0m\u001b[0mI\u001b[0m\u001b[1;33m)\u001b[0m\u001b[1;33m)\u001b[0m\u001b[1;33m\u001b[0m\u001b[1;33m\u001b[0m\u001b[0m\n\u001b[1;32m----> 6\u001b[1;33m \u001b[0mprint\u001b[0m\u001b[1;33m(\u001b[0m\u001b[0mnext\u001b[0m\u001b[1;33m(\u001b[0m\u001b[0mI\u001b[0m\u001b[1;33m)\u001b[0m\u001b[1;33m)\u001b[0m\u001b[1;33m\u001b[0m\u001b[1;33m\u001b[0m\u001b[0m\n\u001b[0m",
      "\u001b[1;31mStopIteration\u001b[0m: "
     ]
    }
   ],
   "metadata": {}
  },
  {
   "cell_type": "markdown",
   "source": [
    "Algo que se debe de recalcar es que el ciclo for puede iterar sobre los generadores y manejar el error de ``StopIteration`` por nosotros"
   ],
   "metadata": {}
  },
  {
   "cell_type": "code",
   "execution_count": 15,
   "source": [
    "for i in iter(D):\r\n",
    "    print('item:', i)"
   ],
   "outputs": [
    {
     "output_type": "stream",
     "name": "stdout",
     "text": [
      "item: a\n",
      "item: b\n",
      "item: c\n"
     ]
    }
   ],
   "metadata": {}
  },
  {
   "cell_type": "markdown",
   "source": [
    "Otra función iteradora es ``enumerate`` la cual nos permite generar una tupla que contiene el indice y el valor del elemento"
   ],
   "metadata": {}
  },
  {
   "cell_type": "code",
   "execution_count": 17,
   "source": [
    "for i in enumerate('hola!'): print(i)"
   ],
   "outputs": [
    {
     "output_type": "stream",
     "name": "stdout",
     "text": [
      "(0, 'h')\n",
      "(1, 'o')\n",
      "(2, 'l')\n",
      "(3, 'a')\n",
      "(4, '!')\n"
     ]
    }
   ],
   "metadata": {}
  },
  {
   "cell_type": "markdown",
   "source": [
    "# List Comprehensions\r\n",
    "\r\n",
    "List Comprehensions son un tipo de for loop, que nos permite crear listas a patir de una sintaxis mas amigable y sencilla de entender.\r\n",
    "\r\n",
    "Sin embargo la principal diferencia es que es mas optima que usar un ``for loop`` como los que vimos anteriormente"
   ],
   "metadata": {}
  },
  {
   "cell_type": "code",
   "execution_count": 19,
   "source": [
    "lista = [i for i in range(1,6)]\r\n",
    "lista"
   ],
   "outputs": [
    {
     "output_type": "stream",
     "name": "stdout",
     "text": [
      "[1, 2, 3, 4, 5]\n"
     ]
    }
   ],
   "metadata": {}
  },
  {
   "cell_type": "code",
   "execution_count": 20,
   "source": [
    "lista_par = [i for i in range(0,11) if i % 2 == 0]\r\n",
    "lista_par"
   ],
   "outputs": [
    {
     "output_type": "execute_result",
     "data": {
      "text/plain": [
       "[0, 2, 4, 6, 8, 10]"
      ]
     },
     "metadata": {},
     "execution_count": 20
    }
   ],
   "metadata": {}
  },
  {
   "cell_type": "markdown",
   "source": [
    "Es posible anidar for loops en estas listas"
   ],
   "metadata": {}
  },
  {
   "cell_type": "code",
   "execution_count": 23,
   "source": [
    "lista_anidada = [ x + y for x in 'hola' for y in 'mundo']\r\n",
    "for i in lista_anidada: print(i, end='--')"
   ],
   "outputs": [
    {
     "output_type": "stream",
     "name": "stdout",
     "text": [
      "hm--hu--hn--hd--ho--om--ou--on--od--oo--lm--lu--ln--ld--lo--am--au--an--ad--ao--"
     ]
    }
   ],
   "metadata": {}
  }
 ],
 "metadata": {
  "orig_nbformat": 4,
  "language_info": {
   "name": "python",
   "version": "3.9.7",
   "mimetype": "text/x-python",
   "codemirror_mode": {
    "name": "ipython",
    "version": 3
   },
   "pygments_lexer": "ipython3",
   "nbconvert_exporter": "python",
   "file_extension": ".py"
  },
  "kernelspec": {
   "name": "python3",
   "display_name": "Python 3.9.7 64-bit ('learning-python-book': conda)"
  },
  "interpreter": {
   "hash": "9228c2573cbbde0dac843b8968f6cfda5f3b714f9bc1009cf3aff046ad8f0798"
  }
 },
 "nbformat": 4,
 "nbformat_minor": 2
}