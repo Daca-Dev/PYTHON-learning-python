{
 "cells": [
  {
   "cell_type": "markdown",
   "source": [
    "# if Tests and Syntax Rules\r\n",
    "\r\n",
    "La sentencia if es la que nos permite validar si ejecutar o no ciertas piezas de código, para ello se debe de ahcer uso de los alores y operaciones booleanas\r\n",
    "\r\n",
    "La estructura base es:\r\n",
    "\r\n",
    "```python\r\n",
    "if test1:       # if test\r\n",
    "    statements1 # Associated block\r\n",
    "elif test2:     # Optional elifs\r\n",
    "    statements2\r\n",
    "else:           # Optional else\r\n",
    "    statements3\r\n",
    "```\r\n",
    "\r\n",
    "También podemos expresar un if simple en una sola línea empleando el `if terneario` este nos permite definir un valor si cierta condición se cumple o no, vemosmolo.\r\n",
    "\r\n",
    "Supongamos que tenemos el siguiente if básico"
   ],
   "metadata": {}
  },
  {
   "cell_type": "code",
   "execution_count": 1,
   "source": [
    "x = True\r\n",
    "if x:\r\n",
    "    A = 'si'\r\n",
    "else:\r\n",
    "    A = 'No'\r\n",
    "    \r\n",
    "print(A)"
   ],
   "outputs": [
    {
     "output_type": "stream",
     "name": "stdout",
     "text": [
      "si\n"
     ]
    }
   ],
   "metadata": {}
  },
  {
   "cell_type": "markdown",
   "source": [
    "Ahora lo escribiremos en formato del if terciario\r\n"
   ],
   "metadata": {}
  },
  {
   "cell_type": "code",
   "execution_count": 2,
   "source": [
    "x = False\r\n",
    "A = 'si' if x else 'no'\r\n",
    "A"
   ],
   "outputs": [
    {
     "output_type": "execute_result",
     "data": {
      "text/plain": [
       "'no'"
      ]
     },
     "metadata": {},
     "execution_count": 2
    }
   ],
   "metadata": {}
  },
  {
   "cell_type": "markdown",
   "source": [
    "## Usos especiales de los booleanos\r\n",
    "\r\n",
    "Los valores booleanos que son los usados en nuestras sentencias if (y en las while mas adelante) tiene sus operaciones especiales que peuden facilitarnos el trabajo a la hora de programar, una de ellas son:\r\n",
    "\r\n",
    "1. poder asignar multiples variables dependiendo de si esta vacia o no, es decir si tienen una valor falso\r\n"
   ],
   "metadata": {}
  },
  {
   "cell_type": "code",
   "execution_count": 3,
   "source": [
    "a,b,c = '', [], False\r\n",
    "x = a or b or c or 'Nada'\r\n",
    "x"
   ],
   "outputs": [
    {
     "output_type": "execute_result",
     "data": {
      "text/plain": [
       "'Nada'"
      ]
     },
     "metadata": {},
     "execution_count": 3
    }
   ],
   "metadata": {}
  },
  {
   "cell_type": "code",
   "execution_count": 4,
   "source": [
    "b = 'hola'\r\n",
    "x = a or b or c or 'Nada'\r\n",
    "x"
   ],
   "outputs": [
    {
     "output_type": "execute_result",
     "data": {
      "text/plain": [
       "'hola'"
      ]
     },
     "metadata": {},
     "execution_count": 4
    }
   ],
   "metadata": {}
  },
  {
   "cell_type": "markdown",
   "source": [
    "# While y Else\r\n",
    "\r\n",
    "El While es un condicional iterativo, es decir que podemos ejecutar código repetidamente mientras se cumpla una condición booleana, y este tiene la siguiente estructura\r\n",
    "\r\n",
    "```python\r\n",
    "while stattement:\r\n",
    "    ...\r\n",
    "else:\r\n",
    "    ...\r\n",
    "```\r\n",
    "\r\n",
    "Veamos un ejemplo"
   ],
   "metadata": {}
  },
  {
   "cell_type": "code",
   "execution_count": 6,
   "source": [
    "cont = 1\r\n",
    "\r\n",
    "while cont <= 10:\r\n",
    "    print('conteo:', cont)\r\n",
    "    cont += 1\r\n",
    "else:\r\n",
    "    print('terminamos de contar')"
   ],
   "outputs": [
    {
     "output_type": "stream",
     "name": "stdout",
     "text": [
      "conteo: 1\n",
      "conteo: 2\n",
      "conteo: 3\n",
      "conteo: 4\n",
      "conteo: 5\n",
      "conteo: 6\n",
      "conteo: 7\n",
      "conteo: 8\n",
      "conteo: 9\n",
      "conteo: 10\n",
      "terminamos de contar\n"
     ]
    }
   ],
   "metadata": {}
  },
  {
   "cell_type": "markdown",
   "source": [
    "El código que se encuentra dentro del `else` solo se ejecutará si se termina el ciclo `while` de manera normal es decir si se evalua la condición y esta decide si continuar o no con la iteración\r\n",
    "\r\n",
    "Dentro de las iteraciones existen dos formas interactuar dentro del ciclo, esto es `continue` y `break`\r\n",
    "\r\n",
    "- **continue**: nos permite saltar a la siguiente iteración si ejecutar el código restante del ciclo\r\n",
    "- **break**: nos permite terminar forzosamente el ciclo y no pasar por el `else`\r\n",
    "\r\n",
    "Veamos lo en práctica"
   ],
   "metadata": {}
  },
  {
   "cell_type": "code",
   "execution_count": 10,
   "source": [
    "cont = 1\r\n",
    "while cont <= 20:\r\n",
    "    print('cont impar:', cont)\r\n",
    "    cont += 1\r\n",
    "    if cont % 2 == 0:\r\n",
    "        continue\r\n",
    "    if cont == 15:\r\n",
    "        break\r\n",
    "else:\r\n",
    "    print('termine de contar')"
   ],
   "outputs": [
    {
     "output_type": "stream",
     "name": "stdout",
     "text": [
      "cont impar: 1\n",
      "cont impar: 2\n",
      "cont impar: 3\n",
      "cont impar: 4\n",
      "cont impar: 5\n",
      "cont impar: 6\n",
      "cont impar: 7\n",
      "cont impar: 8\n",
      "cont impar: 9\n",
      "cont impar: 10\n",
      "cont impar: 11\n",
      "cont impar: 12\n",
      "cont impar: 13\n",
      "cont impar: 14\n"
     ]
    }
   ],
   "metadata": {}
  },
  {
   "cell_type": "markdown",
   "source": [
    "Como podemos observar no el ciclo termino cuando cont fue igual a 15, y ejecuto el comando **break** y salio forsozamente del ciclo"
   ],
   "metadata": {}
  },
  {
   "cell_type": "markdown",
   "source": [
    "# For\r\n",
    "\r\n",
    "El ciclo for es similar al while en que ejecutan un bloque de código de manera iterativa, pero en el ciclo for sabemos de antemano cuantas veces vamos a iterar\r\n",
    "\r\n",
    "> El ciclo for puede funcionar sobre cualqueir iterador, es decir listas, arreglos, strings, generadores."
   ],
   "metadata": {}
  },
  {
   "cell_type": "code",
   "execution_count": 12,
   "source": [
    "lista = list(range(10))\r\n",
    "for i in lista:\r\n",
    "    print('item', i)\r\n",
    "else:\r\n",
    "    print('termine el ciclo for')"
   ],
   "outputs": [
    {
     "output_type": "stream",
     "name": "stdout",
     "text": [
      "item 0\n",
      "item 1\n",
      "item 2\n",
      "item 3\n",
      "item 4\n",
      "item 5\n",
      "item 6\n",
      "item 7\n",
      "item 8\n",
      "item 9\n",
      "termine el ciclo for\n"
     ]
    }
   ],
   "metadata": {}
  },
  {
   "cell_type": "markdown",
   "source": [
    "Dentro del ciclo for de igual modo podemos usar el `continue` y el ``break``"
   ],
   "metadata": {}
  },
  {
   "cell_type": "markdown",
   "source": [],
   "metadata": {}
  }
 ],
 "metadata": {
  "orig_nbformat": 4,
  "language_info": {
   "name": "python",
   "version": "3.9.7",
   "mimetype": "text/x-python",
   "codemirror_mode": {
    "name": "ipython",
    "version": 3
   },
   "pygments_lexer": "ipython3",
   "nbconvert_exporter": "python",
   "file_extension": ".py"
  },
  "kernelspec": {
   "name": "python3",
   "display_name": "Python 3.9.7 64-bit ('learning-python-book': conda)"
  },
  "interpreter": {
   "hash": "9228c2573cbbde0dac843b8968f6cfda5f3b714f9bc1009cf3aff046ad8f0798"
  }
 },
 "nbformat": 4,
 "nbformat_minor": 2
}