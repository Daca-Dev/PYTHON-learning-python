{
 "cells": [
  {
   "cell_type": "markdown",
   "metadata": {},
   "source": [
    "# Designing with Classes\n",
    "\n",
    "para el diseo de clases con Python, es importante tener en cuenta que esta se basa en tre conceptos fundamenteales\n",
    "\n",
    "## Herencia\n",
    "\n",
    "La idea de heredar comportamientos y métodos de otras clases para no repetir código\n",
    "\n",
    "## polimorfismo\n",
    "\n",
    "El polimorfismo consiste en modificar el comportamiento los metodos según la instancia de la clase, es decir cambiar el comportamiento de métodos que son heredados de otras clases\n",
    "\n",
    "## Encapsulamiento\n",
    "\n",
    "Implementar el comportamiento de métodos y operadores, a través de el ocultamiento de datos po defecto, es decir que ciertas caracteristica de una clase no lleguen a ser alcanzados por otros clases o instancias mas adelante\n"
   ]
  }
 ],
 "metadata": {
  "interpreter": {
   "hash": "cb6cd5bb8a4fc649266e1b95dae8ab58b18cb2208a1b6d749f13a16dd38b4c0e"
  },
  "kernelspec": {
   "display_name": "Python 3.9.7 64-bit ('learning-python': conda)",
   "name": "python3"
  },
  "language_info": {
   "name": "python",
   "version": "3.9.7"
  },
  "orig_nbformat": 4
 },
 "nbformat": 4,
 "nbformat_minor": 2
}
