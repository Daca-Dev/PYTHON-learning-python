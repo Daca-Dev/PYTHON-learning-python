{
 "cells": [
  {
   "cell_type": "markdown",
   "metadata": {},
   "source": [
    "# Designing with Classes\n",
    "\n",
    "Existen multiples patrones de diseño de Clases pero antes de abordar cada uno de estos patrones de diseño es bueno que hagamos enfasís es las principales caracteristicas que manejan las clases en Pytohn\n",
    "\n",
    "---\n",
    "\n",
    "# Herencia\n",
    "\n",
    "La idea de la herencia es compartir de un padre a un hijo los comportamientos y métodos de tal forma que el hijo tenga el mismo comportamiento que el padre y adicional pueda agregar o modificar algunos de estos comportamientos\n",
    "\n",
    "# Encapsulamiento\n",
    "\n",
    "El encapsulamiento consiste en ocultar o abstraer el contenido de una clase, es decir que la idea es ocultar el acceso exterior a algunas caracteristicasd e nuestras ckases, ya sea por seguridad o protección del mismo código, esta funcionalidad también podría ser conocida como privacidad, lo cual es algo que Python no conoce pero que hace un intento por implemmentar.\n",
    "\n",
    "# polimorfismo\n",
    "\n",
    "El polimorfismo es un poco diferente en Python, en POO el polimorfismo consiste en que un mismo método puede tomar varias formas según sus parametros de entrada, es decir que podriamos usar un método con el mismo nombre para procesar dos parametros como para procesar 4 de distinto tipo, esto normalemnte en un programa cd C++ o Java, pero en Python la cosa es distinta.\n",
    "\n",
    "Como tal el polimorfismo no existe en Python, ya que Python lo que guarda son referencias en memoria de objetos bajo un nombre, donde cada nombre debe de ser único por esta razon no podemos crear dos métodos con el mism nombre al final solo habrá uno y Python no te dirá que hay un error con ello."
   ]
  },
  {
   "cell_type": "code",
   "execution_count": 31,
   "metadata": {},
   "outputs": [],
   "source": [
    "class MiClase:\n",
    "    \n",
    "    def __init__(self):\n",
    "        self.contador = 0\n",
    "        \n",
    "    def suma(self, value):\n",
    "        self.contador += value\n",
    "        \n",
    "    def suma(self, value, value_1):\n",
    "        self.contador += value + value_1\n",
    "        \n",
    "x = MiClase()"
   ]
  },
  {
   "cell_type": "code",
   "execution_count": 32,
   "metadata": {},
   "outputs": [
    {
     "ename": "TypeError",
     "evalue": "suma() missing 1 required positional argument: 'value_1'",
     "output_type": "error",
     "traceback": [
      "\u001b[1;31m---------------------------------------------------------------------------\u001b[0m",
      "\u001b[1;31mTypeError\u001b[0m                                 Traceback (most recent call last)",
      "\u001b[1;32m~\\AppData\\Local\\Temp/ipykernel_8012/2303544481.py\u001b[0m in \u001b[0;36m<module>\u001b[1;34m\u001b[0m\n\u001b[1;32m----> 1\u001b[1;33m \u001b[0mx\u001b[0m\u001b[1;33m.\u001b[0m\u001b[0msuma\u001b[0m\u001b[1;33m(\u001b[0m\u001b[1;36m10\u001b[0m\u001b[1;33m)\u001b[0m\u001b[1;33m\u001b[0m\u001b[1;33m\u001b[0m\u001b[0m\n\u001b[0m",
      "\u001b[1;31mTypeError\u001b[0m: suma() missing 1 required positional argument: 'value_1'"
     ]
    }
   ],
   "source": [
    "x.suma(10)"
   ]
  },
  {
   "cell_type": "code",
   "execution_count": 33,
   "metadata": {},
   "outputs": [
    {
     "name": "stdout",
     "output_type": "stream",
     "text": [
      "30\n"
     ]
    }
   ],
   "source": [
    "x.suma(10,20)\n",
    "print(x.contador)"
   ]
  },
  {
   "cell_type": "markdown",
   "metadata": {},
   "source": [
    "Del ejemplo anterior podemos identificar que nuestra clase no tiene lo que definimos como polimorfismo, sino por el contrario solo tiene un método y es el último que se creo, esto es porque Python recorre todo el archivo o pieza de código de arriba a bajo y lo que hizo fue sobre escribir el anterior método con la nueva instancia del mismo.\n",
    "\n",
    "para manejar el polimorfismo en Python simplemente se usa lo que se vio para funciones los *args y **kwargs que nos permiten capturar cualquier otro tipo de datos dentro de nuestra función o en este caso método."
   ]
  },
  {
   "cell_type": "markdown",
   "metadata": {},
   "source": [
    "# POO y la herencia como \"is-a\" (es un)\n",
    "\n",
    "Uno de los principales usos de POO es la de extraer información crear modelos base de los cuales van heredando y generandose nuevos modelos que cumplen funciones especificas, pensemos en los empleados de un restaurante de Pizza en donde la base de todo es una clase Empleado y a partir de ella se van generando los nuevos modelos como chef, cajero, etc. veamos el ejemplo"
   ]
  },
  {
   "cell_type": "code",
   "execution_count": 34,
   "metadata": {},
   "outputs": [
    {
     "name": "stdout",
     "output_type": "stream",
     "text": [
      "<Employee: name=bob, salary=50000>\n",
      "bob makes pizza\n",
      "<Employee: name=bob, salary=60000.0>\n",
      "\n",
      "Employee does stuff\n",
      "Chef makes food\n",
      "Server interfaces with customer\n",
      "PizzaRobot makes pizza\n"
     ]
    }
   ],
   "source": [
    "class Employee:\n",
    "    def __init__(self, name, salary=0):\n",
    "        self.name = name\n",
    "        self.salary = salary\n",
    "        \n",
    "    def giveRaise(self, percent):\n",
    "        self.salary = self.salary + (self.salary * percent)\n",
    "        \n",
    "    def work(self):\n",
    "        print(self.name, \"does stuff\")\n",
    "        \n",
    "    def __repr__(self):\n",
    "        return \"<Employee: name=%s, salary=%s>\" % (self.name, self.salary)\n",
    "\n",
    "class Chef(Employee):\n",
    "    def __init__(self, name):\n",
    "        Employee.__init__(self, name, 50000)\n",
    "\n",
    "    def work(self):\n",
    "        print(self.name, \"makes food\")\n",
    "\n",
    "class Server(Employee):\n",
    "    def __init__(self, name):\n",
    "        Employee.__init__(self, name, 40000)\n",
    "\n",
    "    def work(self):\n",
    "        print(self.name, \"interfaces with customer\")\n",
    "\n",
    "class PizzaRobot(Chef):\n",
    "    def __init__(self, name):\n",
    "        Chef.__init__(self, name)\n",
    "    def work(self):\n",
    "        print(self.name, \"makes pizza\")\n",
    "\n",
    "\n",
    "if __name__ == \"__main__\":\n",
    "    bob = PizzaRobot('bob') # Make a robot named bob\n",
    "    print(bob) # Run inherited __repr__\n",
    "    bob.work() # Run type-specific action\n",
    "    bob.giveRaise(0.20) # Give bob a 20% raise\n",
    "    print(bob); print()\n",
    "    for klass in Employee, Chef, Server, PizzaRobot:\n",
    "        obj = klass(klass.__name__)\n",
    "        obj.work()"
   ]
  },
  {
   "cell_type": "markdown",
   "metadata": {},
   "source": [
    "# POO y la composición\n",
    "\n",
    "la composición en POO consiste en clear objetos que contienen a otros objetos dentro de sus atributos o incluso llegan a operar con otros Objetos, no necesariamente del mismo tipo. veamos el ejemplo con la idea del restaurante, si ahora queremos crear la clase Restaurante esta debe de tener parámetros como cocina, empleados, etc., el código sería"
   ]
  },
  {
   "cell_type": "code",
   "execution_count": 35,
   "metadata": {},
   "outputs": [
    {
     "name": "stdout",
     "output_type": "stream",
     "text": [
      "Homer orders from <Employee: name=Pat, salary=40000>\n",
      "Bob makes pizza\n",
      "oven bakes\n",
      "Homer pays for item to <Employee: name=Pat, salary=40000>\n",
      "...\n",
      "Shaggy orders from <Employee: name=Pat, salary=40000>\n",
      "Bob makes pizza\n",
      "oven bakes\n",
      "Shaggy pays for item to <Employee: name=Pat, salary=40000>\n"
     ]
    }
   ],
   "source": [
    "class Customer:\n",
    "    def __init__(self, name):\n",
    "        self.name = name\n",
    "\n",
    "    def order(self, server):\n",
    "        print(self.name, \"orders from\", server)\n",
    "\n",
    "    def pay(self, server):\n",
    "        print(self.name, \"pays for item to\", server)\n",
    "\n",
    "\n",
    "class Oven:\n",
    "    def bake(self):\n",
    "        print(\"oven bakes\")\n",
    "        \n",
    "\n",
    "class PizzaShop:\n",
    "    def __init__(self):\n",
    "        self.server = Server('Pat') # Embed other objects\n",
    "        self.chef = PizzaRobot('Bob') # A robot named bob\n",
    "        self.oven = Oven()\n",
    "\n",
    "    def order(self, name):\n",
    "        customer = Customer(name) # Activate other objects\n",
    "        customer.order(self.server) # Customer orders from server\n",
    "        self.chef.work()\n",
    "        self.oven.bake()\n",
    "        customer.pay(self.server)\n",
    "\n",
    "\n",
    "if __name__ == \"__main__\":\n",
    "    scene = PizzaShop() # Make the composite\n",
    "    scene.order('Homer') # Simulate Homer's order\n",
    "    print('...')\n",
    "    scene.order('Shaggy') # Simulate Shaggy's order"
   ]
  },
  {
   "cell_type": "markdown",
   "metadata": {},
   "source": [
    "# POO y la delegacrión: Wrappers\n",
    "\n",
    "Los **Wrappers** cuya traducción en inglés sería **envolturas** son Clases que envuelven a otras clases y que te permiten operar sobre ellas y agregar comportamientos previos a sus ejecuciones, veamos el ejemplo"
   ]
  },
  {
   "cell_type": "code",
   "execution_count": 36,
   "metadata": {},
   "outputs": [],
   "source": [
    "class Wrapper:\n",
    "    def __init__(self, object):\n",
    "        self.wrapped = object # Save object\n",
    "\n",
    "    def __getattr__(self, attrname):\n",
    "        print('Trace: ' + attrname) # Trace fetch\n",
    "        return getattr(self.wrapped, attrname) # Delegate fetch"
   ]
  },
  {
   "cell_type": "markdown",
   "metadata": {},
   "source": [
    "En la claseWrapper declarada solo tenemos un atributo el cual recibe el objeto en cuestion y solo tenemos un método que es el de ``__getattr__`` el cual 'captura' los métodos de nuestro objeto envuelto y ejecuta la tarea en cuestion, no sin antes haber ejecutado todo el código previo, es por eso que podemos modificar el comportamiento de nuestras clases con lo Wrappers sin modificar la clase como tal"
   ]
  },
  {
   "cell_type": "code",
   "execution_count": 37,
   "metadata": {},
   "outputs": [
    {
     "name": "stdout",
     "output_type": "stream",
     "text": [
      "Trace: append\n",
      "Trace: keys\n"
     ]
    },
    {
     "data": {
      "text/plain": [
       "['a', 'b']"
      ]
     },
     "execution_count": 37,
     "metadata": {},
     "output_type": "execute_result"
    }
   ],
   "source": [
    "x = Wrapper([1, 2, 3]) # Wrap a list\n",
    "x.append(4) # Delegate to list method\n",
    "x.wrapped # Print my member\n",
    "x = Wrapper({'a': 1, 'b': 2}) # Wrap a dictionary\n",
    "list(x.keys()) # Delegate to dictionary method"
   ]
  },
  {
   "cell_type": "markdown",
   "metadata": {},
   "source": [
    "# atributos Pseudoprivados\n",
    "\n",
    "Como mencionamos antes, la privacidad en Python no es algo que tenga implementado pero nos ofrece dos soluciones que nos puede dar la idea de privacidad aunque no sea así, estas dos maneras son por medio de sintaxis o por manipulación de nombramiento.\n",
    "\n",
    "## Sitaxis\n",
    "\n",
    "la manera mas fácil y normalmente usada es por medio del uso de guiones bajos antes del nombre del método o atributo en cuestión, veamos el ejemplo"
   ]
  },
  {
   "cell_type": "code",
   "execution_count": 42,
   "metadata": {},
   "outputs": [],
   "source": [
    "class Customer:\n",
    "    def __init__(self, name):\n",
    "        self._name = name\n",
    "\n",
    "    def _order(self, server):\n",
    "        print(self.name, \"orders from\", server)\n",
    "\n",
    "    def pay(self, server):\n",
    "        print(self.name, \"pays for item to\", server)\n"
   ]
  },
  {
   "cell_type": "code",
   "execution_count": 44,
   "metadata": {},
   "outputs": [
    {
     "data": {
      "text/plain": [
       "'David'"
      ]
     },
     "execution_count": 44,
     "metadata": {},
     "output_type": "execute_result"
    }
   ],
   "source": [
    "x = Customer('David')\n",
    "x._name"
   ]
  },
  {
   "cell_type": "markdown",
   "metadata": {},
   "source": [
    "aunque colocamos el guion bajo aun nuestro atributo es accesible desde cualqueir parte del código con el mismo nombre, esto es porque el guion bajo es mas un estándar o buena práctica que una funcionalidad de Python, es decir que si ves esta sintaxis en alguna clase significa que es privado y no deberias jugar con el\n",
    "\n",
    "## Manipulación del nombre\n",
    "\n",
    "Otra forma de ahcer, poco usada pero igual de eficiente es la manipulación del nombre, la cual consiste en colocar ya no uno, sino dos guiones bajos antes del nombre del atributo o método en cuestion, es decir que tenemos algo como `__ATTRNAME`, en este punto **Python** si realiza una tarea y es la de reemplazar el nombre por la siguiente estructura `_CLASNAME__ATTRNAME`, vemos lo en funcionamiento"
   ]
  },
  {
   "cell_type": "code",
   "execution_count": 47,
   "metadata": {},
   "outputs": [],
   "source": [
    "class MiClase:\n",
    "    \n",
    "    def __init__(self, name):\n",
    "        self.__name = name\n",
    "        \n",
    "    def __metodo(self, msg):\n",
    "        print(f'Hola soy {self.__name}', msg)\n",
    "    \n",
    "    def saluda(self):\n",
    "        self.__metodo('desde la clase')"
   ]
  },
  {
   "cell_type": "code",
   "execution_count": 48,
   "metadata": {},
   "outputs": [
    {
     "name": "stdout",
     "output_type": "stream",
     "text": [
      "Hola soy David desde la clase\n"
     ]
    }
   ],
   "source": [
    "x = MiClase('David')\n",
    "x.saluda()"
   ]
  },
  {
   "cell_type": "code",
   "execution_count": 49,
   "metadata": {},
   "outputs": [
    {
     "ename": "AttributeError",
     "evalue": "'MiClase' object has no attribute '__metodo'",
     "output_type": "error",
     "traceback": [
      "\u001b[1;31m---------------------------------------------------------------------------\u001b[0m",
      "\u001b[1;31mAttributeError\u001b[0m                            Traceback (most recent call last)",
      "\u001b[1;32m~\\AppData\\Local\\Temp/ipykernel_8012/1154835808.py\u001b[0m in \u001b[0;36m<module>\u001b[1;34m\u001b[0m\n\u001b[1;32m----> 1\u001b[1;33m \u001b[0mx\u001b[0m\u001b[1;33m.\u001b[0m\u001b[0m__metodo\u001b[0m\u001b[1;33m(\u001b[0m\u001b[1;34m'dedse fuera'\u001b[0m\u001b[1;33m)\u001b[0m\u001b[1;33m\u001b[0m\u001b[1;33m\u001b[0m\u001b[0m\n\u001b[0m",
      "\u001b[1;31mAttributeError\u001b[0m: 'MiClase' object has no attribute '__metodo'"
     ]
    }
   ],
   "source": [
    "x.__metodo('dedse fuera')"
   ]
  },
  {
   "cell_type": "markdown",
   "metadata": {},
   "source": [
    "Como vimos no pudimos acceder desde fuera de nuestra clase usando el método ``__metodo`` esto es porque estamos usando la manipulación de atributos, pero de igual forma si usamos la sintaxis que se supone debe de reemplazar deberiamos de tener acceso a nuestro metodo sin problemas"
   ]
  },
  {
   "cell_type": "code",
   "execution_count": 52,
   "metadata": {},
   "outputs": [
    {
     "name": "stdout",
     "output_type": "stream",
     "text": [
      "Hola soy David desde fuera\n"
     ]
    }
   ],
   "source": [
    "x._MiClase__metodo('desde fuera')"
   ]
  },
  {
   "cell_type": "markdown",
   "metadata": {},
   "source": [
    "Esto es ampliamente usado en la práctica para controlar quienes acceden pero si tienes buenos conocimientos del lenguaje podemos seguir accediendo a las propiedades del mismo\n",
    "\n",
    "# Methods Are Objects: Bound or Unbound\n",
    "\n",
    "Asi como con las funciones, también podemos crear llamados indirectos a los métodos o inlcuso a las clases que generemos, esto lo hacemos con el uso de los métodos atados o no atados (Bound or Unbound), el concepto es simple:\n",
    "\n",
    "- bound: son los métodos que usa el parámetro self\n",
    "- unbound: son los que no reciben self\n",
    "\n",
    "veamoslo en la práctica"
   ]
  },
  {
   "cell_type": "code",
   "execution_count": 53,
   "metadata": {},
   "outputs": [],
   "source": [
    "class Spam:\n",
    "    def doit(self, message):\n",
    "        print(message)"
   ]
  },
  {
   "cell_type": "code",
   "execution_count": 54,
   "metadata": {},
   "outputs": [
    {
     "name": "stdout",
     "output_type": "stream",
     "text": [
      "hello world\n"
     ]
    }
   ],
   "source": [
    "object1 = Spam()\n",
    "object1.doit('hello world')"
   ]
  },
  {
   "cell_type": "code",
   "execution_count": 56,
   "metadata": {},
   "outputs": [
    {
     "name": "stdout",
     "output_type": "stream",
     "text": [
      "howdy\n"
     ]
    }
   ],
   "source": [
    "object1 = Spam()\n",
    "t = Spam.doit # Unbound method object (a function in 3.X: see ahead)\n",
    "t(object1, 'howdy') # Pass in instance (if the method expects one in 3.X)"
   ]
  },
  {
   "cell_type": "code",
   "execution_count": 57,
   "metadata": {},
   "outputs": [
    {
     "name": "stdout",
     "output_type": "stream",
     "text": [
      "hello world\n"
     ]
    }
   ],
   "source": [
    "object1 = Spam()\n",
    "x = object1.doit # Bound method object: instance+function\n",
    "x('hello world') # Same effect as object1.doit('...')"
   ]
  },
  {
   "cell_type": "code",
   "execution_count": 58,
   "metadata": {},
   "outputs": [
    {
     "name": "stdout",
     "output_type": "stream",
     "text": [
      "42\n"
     ]
    }
   ],
   "source": [
    "class Eggs:\n",
    "    def m1(self, n):\n",
    "        print(n)\n",
    "    def m2(self):\n",
    "        x = self.m1 # Another bound method object\n",
    "        x(42) # Looks like a simple function\n",
    "\n",
    "Eggs().m2() # Prints 42"
   ]
  },
  {
   "cell_type": "markdown",
   "metadata": {},
   "source": [
    "También es posible aplicar esta técnica a mas de un objeto **callble**"
   ]
  },
  {
   "cell_type": "code",
   "execution_count": 59,
   "metadata": {},
   "outputs": [],
   "source": [
    "class Number:\n",
    "    def __init__(self, base):\n",
    "        self.base = base\n",
    "    def double(self):\n",
    "        return self.base * 2\n",
    "    def triple(self):\n",
    "        return self.base * 3\n",
    "\n",
    "x = Number(2) # Class instance objects\n",
    "y = Number(3) # State + methods\n",
    "z = Number(4)"
   ]
  },
  {
   "cell_type": "code",
   "execution_count": 60,
   "metadata": {},
   "outputs": [
    {
     "data": {
      "text/plain": [
       "4"
      ]
     },
     "execution_count": 60,
     "metadata": {},
     "output_type": "execute_result"
    }
   ],
   "source": [
    "x.double() # Normal immediate calls"
   ]
  },
  {
   "cell_type": "code",
   "execution_count": 61,
   "metadata": {},
   "outputs": [
    {
     "name": "stdout",
     "output_type": "stream",
     "text": [
      "4\n",
      "6\n",
      "9\n",
      "8\n"
     ]
    }
   ],
   "source": [
    "acts = [x.double, y.double, y.triple, z.double] # List of bound methods\n",
    "for act in acts: # Calls are deferred\n",
    "    print(act()) # Call as though functions"
   ]
  },
  {
   "cell_type": "markdown",
   "metadata": {},
   "source": [
    "# Classes Are Objects: Generic Object Factories\n",
    "\n",
    "Las fabricas de objetos son funciones que nos permiten controlar la forma en que se instancia un objeto en especifico, es aprecido a los Wrappers pero la diferencia es que una vez es entregado el objeto este tiene la misma clase como si se hubiera instanciado directamente, la diferencia es que durante la función habran controles, filtros, etc que se encargan de crear la instancia que se requiera a corde a la situación"
   ]
  },
  {
   "cell_type": "code",
   "execution_count": 62,
   "metadata": {},
   "outputs": [],
   "source": [
    "def factory(aClass, *pargs, **kargs): # Varargs tuple, dict\n",
    "    return aClass(*pargs, **kargs) # Call aClass (or apply in 2.X only)\n",
    "\n",
    "class Spam:\n",
    "    def doit(self, message):\n",
    "        print(message)\n",
    "    \n",
    "class Person:\n",
    "    def __init__(self, name, job=None):\n",
    "        self.name = name\n",
    "        self.job = job\n",
    "\n",
    "object1 = factory(Spam) # Make a Spam object\n",
    "object2 = factory(Person, \"Arthur\", \"King\") # Make a Person object\n",
    "object3 = factory(Person, name='Brian') # Ditto, with keywords and default"
   ]
  },
  {
   "cell_type": "code",
   "execution_count": 65,
   "metadata": {},
   "outputs": [
    {
     "name": "stdout",
     "output_type": "stream",
     "text": [
      "99\n"
     ]
    }
   ],
   "source": [
    "object1.doit(99)"
   ]
  },
  {
   "cell_type": "code",
   "execution_count": 66,
   "metadata": {},
   "outputs": [
    {
     "data": {
      "text/plain": [
       "('Arthur', 'King')"
      ]
     },
     "execution_count": 66,
     "metadata": {},
     "output_type": "execute_result"
    }
   ],
   "source": [
    "object2.name, object2.job"
   ]
  },
  {
   "cell_type": "code",
   "execution_count": 68,
   "metadata": {},
   "outputs": [
    {
     "data": {
      "text/plain": [
       "('Brian', None)"
      ]
     },
     "execution_count": 68,
     "metadata": {},
     "output_type": "execute_result"
    }
   ],
   "source": [
    "object3.name, object3.job"
   ]
  }
 ],
 "metadata": {
  "interpreter": {
   "hash": "cb6cd5bb8a4fc649266e1b95dae8ab58b18cb2208a1b6d749f13a16dd38b4c0e"
  },
  "kernelspec": {
   "display_name": "Python 3.9.7 64-bit ('learning-python': conda)",
   "name": "python3"
  },
  "language_info": {
   "name": "python",
   "version": "3.9.7"
  },
  "orig_nbformat": 4
 },
 "nbformat": 4,
 "nbformat_minor": 2
}
