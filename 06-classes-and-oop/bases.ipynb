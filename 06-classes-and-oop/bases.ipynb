{
 "cells": [
  {
   "cell_type": "markdown",
   "metadata": {},
   "source": [
    "# Class Coding Basics\n",
    "\n",
    "Programación orientada a objetos POO (o OOP en ingles) es un paradigma de programación que se basa en la abstraccione de objetos los cuales emulan o buscan representar partes u \"objetos\" del mundo real.\n",
    "\n",
    "Una vez se tenga una clase, esta puede generar instancias, es decir elementos unicos que se rigen por el la clase padre, algo asi como el resultado de usar el un molde, que en este caso sería la clase\n",
    "\n",
    "![Clases en python](./images/img1.png)\n",
    "\n",
    "la sintaxis para crear una clase en python es usando la palabra reservada ``class``\n"
   ]
  },
  {
   "cell_type": "code",
   "execution_count": 1,
   "metadata": {},
   "outputs": [
    {
     "name": "stdout",
     "output_type": "stream",
     "text": [
      "<__main__.MiClase object at 0x00000217F6B3B880>\n"
     ]
    }
   ],
   "source": [
    "class MiClase:\n",
    "    pass\n",
    "\n",
    "a = MiClase()\n",
    "print(a)"
   ]
  },
  {
   "cell_type": "markdown",
   "metadata": {},
   "source": [
    "Si quisiera agregar datos a un objeto, sean estos datos pasados como parámetro, debemos de crear un constructor, el constructor se define con el método ``__init__``"
   ]
  },
  {
   "cell_type": "code",
   "execution_count": null,
   "metadata": {},
   "outputs": [
    {
     "data": {
      "text/plain": [
       "(<__main__.MiClase at 0x217f6b2f100>, 'David')"
      ]
     },
     "execution_count": 2,
     "metadata": {},
     "output_type": "execute_result"
    }
   ],
   "source": [
    "class MiClase:\n",
    "    \n",
    "    def __init__(self, name):\n",
    "        self.name = name\n",
    "        \n",
    "a = MiClase('David')\n",
    "a, a.name"
   ]
  },
  {
   "cell_type": "markdown",
   "metadata": {},
   "source": [
    "Lo anterior que definimos es una clase cuyo constructor solicita un nombre el cual se guarda en el atributo de la clase cuyo nombre es name.\n",
    "\n",
    "Se puede observar que los métodos de las clases se definen como si fueran funciones comun y corriente, solo que dentro del contexto de la clase, es decir identado para decirle a Python que esa función es un método de la clase.\n",
    "\n",
    "como definición cada método de la clase debe de recibir el parámetro ``self`` el cual hace referencia a la instacia como tal, lo que le permite interactuar con ella misma a través de sus métodos.\n",
    "\n",
    "# Herencia\n",
    "\n",
    "Python soporta la herencia, y hasta mucho más. La herencia multiple, esto significa que es capaz de usar como base clases otra clase de la cual heredara todos sus atributos y métodos, a partir de ellos podra sobre escribirlos o agregar nuevos a su clase, y estos solo estarán asociados a la clase hija, no tendrán relación con la clase padre\n",
    "\n",
    "![herencia](./images/img2.png)\n",
    "\n",
    "# Classes Can Intercept Python Operators\n",
    "\n",
    "Las clases dentro de Python pueden interceptar o sobre escribir algunos operadores de Python, como sabrás Python se basa en clases y esto significa que cuando aplicamos algún operador de fondo lo que estamos haciendo es aplicar metodos a cada objeto de Python, estos métodos muchas veces se abstraen es decir que presentan en una forma mas amigable para el programador.\n",
    "\n",
    "Un ejemplo de esto es la suma o el simbulo + para los numeros, en donde lo que definen es la suma de valores númericos, pero el simbolo + en los tipos string se definen como la concatenación, Lo que realmente sucede tras bambalinas es que Python ejecuta el métdodo ``__str__`` del objeto o tipo asociado."
   ]
  },
  {
   "cell_type": "code",
   "execution_count": 4,
   "metadata": {},
   "outputs": [
    {
     "data": {
      "text/plain": [
       "9"
      ]
     },
     "execution_count": 4,
     "metadata": {},
     "output_type": "execute_result"
    }
   ],
   "source": [
    "a = 4\n",
    "a + 5, a.__add__(5)"
   ]
  },
  {
   "cell_type": "code",
   "execution_count": 6,
   "metadata": {},
   "outputs": [
    {
     "data": {
      "text/plain": [
       "('Hola mundo', 'Hola mundo')"
      ]
     },
     "execution_count": 6,
     "metadata": {},
     "output_type": "execute_result"
    }
   ],
   "source": [
    "s = 'Hola '\n",
    "s + 'mundo', s.__add__('mundo')"
   ]
  },
  {
   "cell_type": "markdown",
   "metadata": {},
   "source": [
    "Teniendo esto en cuenta es posible sobre escribir estos metodos en nuevos objetos creados por el usuario. pero antes debemos de tener en cuenta\n",
    "\n",
    "- **Methods named with double underscores (__X__) are special hooks**. In Python classes we implement operator overloading by providing specially named methods to intercept operations. The Python language defines a fixed and unchangeable\n",
    "mapping from each of these operations to a specially named method.\n",
    "\n",
    "- **Such methods are called automatically when instances appear in built-in operations**. For instance, if an instance object inherits an __add__ method, that method is called whenever the object appears in a + expression. The method’s return value becomes the result of the corresponding expression.\n",
    "\n",
    "- **Classes may override most built-in type operations**. There are dozens of special operator overloading method names for intercepting and implementing nearly every operation available for built-in types. This includes expressions, but also\n",
    "basic operations like printing and object creation.\n",
    "\n",
    "- **There are no defaults for operator overloading methods, and none are required**. If a class does not define or inherit an operator overloading method, it just means that the corresponding operation is not supported for the class’s instances. If there is no __add__, for example, + expressions raise exceptions.\n",
    "\n",
    "- **New-style classes have some defaults, but not for common operations**. In Python 3.X, and so-called “new style” classes in 2.X that we’ll define later, a root class named object does provide defaults for some __X__ methods, but not for many, and not for most commonly used operations.\n",
    "\n",
    "\n",
    "- **Operators allow classes to integrate with Python’s object model**. By overloading type operations, the user-defined objects we implement with classes can act just like built-ins, and so provide consistency as well as compatibility with expected interfaces.\n",
    "\n",
    "Veamos un ejemplo aplicado a las clases "
   ]
  },
  {
   "cell_type": "code",
   "execution_count": 7,
   "metadata": {},
   "outputs": [
    {
     "name": "stdout",
     "output_type": "stream",
     "text": [
      "Current value = \"abc\"\n"
     ]
    }
   ],
   "source": [
    "class FirstClass: # Define a class object\n",
    "    def setdata(self, value): # Define class's methods\n",
    "        self.data = value # self is the instance\n",
    "    def display(self):\n",
    "        print(self.data) # self.data: per instance\n",
    "\n",
    "class SecondClass(FirstClass): # Inherits setdata\n",
    "    def display(self): # Changes display\n",
    "        print('Current value = \"%s\"' % self.data)\n",
    "\n",
    "class ThirdClass(SecondClass): # Inherit from SecondClass\n",
    "    def __init__(self, value): # On \"ThirdClass(value)\"\n",
    "        self.data = value\n",
    "    def __add__(self, other): # On \"self + other\"\n",
    "        return ThirdClass(self.data + other)\n",
    "    def __str__(self): # On \"print(self)\", \"str()\"\n",
    "        return '[ThirdClass: %s]' % self.data\n",
    "    def mul(self, other): # In-place change: named\n",
    "        self.data *= other\n",
    "        \n",
    "a = ThirdClass('abc') # __init__ called\n",
    "a.display() # Inherited method called"
   ]
  },
  {
   "cell_type": "code",
   "execution_count": 9,
   "metadata": {},
   "outputs": [
    {
     "name": "stdout",
     "output_type": "stream",
     "text": [
      "[ThirdClass: abc]\n"
     ]
    }
   ],
   "source": [
    "print(a)"
   ]
  },
  {
   "cell_type": "code",
   "execution_count": 10,
   "metadata": {},
   "outputs": [
    {
     "name": "stdout",
     "output_type": "stream",
     "text": [
      "Current value = \"abcxyz\"\n"
     ]
    }
   ],
   "source": [
    "b = a + 'xyz' # __add__: makes a new instance\n",
    "b.display() # b has all ThirdClass methods"
   ]
  },
  {
   "cell_type": "code",
   "execution_count": 11,
   "metadata": {},
   "outputs": [
    {
     "name": "stdout",
     "output_type": "stream",
     "text": [
      "[ThirdClass: abcxyz]\n"
     ]
    }
   ],
   "source": [
    "print(b)"
   ]
  },
  {
   "cell_type": "code",
   "execution_count": 12,
   "metadata": {},
   "outputs": [
    {
     "name": "stdout",
     "output_type": "stream",
     "text": [
      "[ThirdClass: abcabcabc]\n"
     ]
    }
   ],
   "source": [
    "a.mul(3) # mul: changes instance in place\n",
    "print(a)"
   ]
  },
  {
   "cell_type": "markdown",
   "metadata": {},
   "source": [
    "Podemos interpretar la suma como el siguiente grafico\n",
    "\n",
    "![__add__](./images/img3.png)"
   ]
  }
 ],
 "metadata": {
  "interpreter": {
   "hash": "9228c2573cbbde0dac843b8968f6cfda5f3b714f9bc1009cf3aff046ad8f0798"
  },
  "kernelspec": {
   "display_name": "Python 3.9.7 64-bit ('learning-python-book': conda)",
   "name": "python3"
  },
  "language_info": {
   "codemirror_mode": {
    "name": "ipython",
    "version": 3
   },
   "file_extension": ".py",
   "mimetype": "text/x-python",
   "name": "python",
   "nbconvert_exporter": "python",
   "pygments_lexer": "ipython3",
   "version": "3.9.7"
  },
  "orig_nbformat": 4
 },
 "nbformat": 4,
 "nbformat_minor": 2
}
