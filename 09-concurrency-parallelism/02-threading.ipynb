{
 "cells": [
  {
   "cell_type": "markdown",
   "metadata": {},
   "source": [
    "# Threading (Hilos)\n",
    "\n",
    "El Threading es una de las formas que tiene Python para escribir programas que realicen multitareas y dar la sensación de que el programa esta haciendo mas de una cosa a la vez, para ello python dispone de la librería ``threading``\n",
    "\n",
    "---\n",
    "\n",
    "# Threads\n",
    "\n",
    "**Thread** es una clase de Python que viene del módulo **threding** que nos permite definir que unas tareas se ejecutarán en un hilo aparte del hilo principal del programa.\n",
    "\n",
    "# Estados de un Thread\n",
    "\n",
    "una vez que es creado un Thread, este no se empieza a ejecutar de una vez, se le debe de decir al programa cuando debe empezar a tenerlo en cuenta para ejecutar y esto,se hace con el método `start()`, una vez que se le ha dado la instrucción de ejecuta se deben de tener en cuenta los estados del hilo, los ilustramos en la siguiente grafica\n",
    "\n",
    "![grafica](./images/img6.png)\n",
    "\n",
    "tenemos en total 4 estados:\n",
    "\n",
    "- runnable = el Thread esta listo para empezar a ser ejecutado\n",
    "- running = el Thread esta en ejecución\n",
    "- waiting = el Thread se encuentra detenido a la espera de retomar la tarea\n",
    "- dead = el Thread ha terminado\n",
    "- live = este estado englobal a los demás menos a **dead** y significa que el Thread no ha terminado\n",
    "\n",
    "> los estados de **running** y **waiting** se pueden alternar varias veces hasta que se cumpla el proceso\n",
    "\n",
    "# Crear un Thread\n",
    "\n",
    "Es posible crear un Thread de dos formas.\n",
    "\n",
    "1. Creando una instancia del **Thread** y asignando un objeto invocable (callable object) al target\n",
    "2. Creando una dubclase que herde de **Thread** y rescribiendo su método `run()` para definir que queremos ejecutar\n",
    "\n",
    "## Instanciando la clase Thread\n",
    "\n",
    "Dentro de la clase Thread podemos encintrar seis argumentos y estos son:\n",
    "\n",
    "```python\n",
    "class threading.Thread(\n",
    "    group=None,\n",
    "    target=None,\n",
    "    name=None,\n",
    "    args=(),\n",
    "    kwargs={},\n",
    "    daemon=None\n",
    ")\n",
    "```\n",
    "\n",
    "> Al momento de instanciar una clase **Trhead** los parámetros se deben pasar por a través de su llaves\n",
    "\n",
    "La tarea de cada una de estos parámetros son:\n",
    "\n",
    "- group = No se usa, este se usará mas adelante cuando se hable de **ThreadingGroup**\n",
    "- target = el objeto invocable que se llamará\n",
    "- name = nombre que se le asignara al Thread, por defecto es \"Thread-N\" donde N es un número entero según el orden en que se vayan asignando\n",
    "- args = los argumentos del objeto invocable, estos deben ser pasados dentro de una tupla, si es uno se puede asignar ese unico valor sin la tupla\n",
    "- kwargs = son los kwargs adicionables que se le enviaran al objeto invocable\n",
    "- deamon = define si un objeto es un Threading Daemon o no\n",
    "\n",
    "Una vez que el **Thread** es creado el siguiente paso es ponerlo en estado de **runneable** con el método ``start()``, veamos un código de ejemplo\n"
   ]
  },
  {
   "cell_type": "code",
   "execution_count": 2,
   "metadata": {},
   "outputs": [
    {
     "name": "stdout",
     "output_type": "stream",
     "text": [
      "hello\n"
     ]
    }
   ],
   "source": [
    "from threading import Thread\n",
    "\n",
    "def simple_worker():\n",
    "    print('hello')\n",
    "\n",
    "# Create a new thread and start it\n",
    "# The thread will run the function simple_worker\n",
    "t1 = Thread(target=simple_worker)\n",
    "t1.start()"
   ]
  },
  {
   "cell_type": "markdown",
   "metadata": {},
   "source": [
    "En el ejemplo anterior la función **simple_worker** se ejecutará en un hilo (t1) aparte al principal (main) por lo que existirán dos hilos a lo largo de la ejecución del programa\n",
    "\n",
    "# La clase Thread\n",
    "\n",
    "La clase **Thread** tiene los siguientes atributos y parámetros\n",
    "\n",
    "- ``start()`` = es el método usado para dar la instrucción de inicio, esta instrucción solo se debe de ejecutar una vez de lo contrario levantara un error **RuntimeError**\n",
    "- ``run()`` = método que se encarga de ejecutar el target enviado en la instancia junto con los args y kwargs, además se puede sobreescribir dentro de subclases para modificar dicho comportamiento y tareas\n",
    "- ``join(timeout = None)`` = Este método nos permite definir que un Thread esta ligado a otro y el parámetro timeout define cuanto tiempo esperaremos a que el Thread al que esta ligado nos responda.\n",
    "- ``name`` = es un nombre identificativo dentro del programa\n",
    "- ``ident`` = es el identificador del Thread si esta ya se inicio, en caso contrario enviaría **None**, es un valor entero positivo\n",
    "- `is_alive()` = este método nos permite saber si el Thread esta activo o no y devuelve **True** desde que le damos ``start()`` hasta que el método ``run()`` es completado\n",
    "- ``daemon`` = devuelve **True** si es un Thread daemon o no\n",
    "\n",
    "un ejemplo de uso de estos métodos es el siguiente"
   ]
  },
  {
   "cell_type": "code",
   "execution_count": 3,
   "metadata": {},
   "outputs": [
    {
     "name": "stdout",
     "output_type": "stream",
     "text": [
      "hello\n",
      "t1 Name Thread-7\n",
      "t1 identificador (int) 11484\n",
      "t1 is alive? False\n"
     ]
    }
   ],
   "source": [
    "from threading import Thread\n",
    "\n",
    "def simple_worker():\n",
    "    print('hello')\n",
    "\n",
    "t1 = Thread(target=simple_worker)\n",
    "t1.start()\n",
    "\n",
    "print('t1 Name', t1.getName())\n",
    "print('t1 identificador (int)', t1.ident)\n",
    "print('t1 is alive?', t1.is_alive())"
   ]
  },
  {
   "cell_type": "markdown",
   "metadata": {},
   "source": [
    "uso del método ``join()`` para esperar al que otro Thread termine"
   ]
  },
  {
   "cell_type": "code",
   "execution_count": 8,
   "metadata": {},
   "outputs": [
    {
     "name": "stdout",
     "output_type": "stream",
     "text": [
      "Starting\n",
      "..........\n",
      "Done\n"
     ]
    }
   ],
   "source": [
    "from threading import Thread\n",
    "from time import sleep\n",
    "\n",
    "def worker():\n",
    "    for i in range(0, 10):\n",
    "        print('.', end='', flush=True)\n",
    "\n",
    "sleep(1)\n",
    "print('Starting')\n",
    "\n",
    "# Create read object with reference to worker function\n",
    "t = Thread(target=worker)\n",
    "\n",
    "# Start the thread object\n",
    "t.start()\n",
    "\n",
    "# Wait for the thread to complete\n",
    "t.join()\n",
    "print('\\nDone')"
   ]
  },
  {
   "cell_type": "markdown",
   "metadata": {},
   "source": [
    "---\n",
    "\n",
    "# Funciones del modulo Threading\n",
    "\n",
    "Existen varias funciones dentro del módulo **threading** que nos van a ayudar mucho a la hora de gestionar nuestros **Threading**'s\n",
    "\n",
    "- `threading.active_count()` = Regresa la cantidad de Threads activos en el programa\n",
    "- `threading.current_thread()` = regresa el Thread que se esta ejecutando actualmente\n",
    "- `threading.get_ident()` = regresa el identificador (ident) del Thread que se esta ejecutando actualmente\n",
    "- `threading.enumerate()` = regresa una lista con los Threads que se estan ejecutando actualmente, esto incluye deamons threads, dummy Threads objects y el Thread principla (main)\n",
    "- `threading.main_thread()` = devuelve el Thread princiapl (main)\n"
   ]
  },
  {
   "cell_type": "markdown",
   "metadata": {},
   "source": [
    "# Passing Arguments to a Thread\n",
    "\n",
    "Para enviar los parámetros a un Thread debemos de usar el atributo **args** al momento de instanciarlo, como se ve en el siguiente ejemplo"
   ]
  },
  {
   "cell_type": "code",
   "execution_count": 9,
   "metadata": {},
   "outputs": [
    {
     "name": "stdout",
     "output_type": "stream",
     "text": [
      "Starting\n",
      "ABCDone\n",
      "BACABCABCABCBACABCBACABCBAC"
     ]
    }
   ],
   "source": [
    "from threading import Thread\n",
    "from time import sleep\n",
    "\n",
    "def worker(msg):\n",
    "    for i in range(0, 10):\n",
    "        print(msg, end='', flush=True)\n",
    "        sleep(1)\n",
    "        \n",
    "        \n",
    "print('Starting')\n",
    "\n",
    "# create the threads\n",
    "t1 = Thread(target=worker, args='A')\n",
    "t2 = Thread(target=worker, args='B')\n",
    "t3 = Thread(target=worker, args='C')\n",
    "\n",
    "# init threads\n",
    "t1.start()\n",
    "t2.start()\n",
    "t3.start()\n",
    "\n",
    "print('Done')"
   ]
  },
  {
   "cell_type": "markdown",
   "metadata": {},
   "source": [
    "En el código anterior creamos tres **Threads** que reciben como **target** la función worker a la cual se le asignan parametros distintos a cada worker, una vez se le da inicio a los Threads estos ejecutan un loop en donde imprimen los mensajes y espera 1 segundo (``sleep(1)``), es en este punto cuadno se hace el cambio de Thread, podemos verlo graficamente en el siguiente grafico\n",
    "\n",
    "![grafico](./images/img7.png)\n",
    "\n",
    "# Creando una subclase de Thread\n",
    "\n",
    "Para crear un subclase debemos de seguir estos pasos\n",
    "1. crear una subclase que herede de Thread y pedir los parámetros definidos en un inicio\n",
    "2. sobreescribir el método ``__init__`` en el cual dentro de las tareas se debe de hacer el llamado al método ``super()`` del padre, es decir de Thread\n",
    "3. sobre escribir el método ``run()``\n",
    "\n",
    "un código de ejemplo sería"
   ]
  },
  {
   "cell_type": "code",
   "execution_count": 10,
   "metadata": {},
   "outputs": [],
   "source": [
    "from threading import Thread\n",
    "from time import sleep\n",
    "\n",
    "class WorkerThread(Thread):\n",
    "    \n",
    "    def __init__(self, daemon=None, target=None, name=None):\n",
    "        super().__init__(\n",
    "            daemon=daemon,\n",
    "            target=target,\n",
    "            name=name\n",
    "        )\n",
    "        \n",
    "    def run(self):\n",
    "        for _ in range(10):\n",
    "            print('.', end=' ', flush=True)\n",
    "            sleep(1)"
   ]
  },
  {
   "cell_type": "markdown",
   "metadata": {},
   "source": [
    "Una vez se tenga la clase creda podremos hacer uso de ella"
   ]
  },
  {
   "cell_type": "code",
   "execution_count": 11,
   "metadata": {},
   "outputs": [
    {
     "name": "stdout",
     "output_type": "stream",
     "text": [
      "Starting\n",
      ". \n",
      "done\n",
      ". . . . . . . . . "
     ]
    }
   ],
   "source": [
    "print('Starting')\n",
    "\n",
    "t = WorkerThread()\n",
    "t.start()\n",
    "\n",
    "print('\\ndone')"
   ]
  },
  {
   "cell_type": "markdown",
   "metadata": {},
   "source": [
    "> Es buena práctica llamar la clase que hereda SomeNameThread\n",
    "\n",
    "# Daemon Threads\n",
    "\n",
    "El daemon thread o hilo demoniaco en español 😂, es un Thread que se ejecutara siempre mientras el hilo principal (main) esta activo, si este se termina automaticamente el daemon thread se terminará sin completar el proceso , veamoslo en el código"
   ]
  },
  {
   "cell_type": "code",
   "execution_count": 13,
   "metadata": {},
   "outputs": [
    {
     "name": "stdout",
     "output_type": "stream",
     "text": [
      "Starting\n",
      "CCCCCDone\n",
      "CCCCC"
     ]
    }
   ],
   "source": [
    "from threading import Thread\n",
    "from time import sleep\n",
    "\n",
    "\n",
    "def worker(msg):\n",
    "    for i in range(0, 10):\n",
    "        print(msg, end='', flush=True)\n",
    "            \n",
    "        \n",
    "        \n",
    "print('Starting')\n",
    "\n",
    "# Create a daemon thread\n",
    "d = Thread(daemon=True, target=worker, args='C')\n",
    "d.start()\n",
    "\n",
    "# tiempo adicional en el main\n",
    "sleep(5)\n",
    "\n",
    "print('Done')"
   ]
  },
  {
   "cell_type": "markdown",
   "metadata": {},
   "source": [
    "# Naming Threads\n",
    "\n",
    "Nombrar los Threads es sencillamente enviar el nombre que queremos utilizar al atributo de la instancia, veamoslo en código"
   ]
  },
  {
   "cell_type": "code",
   "execution_count": 1,
   "metadata": {},
   "outputs": [],
   "source": [
    "from threading import Thread, enumerate\n",
    "from time import sleep\n",
    "\n",
    "def worker(msg):\n",
    "    for _ in range(10):\n",
    "        print(msg, end='', flush=True)\n",
    "        sleep(1)"
   ]
  },
  {
   "cell_type": "code",
   "execution_count": 2,
   "metadata": {},
   "outputs": [
    {
     "name": "stdout",
     "output_type": "stream",
     "text": [
      "ABC\n",
      "MainThread\n",
      "Thread-4\n",
      "Thread-5\n",
      "Thread-3\n",
      "IPythonHistorySavingThread\n",
      "Thread-2\n",
      "worker\n",
      "Thread-6\n",
      "daemon\n",
      "ACBABCACBBACABCBACABCABCBAC"
     ]
    }
   ],
   "source": [
    "t1 = Thread(name=\"worker\", target=worker, args='A')\n",
    "t2 = Thread(target=worker, args='B')\n",
    "t3 = Thread(daemon=True, target=worker, args='C', name='daemon')\n",
    "\n",
    "t1.start()\n",
    "t2.start()\n",
    "t3.start()\n",
    "\n",
    "print()\n",
    "for t in enumerate():\n",
    "    print(t.getName())"
   ]
  },
  {
   "cell_type": "markdown",
   "metadata": {},
   "source": [
    "# Thread local data\n",
    "\n",
    "Habrán csaso en los que necesitemos ejecutar varios Threads pero que estos deban de tener su propio espacio de memoria y que no compartan los datos entre si, para ello **threading** pone a disposición la funcion ``local()`` que nos genera una instancia del objeto Threading-local que nos ayuda a gestionar la memoria para cada Threading.\n",
    "\n",
    "podemos ilustrar el funcionamiento en el siguiente grafico\n",
    "\n",
    "![grafioc](./images/img8.png)\n",
    "\n",
    "para utilizarlo es sencillo, debemos de crear la instancia con la función ``local()`` y esa instancia es la que pasaremos como parámetro a nuestros targets al instanciar el Thread."
   ]
  },
  {
   "cell_type": "code",
   "execution_count": 4,
   "metadata": {},
   "outputs": [
    {
     "name": "stdout",
     "output_type": "stream",
     "text": [
      "MainThread  - Starting\n",
      "MainThread  - No value yet\n",
      "W0  - No value yet\n",
      "W0  - value = 97\n",
      "W1  - No value yet\n",
      "W1  - value = 58\n",
      "MainThread  - No value yet\n",
      "MainThread  - Done\n"
     ]
    }
   ],
   "source": [
    "from threading import Thread, local, currentThread\n",
    "from random import randint\n",
    "\n",
    "\n",
    "def show_value(data):\n",
    "    try:\n",
    "        val = data.value\n",
    "    except AttributeError:\n",
    "        print(currentThread().name, ' - No value yet')\n",
    "    else:\n",
    "        print(currentThread().name, ' - value =', val)\n",
    "\n",
    "\n",
    "def worker(data):\n",
    "    show_value(data)\n",
    "    data.value = randint(1, 100)\n",
    "    show_value(data)\n",
    "\n",
    "\n",
    "print(currentThread().name, ' - Starting')\n",
    "local_data = local()\n",
    "show_value(local_data)\n",
    "\n",
    "for i in range(2):\n",
    "    t = Thread(name='W' + str(i), target=worker, args=[local_data])\n",
    "    t.start()\n",
    "\n",
    "\n",
    "show_value(local_data)\n",
    "print(currentThread().name, ' - Done')\n"
   ]
  },
  {
   "cell_type": "markdown",
   "metadata": {},
   "source": [
    "# Timers\n",
    "\n",
    "**Timer** es una subclase que hereda de **Trhead** y nos permite crear un hilo e iniciarlo con delay, también nos permite cancelar la ejecución de un Hilo si este no ha iniciado con el usao del método ``cancel()``\n",
    "\n",
    "Este Thread tiene la siguiente estructura\n",
    "\n",
    "`Timer(interval, function, args = None, kwargs = None)`\n",
    "\n",
    "Un ejemplo de uso es:"
   ]
  },
  {
   "cell_type": "code",
   "execution_count": 5,
   "metadata": {},
   "outputs": [
    {
     "name": "stdout",
     "output_type": "stream",
     "text": [
      "Starting\n",
      "Done\n",
      "hello\n"
     ]
    }
   ],
   "source": [
    "from threading import Timer\n",
    "\n",
    "def hello():\n",
    "    print('hello')\n",
    "    \n",
    "    \n",
    "print('Starting')\n",
    "t = Timer(5, hello)\n",
    "t.start()\n",
    "print('Done')"
   ]
  },
  {
   "cell_type": "markdown",
   "metadata": {},
   "source": [
    "# The Global Interpreter Lock\n",
    "\n",
    "GIL o global Interpreter Lock es un sistema de bajo nivel, normalmente usado en CPython pero no en los programas que empleen threading, es un mecanismo que nos permite controlar quien tiene control del core asi se evita que se tengan que lidiar con mezclas o perdidas de información\n",
    "\n",
    "normalmente los Threads no tiene  acceso a GIl y cunado existen multiples tareas, tienden a ser menos eficientes, para ello podemos utiliza el módulo **miltiprocessing**"
   ]
  }
 ],
 "metadata": {
  "interpreter": {
   "hash": "e10c588331812ce8644711cf49296cc7106d891fd97acbc1dbff548955ff74f4"
  },
  "kernelspec": {
   "display_name": "Python 3.9.7 64-bit ('learn-python': conda)",
   "name": "python3"
  },
  "language_info": {
   "codemirror_mode": {
    "name": "ipython",
    "version": 3
   },
   "file_extension": ".py",
   "mimetype": "text/x-python",
   "name": "python",
   "nbconvert_exporter": "python",
   "pygments_lexer": "ipython3",
   "version": "3.9.7"
  },
  "orig_nbformat": 4
 },
 "nbformat": 4,
 "nbformat_minor": 2
}
