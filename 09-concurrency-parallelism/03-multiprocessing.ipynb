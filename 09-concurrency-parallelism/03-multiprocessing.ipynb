{
 "cells": [
  {
   "cell_type": "markdown",
   "metadata": {},
   "source": [
    "# Multiprocessing\n",
    "\n",
    "**multiprocessing** es un módulo de Python que nos permite manejar varios procesos al mismo tiempo, a diferencia de threading que nos permitia manipular procesos livianos que no tenian espacio ni direcciones de memoria dedicados, sino que todos compartian un solo hilo (similar a JavaScript), multiprocessing nos permite crear nuevos procesos y poder llevar atareas mas robustas y realmente manejar multitareas, esto con ayuda del sistema operativo ya que no es python el que se encarga de adminitrar los procesos sino el sistema operativo como tal.\n",
    "\n",
    "---\n",
    "\n",
    "# la clase Process \n",
    "\n",
    "**Process** es una clase similar a Thread the threading que nos permite crear nuevos procesos y sus atributos y métodos son similares a los que ya vimos de Thread, **Process** tiene la siguiente estructura\n",
    "\n",
    "`class multiprocessing.Process(group=None, target=None, name=None, args=(), kwargs={}, daemon=None)`\n",
    "\n",
    "y cada uno de sus parámetros tiene lña siguiente función\n",
    "\n",
    "- ``group`` = no hace nada solo es usado para seguir la misma estructura de Thread\n",
    "- ``target`` = es el objeto invocable que se enviara puede ser un método o función\n",
    "- ``name`` = es el nombre que le asignas, es muy util en tareas de depuración\n",
    "- ``args`` = los argumentos enviados al obj invocable ( viene en formato de tupla )\n",
    "- ``kwargs`` = un diccionario con los argumentos que serán enviados al obj invocable\n",
    "- ``daemon`` = define si el proceso será un daemon process, un daemon process no podrá crear nuevos hijos\n",
    "\n",
    "# Métodos y atributos de la clase Process\n",
    "\n",
    "- `start()` = es el método que inicia el proceso\n",
    "- `join([timeout])` = permite enlazar el priceso a otro que debera temrinarse para ejecutarse, si se envia el parametro timeout (float) ese sera el tiempo que esperará a que el otro proceso termine o de lo contrario ya no lo ejecutará\n",
    "- `is_alive()` = nos permite saber si el proceso sigue activo o no\n",
    "- `terminate()` = termina el proceso en cuestion, es decir que envia la señal de terminado para que el se encargue de realizar toda la tarea\n",
    "- `kill()` = hace lo mismo que terminado pero forza al proceso a terminar si no lo hace lo elimina de una\n",
    "- `close()` = Cierra el proceso y libera todos los recursos asociados, una vez que un procesos es cerrado la mayoria de sus métodos y atributos enviara `ValueError` \n",
    "- `name` = nombre con el cual identifican al proceso\n",
    "- `daemon` = si el proceso es daemon o no\n",
    "- `pid` = es el Process ID del proceso en cuestion\n",
    "- `exitcode` = es el codigo con el que termino la tarea, envia None en caso de que no haya terminado aun\n"
   ]
  },
  {
   "cell_type": "markdown",
   "metadata": {},
   "source": [
    "# Uso de Process"
   ]
  },
  {
   "cell_type": "code",
   "execution_count": 4,
   "metadata": {},
   "outputs": [
    {
     "name": "stdout",
     "output_type": "stream",
     "text": [
      "Starting\n",
      "Done\n"
     ]
    }
   ],
   "source": [
    "from multiprocessing import Process\n",
    "from time import sleep\n",
    "\n",
    "def worker(msg):\n",
    "    for i in range(0, 10):\n",
    "        print(msg, end='', flush=True)\n",
    "        sleep(1)\n",
    "\n",
    "print('Starting')\n",
    "\n",
    "t2 = Process(target=worker, args='A')\n",
    "t3 = Process(target=worker, args='B')\n",
    "t4 = Process(target=worker, args='C')\n",
    "\n",
    "t2.start()\n",
    "t3.start()\n",
    "t4.start()\n",
    "\n",
    "print('Done')\n"
   ]
  },
  {
   "cell_type": "markdown",
   "metadata": {},
   "source": []
  },
  {
   "cell_type": "markdown",
   "metadata": {},
   "source": [
    "# Alternative Ways to Start a Process\n",
    "\n",
    "existen tres maneras de iniciar un proceso, y estos se definen con el método ``set_start_method()`` cuyo valor se pasa en formato string y sus valores son:\n",
    "\n",
    "- ``spawn`` = es el valor por defecto de windows y lo que hace es crear un nuevo interprete de Python en donde ejecutara el método ``run()`` con los datos enviados desde un principio, se puede usar tanto para windows, linux y mac OS\n",
    "- `fork` = este es usado para clonar un nuevo interprete del proceso que esta creando un hijo, de tal forma que aunque son procesos separados podrán tener la misma información disponible en el inicio, esta es el valor por defecto de Linux y esposible usarlo en Mac OS también\n",
    "- `forkserver` = funciona similar a forks pero cada vez que crea un proceso hijo, llama al proceso padre apra pedirle un clon del interprete, esta dispinible para Linux\n",
    "\n",
    "un ejemplo de uso sería"
   ]
  },
  {
   "cell_type": "code",
   "execution_count": 2,
   "metadata": {},
   "outputs": [
    {
     "name": "stdout",
     "output_type": "stream",
     "text": [
      "Starting\n",
      "Root application process id: 22584\n",
      "Done\n"
     ]
    }
   ],
   "source": [
    "from multiprocessing import Process\n",
    "from multiprocessing import set_start_method\n",
    "from time import sleep\n",
    "import os\n",
    "\n",
    "\n",
    "def worker(msg):\n",
    "    print('module name:', __name__)\n",
    "    print('parent process:', os.getppid())\n",
    "    print('process id:', os.getpid())\n",
    "    for i in range(0, 10):\n",
    "        print(msg, end='', flush=True)\n",
    "        sleep(1)\n",
    "\n",
    "\n",
    "def main():\n",
    "    print('Starting')\n",
    "    print('Root application process id:', os.getpid())\n",
    "    set_start_method('spawn')\n",
    "    t = Process(target=worker, args='A')\n",
    "    t.start()\n",
    "    print('Done')\n",
    "\n",
    "\n",
    "if __name__ == '__main__':\n",
    "    main()\n"
   ]
  },
  {
   "cell_type": "markdown",
   "metadata": {},
   "source": [
    "# Using a Pool\n",
    "\n",
    "La creación de procedimientos tiene un costo alto de recursos, por eso **multiprocessing** nos ofrece una clase llamada **Pool** que nos permite reutilizar procesos antes de terminarlos, así nos ahorramos ese gasto de tiempo y recursos.\n",
    "\n",
    "la clase Pool tiene la siguiente sintaxis\n",
    "\n",
    "```python\n",
    "class multiprocessing.pool.Pool(processes, initializer, initargs, maxtasksperchild, context)\n",
    "```\n",
    "\n",
    "- ``processes`` = es el numero de workers que se usarán, en caso de None, se usará el valor de de ``os.cpu_coun()``\n",
    "- ``initializer`` = un objeto invocable\n",
    "- ``initargs`` = los argumentos que son enviados al obj invocable\n",
    "- ``maxtasksperchild`` = define el numero de tareas que ejecutará un worker antes de ser reemplazado por uno nuevo, en caso de None cada worker durará lo que dure el Pool\n",
    "- ``context`` = permite especificar el contexto usado para iniciar los process workers\n",
    "\n",
    "Esta clase nos permite definir procesos que estarán a dispoción del objeto, el cual se encargara de realizar la administración y asignación de tareas a estos, podemos verlo mas claro en el siguiente grafico\n",
    "\n",
    "![grafico](./images/img9.png)"
   ]
  },
  {
   "cell_type": "markdown",
   "metadata": {},
   "source": [
    "# modo de uso de los métodos de Pool\n",
    "\n",
    "La mas emocionante de Pool es que es muy sencillo utilizarlo con ayuda de sus métodos, uno de ellos es ``map()``\n",
    "\n",
    "`pool.map(func, iterable, chunksize=None)`\n",
    "\n",
    "- `func` = es un objeto invocable\n",
    "- `iterable` = son los datos o valores que se le deben de enviar al obj invocable\n",
    "- `chunksize` = hace referencia a la cantidad de datos que se le deben de enviar de ``iterable`` a ``func`` en caso que sea menor al iterable se ejecutara x veces la función hasta completar los iterables\n",
    "\n",
    "podemos verlo en el siguiente código"
   ]
  },
  {
   "cell_type": "code",
   "execution_count": null,
   "metadata": {},
   "outputs": [],
   "source": [
    "from multiprocessing import Pool\n",
    "\n",
    "def worker(x):\n",
    "    print('In worker with: ', x)\n",
    "    return x * x\n",
    "\n",
    "\n",
    "def main():\n",
    "    with Pool(processes=4) as pool:\n",
    "        print(pool.map(worker, [0, 1, 2, 3, 4, 5]))\n",
    "    \n",
    "if __name__ == '__main__':\n",
    "    main()"
   ]
  },
  {
   "cell_type": "markdown",
   "metadata": {},
   "source": [
    "> Ejecute el programa ``pool-base.py`` para verlo en funcionamiento\n",
    "\n",
    "# Exchanging Data Between Processes\n",
    "\n",
    "Para intercambiar datos entre procesos, el módulo multiprocessing nos ofrece la función ``Pipe()``, esta función se encarga de habilitar una interfaz entre dos procesos, por defecto la comunicación es de dos caminos, es decir que ambos procesos pueden comunicarse entre si, aunque esto puede ser modificado, la comunicación se hace através de los metodos ``send()`` y ``recv()``, podemos visualizar el funcionamiento en el siguiente grafico\n",
    "\n",
    "![grafico](./images/img10.png)\n"
   ]
  },
  {
   "cell_type": "code",
   "execution_count": null,
   "metadata": {},
   "outputs": [],
   "source": [
    "from multiprocessing import Process, Pipe\n",
    "from time import sleep\n",
    "\n",
    "def worker(conn):\n",
    "    print('Worker - started now sleeping for 1 second')\n",
    "    sleep(1)\n",
    "    print('Worker - sending data via Pipe')\n",
    "    conn.send('Hello!')\n",
    "    print('Worker - closing worker end of connection')\n",
    "    conn.close()\n",
    "    \n",
    "def main():\n",
    "    print('Main - starting, creating the pipe')\n",
    "    main_connection, worker_connection = Pipe()\n",
    "    print('Main - setting up the process')\n",
    "    p = Process(target=worker, args=[worker_connection])\n",
    "    print('Main - Starting the process')\n",
    "    p.start()\n",
    "    print('Main - Wait for a response from the child process')\n",
    "    print(main_connection.recv())\n",
    "    print('Main - Closing parent process end of conenction')\n",
    "    main_connection.close()\n",
    "    print('Main - Done')\n",
    "    \n",
    "if __name__ == '__main__':\n",
    "    main()"
   ]
  },
  {
   "cell_type": "markdown",
   "metadata": {},
   "source": [
    "> Ejecutar el programa ``pool-pipe.py`` para verlo en funcionamiento\n",
    "\n"
   ]
  }
 ],
 "metadata": {
  "interpreter": {
   "hash": "e10c588331812ce8644711cf49296cc7106d891fd97acbc1dbff548955ff74f4"
  },
  "kernelspec": {
   "display_name": "Python 3.9.7 64-bit ('learn-python': conda)",
   "name": "python3"
  },
  "language_info": {
   "codemirror_mode": {
    "name": "ipython",
    "version": 3
   },
   "file_extension": ".py",
   "mimetype": "text/x-python",
   "name": "python",
   "nbconvert_exporter": "python",
   "pygments_lexer": "ipython3",
   "version": "3.9.7"
  },
  "orig_nbformat": 4
 },
 "nbformat": 4,
 "nbformat_minor": 2
}
