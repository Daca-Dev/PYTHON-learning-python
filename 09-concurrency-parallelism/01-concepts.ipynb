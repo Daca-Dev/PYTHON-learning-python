{
 "cells": [
  {
   "cell_type": "markdown",
   "metadata": {},
   "source": [
    "# Concurrencia y paralelismo\n",
    "\n",
    "Antes de ver código debemos de definir los conceptos de concurrencia y paralelimos, así como otros que nos van ayudar a la hora de escribir código\n",
    "\n",
    "---\n",
    "\n",
    "# Concurrencia\n",
    "\n",
    "La concurrecia la define el diccionario como\n",
    "\n",
    "> two or more events or circumstances happening or existing at the same time.\n",
    "\n",
    "pero esto pasado a la computación sería como la ejecución de dos o mas tareas en simultaneo, es decir en nucleos distintos, en el pasado los chips solo tenian de a un núcleo pero con el avance de la tecnología ya no es posible tener chips con dos o mas cores, estos son los chips que podemos llegar a usar para aplicar la concurrencia donde cada core, ejecutará una tarea en especifico.\n",
    "\n",
    "para ilustrar esta diea miremos como normalmente funciona un código de Python, supongamos que tenemos tres tareas cada una de ellas se ejecuta en un tiempo especifico y no tiene relación entre si.\n",
    "\n",
    "![grafico](./images/img1.png)\n",
    "\n",
    "si aplicamos la idea de concurrencia tendriamos un grafico como el siguiente\n",
    "\n",
    "![grafico](./images/img2.png)\n",
    "\n",
    "Analizando los dos graficos lo primero que notamos es que disminuimos el tiempo de ejecución con lo que optimizamos increiblemente el código.\n",
    "\n",
    "> Cabe resaltar que el tiempo de ejecución sera levemente mayor al de la tarea mas larga, ya que el código ejecutará tareas extra para poder gestionar la concurrencia\n",
    "\n",
    "# Paralelimos\n",
    "\n",
    "El paralelismo hace se refiere a tareas complejas que muchas veces son ejecutadas en micro tareas que reciben los mismo datos y hacen el mismo procesamiento, muchas veces incluso llegan a ser las mismas fucniones solo que con una entrada de datos diferente, y como son micro tareas de una tarea mas grande, sus resultados en la mayoria de los casos se debend e mezclar o compartir.\n",
    "\n",
    "A las tareas o funciones repetitivas que se pueden ejecutar al mismo tiempo para al final tener en conjunto un solo resultado es a lo que llamamos paralelismo\n",
    "\n",
    "un ejemplo lo podemos encontrar en el campo del procesamiento de imagenes, si tuvieramos que procesar cada pixel de manera secuencial nos tardiriamos mucho tiempo, pero en cambio si realizamos las tareas de manera simultanea aunque sean las mismas, estamos optimizando el tiempo y la maquina, lo mismo sucede con el procesamiento de datos\n",
    "\n",
    "en un grafico lo podriamos ilustrar de la siguiente manera\n",
    "\n",
    "![grafico](./images/img3.png)\n",
    "\n",
    "# Distribución\n",
    "\n",
    "La distribución hace referencia a la tarea de asignar las tareas a difernente maquinas, es decir que mientras concurrencia y paralelismo dice que divide las tareas en multiples nucleos, la distribución especifica como se deben de distribuir esas tareas.\n",
    "\n",
    "Esto se puede hacer desde el uso de diferentes maquinas que se ponen al servicio de una principal o incluso dividiendo las tareas entre los recursos del mismo equipo, esto gracias a los avances de cantidad de nucleos por chip\n",
    "\n",
    "# Grid Computing (Computación en cudrícula)\n",
    "\n",
    "una grilla de computación es un conjunto de computadores o maquinas, sean fisicas o virtuales que estan conectadas a través de la red y que son usadas para distribuir los trabajos que lleguen a un computador maestro que es el encargado de distribuir y manejar las concurrecias y paralelismos, se podria interpretar una grilla como\n",
    "\n",
    "![grafico](./images/img4.png)\n",
    "\n",
    "Normalmente el computador que se encarga de gestionar la red dec omputadores no se encuentra en la misma red sino que es como un observador de esta, el se encarga de recibir las peticiones y segun el estado de la red de computadores asigna las tareas, se puede ilustrar en el siguiente grafico\n",
    "\n",
    "![grafico](./images/img5.png)\n",
    "\n",
    "# Concurrency and Synchronisation\n",
    "\n",
    "La sincronización en la concurrencia consiste en manejar aquellas tareas que debend e generar datos o información para otras tareas para que estas se puedan ejecutar, es decir que hay tareas condicionadas a otras, esto hace que las tareas ya no sean independientes por lo que debe haber un orden de sincronia para la ejecución de tareas.\n",
    "\n",
    "Incluso puede haber el caso en que hayan tareas de concurrencia pero que una en especifico no se pueda manejar de esta manera, es ahi donde el sincronismo entra a ser un factor importante\n"
   ]
  }
 ],
 "metadata": {
  "interpreter": {
   "hash": "cb6cd5bb8a4fc649266e1b95dae8ab58b18cb2208a1b6d749f13a16dd38b4c0e"
  },
  "kernelspec": {
   "display_name": "Python 3.9.7 64-bit ('learning-python': conda)",
   "name": "python3"
  },
  "language_info": {
   "name": "python",
   "version": "3.9.7"
  },
  "orig_nbformat": 4
 },
 "nbformat": 4,
 "nbformat_minor": 2
}
