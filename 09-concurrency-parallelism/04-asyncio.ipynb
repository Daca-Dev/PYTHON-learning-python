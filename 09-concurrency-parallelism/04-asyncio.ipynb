{
 "cells": [
  {
   "cell_type": "markdown",
   "metadata": {},
   "source": [
    "# AsyncIO\n",
    "\n",
    "AsyncIO fue implementado en Python 3.4 pero no fue hasta Pythn 3.7 en que se agregaron las palabras clave ``async`` y ``await`` que veremos mas adelante, AsyncIO funciona un poco parecido a lo que es JavaScript, nos permite ejecutar tareas en un solo core (un solo hilo) simulando asincronismo con el uso del **Event Loop**.\n",
    "\n",
    "El **event loop** es un programa que decide a que tarea ceder control para ejecutarse, es decir que el programa tiene un hilo principal el cual al completarse le dara el control al **event loop** para que verifique si hay mas tareas que se puedan ejecutar, si no las hay esperará hasta que haya alguna que este lista o se hayan realizado todas las tareas, en el siguiente grafico podremos ver mas claro la forma de actuar\n",
    "\n",
    "![grafico](./images/img11.png)"
   ]
  },
  {
   "cell_type": "markdown",
   "metadata": {},
   "source": [
    "El **event loop** se encarga de administrar y ceder el control del core o Thread principal, esto facilita al programador de las partes administrativas y de los errores y ofrece una ventaja con respecto a Threads y Process, por el lado de **Threads** nos permite manejar mucho mejor gran cantidad de tareas evitandonos problemas con el GIL mientras del lado de **Process** nos facilita y optimiza la creación de los procesos\n",
    "\n",
    "> AsyncIO es un punto medio entre **Thread** y **Process**\n",
    "\n",
    "Vamos a verlo en nuestro primero código"
   ]
  },
  {
   "cell_type": "code",
   "execution_count": null,
   "metadata": {},
   "outputs": [],
   "source": [
    "import asyncio\n",
    "import time\n",
    "\n",
    "\n",
    "async def worker():\n",
    "    print('worker - will take some time')\n",
    "    time.sleep(3)\n",
    "    print('worker - done it')\n",
    "    return 42\n",
    "\n",
    "\n",
    "async def do_something():\n",
    "    print('do_something - will wait for worker')\n",
    "    result = await worker()\n",
    "    print('do_something - result:', result)\n",
    "\n",
    "\n",
    "def main():\n",
    "    print('Main - Starting')\n",
    "    asyncio.run(do_something())\n",
    "    print('Main - Done')\n",
    "\n",
    "\n",
    "if __name__ == '__main__':\n",
    "    main()\n"
   ]
  },
  {
   "cell_type": "markdown",
   "metadata": {},
   "source": [
    "> para ver el comportamiento del código debes de ejecutar el programa ``asyncio-base.py``\n",
    "\n",
    "y obtendremos el siguiente resultado\n",
    "\n",
    "```python\n",
    "Main - Starting\n",
    "do_something - will wait for worker\n",
    "worker - will take some time\n",
    "worker - done it\n",
    "do_something - result: 42\n",
    "Main - Done\n",
    "```\n",
    "\n",
    "# Tareas con AsyncIO\n",
    "\n",
    "nosotros podriamos reemplazar ``asyncio.run(...)`` por el uso de las palabras clave ``async`` y ``await``, ya que es la tarea mas simple y mas usada al momento de programar con este tipo estructuras, pero **asyncio** nos permite utilizar otras funciones para manipular diferentes tareas, estas son\n",
    "\n",
    "- `asyncio.create_task()` = esta función toma una función marcada con un ``async`` y la encapsula (wrapper) en una instancia de la clase **Task** y la agrega a la cola del **Event Loop**\n",
    "- `asyncio.gather(*aws)` = esta función recibe una cantidad finita de funciones async a las cuales crea una instancia Task como en el caso anterior y las agrega al **Event Loop** una vez se terminan retorna una lista con los resultados según el orden en que se enviaron cmo parámetros\n",
    "- `asyncio.as_completed(aws)` = Runs each of the async functions passed to it\n"
   ]
  },
  {
   "cell_type": "markdown",
   "metadata": {},
   "source": [
    "Hasta este punto hemos hablado de instancia la clase **Task** esta clase pone a disposición los siguiente métodos\n",
    "\n",
    "- `cancel()` = cancela la tarea actual, al llamara este método se enviara el error ``CancelledError``\n",
    "- `cancelled()` = devuelve un valor booleano si la tarea esta cancelada o no\n",
    "- `result()` = devuelve el resutlado de la tarea si ya termino, en caso contrario devuelve un erro ``InvalidStateError``\n",
    "- `exception()` = devuelve el error que se haya levantado en la Tarea ``CancelledError`` o ``InvalidStateError``\n",
    "- `add_done_callback(callback)` = Add a callback to be run when the Task is done \n",
    "- `remove_done_callback(callback)` = Remove callback from the callbacks list"
   ]
  },
  {
   "cell_type": "code",
   "execution_count": null,
   "metadata": {},
   "outputs": [],
   "source": [
    "import asyncio\n",
    "\n",
    "\n",
    "async def worker():\n",
    "    print('worker - will take some time')\n",
    "    await asyncio.sleep(1)\n",
    "    print('worker - Done it')\n",
    "    return 42\n",
    "\n",
    "\n",
    "def print_it(task):\n",
    "    print('print_it result:', task.result())\n",
    "\n",
    "\n",
    "async def do_something():\n",
    "    print('do_something - create task for worker')\n",
    "    task = asyncio.create_task(worker())\n",
    "    print('do_something - add a callback')\n",
    "    task.add_done_callback(print_it)\n",
    "    await task\n",
    "    # Information on task\n",
    "    print('do_something - task.cancelled():', task.cancelled())\n",
    "    print('do_something - task.done():', task.done())\n",
    "    print('do_something - task.result():', task.result())\n",
    "    print('do_something - task.exception():', task.exception())\n",
    "    print('do_something - finished')\n",
    "\n",
    "\n",
    "def main():\n",
    "    print('Main - Starting')\n",
    "    asyncio.run(do_something())\n",
    "    print('Main - Done')\n",
    "\n",
    "\n",
    "if __name__ == '__main__':\n",
    "    main()\n"
   ]
  },
  {
   "cell_type": "markdown",
   "metadata": {},
   "source": [
    "Tendremos el siguiente resultado\n",
    "\n",
    "```python\n",
    "Main - Starting\n",
    "do_something - create task for worker\n",
    "do_something - add a callback\n",
    "worker - will take some time\n",
    "worker - Done it\n",
    "print_it result: 42\n",
    "do_something - task.cancelled(): False\n",
    "do_something - task.done(): True\n",
    "do_something - task.result(): 42\n",
    "do_something - task.exception(): None\n",
    "do_something - finished\n",
    "Main - Done\n",
    "```"
   ]
  }
 ],
 "metadata": {
  "interpreter": {
   "hash": "e10c588331812ce8644711cf49296cc7106d891fd97acbc1dbff548955ff74f4"
  },
  "kernelspec": {
   "display_name": "Python 3.9.7 64-bit ('learn-python': conda)",
   "name": "python3"
  },
  "language_info": {
   "codemirror_mode": {
    "name": "ipython",
    "version": 3
   },
   "file_extension": ".py",
   "mimetype": "text/x-python",
   "name": "python",
   "nbconvert_exporter": "python",
   "pygments_lexer": "ipython3",
   "version": "3.9.7"
  },
  "orig_nbformat": 4
 },
 "nbformat": 4,
 "nbformat_minor": 2
}
