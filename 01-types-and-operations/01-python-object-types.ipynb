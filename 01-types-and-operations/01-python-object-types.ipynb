{
 "cells": [
  {
   "cell_type": "markdown",
   "metadata": {},
   "source": [
    "# Introducing Python Object Types\n",
    "\n",
    "> Para obtener información respecto a los métodos de una variable podemos de usar el comando  `dir(var)` donde `var` es la instancia de un elemento\n",
    "\n",
    "> También puedes obtener información de un método en especifico con la palabra clave `help(var)`\n",
    "\n",
    "## Core data types\n",
    "\n",
    "Python se basa en objetos y en teoría todos los elementos de Python son objetos, y los tipos de datos base de Python no son la excepción aunque python lo oculte en sus operadores y forma de uso durante la sintaxis.\n",
    "\n",
    "Los datos base de Python o datos primitivos son\n",
    "\n",
    "- numbers → enteros, de coma flotante y los números complejos\n",
    "- strings → Hace referencia a cadenas de texto, sea un carácter o más\n",
    "- booleano → Un valor binario de verdadero o falso (True o False)\n",
    "- files → Es un objeto que nos permite manipular archivos externos al script, desde texto plano hasta archivos pdf, excel, etc.\n",
    "\n",
    "### numbers\n",
    "\n",
    "Los **numbers** son valores inmutables es decir que no puedes modificar tu valor, pero que si puedes reasignar tu variable"
   ]
  },
  {
   "cell_type": "code",
   "execution_count": 1,
   "metadata": {},
   "outputs": [
    {
     "name": "stdout",
     "output_type": "stream",
     "text": [
      "345\n",
      "6.0\n",
      "1267650600228229401496703205376\n"
     ]
    }
   ],
   "source": [
    "print(123 + 222) # Integer addition\n",
    "print(1.5 * 4) # Floating-point multiplication\n",
    "print(2 ** 100) # 2 to the power 100, again"
   ]
  },
  {
   "cell_type": "markdown",
   "metadata": {},
   "source": [
    "### Strings\n",
    "\n",
    "Los `strings` es una cadena de caracteres que una vez generada es inmutable, es decir que no puedes modificar el texto pero si lo puedes usar para generar nuevos `strings` modificados, pero no son los mismo del inicio\n",
    "\n",
    "Tambien debido a que es una cadena de caracteres, tienen un orden y puedes acceder a sus elementos a través de los indices"
   ]
  },
  {
   "cell_type": "code",
   "execution_count": 2,
   "metadata": {},
   "outputs": [
    {
     "name": "stdout",
     "output_type": "stream",
     "text": [
      "4\n",
      "S\n",
      "p\n",
      "Spam\n",
      "Spa\n",
      "Spa\n"
     ]
    }
   ],
   "source": [
    "S = 'Spam' # Make a 4-character string, and assign it to a name\n",
    "print(len(S)) # Length\n",
    "print(S[0]) # The first item in S, indexing by zero-based position\n",
    "print(S[1]) # The second item from the left\n",
    "print(S) # S itself hasn't changed\n",
    "print(S[0:3]) # Everything but the last\n",
    "print(S[:3]) # Same as S[0:3]"
   ]
  },
  {
   "cell_type": "markdown",
   "metadata": {},
   "source": [
    "### Listas\n",
    "\n",
    "Las listas son un objeto que almacena una secuencia de manera ordenada, de multiple tipos de valores y mutable, es decir que podemos modificar los valores de los items, así como extender o reducir su longitud"
   ]
  },
  {
   "cell_type": "code",
   "execution_count": 3,
   "metadata": {},
   "outputs": [
    {
     "name": "stdout",
     "output_type": "stream",
     "text": [
      "3\n",
      "123\n",
      "[123, 'spam']\n",
      "[123, 'spam', 1.23, 4, 5, 6]\n",
      "[123, 'spam', 1.23, 123, 'spam', 1.23]\n",
      "[123, 'spam', 1.23]\n"
     ]
    }
   ],
   "source": [
    "L = [123, 'spam', 1.23] # A list of three different-type objects\n",
    "print(len(L)) # Number of items in the list\n",
    "print(L[0]) # Indexing by position\n",
    "print(L[:-1]) # Slicing a list returns a new list\n",
    "print(L + [4, 5, 6]) # Concat/repeat make new lists too\n",
    "print(L * 2)\n",
    "print(L) # We're not changing the original list"
   ]
  },
  {
   "cell_type": "markdown",
   "metadata": {},
   "source": [
    "**List Comprehensions**\n",
    "\n",
    "Consiste en generar listas de manera mas eficiente y reducida en código"
   ]
  },
  {
   "cell_type": "code",
   "execution_count": 4,
   "metadata": {},
   "outputs": [
    {
     "data": {
      "text/plain": [
       "['ss', 'pp', 'aa', 'mm']"
      ]
     },
     "execution_count": 4,
     "metadata": {},
     "output_type": "execute_result"
    }
   ],
   "source": [
    "doubles = [c * 2 for c in 'spam'] # Repeat characters in a string\n",
    "doubles"
   ]
  },
  {
   "cell_type": "markdown",
   "metadata": {},
   "source": [
    "### Diccionarios\n",
    "\n",
    "Los diccionarios en Python son similares a los Objetos literales en JavaScript, o a JSON, es un conjunto de elementos de tipo clave - valor, sus principales características son:\n",
    "\n",
    "- Lista de elementos no ordenados\n",
    "- Mutables\n",
    "- pueden contener cualquier tipo de elementos"
   ]
  },
  {
   "cell_type": "code",
   "execution_count": 5,
   "metadata": {},
   "outputs": [
    {
     "name": "stdout",
     "output_type": "stream",
     "text": [
      "{'food': 'Spam', 'quantity': 5, 'color': 'pink'}\n",
      "{'name': 'Bob', 'job': 'dev', 'age': 40}\n",
      "Bob\n"
     ]
    }
   ],
   "source": [
    "D = {'food': 'Spam', 'quantity': 4, 'color': 'pink'}\n",
    "D['food'] # Fetch value of key 'food'\n",
    "D['quantity'] += 1 # Add 1 to 'quantity' value\n",
    "print(D)\n",
    "D = {}\n",
    "D['name'] = 'Bob' # Create keys by assignment\n",
    "D['job'] = 'dev'\n",
    "D['age'] = 40\n",
    "print(D)\n",
    "print(D['name'])"
   ]
  },
  {
   "cell_type": "markdown",
   "metadata": {},
   "source": [
    "### Tuplas\n",
    "\n",
    "Las tuplas son similares a las listas, con la única diferencia de que son inmutables, es decir que una vez generadas, ya no es posible modificar su valor a menos que se genere uno nuevo y se reasigne a la variable"
   ]
  },
  {
   "cell_type": "code",
   "execution_count": 6,
   "metadata": {},
   "outputs": [
    {
     "data": {
      "text/plain": [
       "4"
      ]
     },
     "execution_count": 6,
     "metadata": {},
     "output_type": "execute_result"
    }
   ],
   "source": [
    "T = (1, 2, 3, 4) # A 4-item tuple\n",
    "len(T) # Length\n",
    "4"
   ]
  },
  {
   "cell_type": "code",
   "execution_count": 7,
   "metadata": {},
   "outputs": [
    {
     "data": {
      "text/plain": [
       "(1, 2, 3, 4, 5, 6)"
      ]
     },
     "execution_count": 7,
     "metadata": {},
     "output_type": "execute_result"
    }
   ],
   "source": [
    "T + (5, 6) # Concatenation\n",
    "(1, 2, 3, 4, 5, 6)"
   ]
  },
  {
   "cell_type": "code",
   "execution_count": 8,
   "metadata": {},
   "outputs": [
    {
     "data": {
      "text/plain": [
       "1"
      ]
     },
     "execution_count": 8,
     "metadata": {},
     "output_type": "execute_result"
    }
   ],
   "source": [
    "T[0] # Indexing, slicing, and more"
   ]
  },
  {
   "cell_type": "code",
   "execution_count": 9,
   "metadata": {},
   "outputs": [
    {
     "ename": "TypeError",
     "evalue": "'tuple' object does not support item assignment",
     "output_type": "error",
     "traceback": [
      "\u001b[1;31m---------------------------------------------------------------------------\u001b[0m",
      "\u001b[1;31mTypeError\u001b[0m                                 Traceback (most recent call last)",
      "\u001b[1;32m~\\AppData\\Local\\Temp/ipykernel_2248/906920486.py\u001b[0m in \u001b[0;36m<module>\u001b[1;34m\u001b[0m\n\u001b[1;32m----> 1\u001b[1;33m \u001b[0mT\u001b[0m\u001b[1;33m[\u001b[0m\u001b[1;36m0\u001b[0m\u001b[1;33m]\u001b[0m \u001b[1;33m=\u001b[0m \u001b[1;36m2\u001b[0m \u001b[1;31m# Tuples are immutable\u001b[0m\u001b[1;33m\u001b[0m\u001b[1;33m\u001b[0m\u001b[0m\n\u001b[0m",
      "\u001b[1;31mTypeError\u001b[0m: 'tuple' object does not support item assignment"
     ]
    }
   ],
   "source": [
    "T[0] = 2 # Tuples are immutable"
   ]
  },
  {
   "cell_type": "code",
   "execution_count": 10,
   "metadata": {},
   "outputs": [
    {
     "data": {
      "text/plain": [
       "(2, 2, 3, 4)"
      ]
     },
     "execution_count": 10,
     "metadata": {},
     "output_type": "execute_result"
    }
   ],
   "source": [
    "T = (2,) + T[1:] # Make a new tuple for a new value\n",
    "T"
   ]
  },
  {
   "cell_type": "markdown",
   "metadata": {},
   "source": [
    "### Files\n",
    "\n",
    "Los archivos son un tipo de dato en Python, pero que a diferencia de los demás no se pueden instanciar directamente, sino que se debe de la función built-in open."
   ]
  },
  {
   "cell_type": "code",
   "execution_count": 11,
   "metadata": {},
   "outputs": [
    {
     "data": {
      "text/plain": [
       "6"
      ]
     },
     "execution_count": 11,
     "metadata": {},
     "output_type": "execute_result"
    }
   ],
   "source": [
    "f = open('data.txt', 'w') # Make a new file in output mode ('w' is write)\n",
    "f.write('Hello\\n') # Write strings of characters to it"
   ]
  },
  {
   "cell_type": "code",
   "execution_count": 12,
   "metadata": {},
   "outputs": [
    {
     "data": {
      "text/plain": [
       "6"
      ]
     },
     "execution_count": 12,
     "metadata": {},
     "output_type": "execute_result"
    }
   ],
   "source": [
    "f.write('world\\n') # Return number of items written in Python 3.X"
   ]
  },
  {
   "cell_type": "code",
   "execution_count": 13,
   "metadata": {},
   "outputs": [],
   "source": [
    "f.close() # Close to flush output buffers to disk"
   ]
  },
  {
   "cell_type": "markdown",
   "metadata": {},
   "source": [
    "Es posible crear, leer y modificar distintos tipos de archivos"
   ]
  },
  {
   "cell_type": "code",
   "execution_count": 14,
   "metadata": {},
   "outputs": [
    {
     "data": {
      "text/plain": [
       "'Hello\\nworld\\n'"
      ]
     },
     "execution_count": 14,
     "metadata": {},
     "output_type": "execute_result"
    }
   ],
   "source": [
    "f = open('data.txt') # 'r' (read) is the default processing mode\n",
    "text = f.read() # Read entire file into a string\n",
    "text"
   ]
  },
  {
   "cell_type": "code",
   "execution_count": 15,
   "metadata": {},
   "outputs": [
    {
     "name": "stdout",
     "output_type": "stream",
     "text": [
      "Hello\n",
      "world\n",
      "\n"
     ]
    }
   ],
   "source": [
    "print(text) # print interprets control characters"
   ]
  },
  {
   "cell_type": "code",
   "execution_count": 16,
   "metadata": {},
   "outputs": [
    {
     "data": {
      "text/plain": [
       "['Hello', 'world']"
      ]
     },
     "execution_count": 16,
     "metadata": {},
     "output_type": "execute_result"
    }
   ],
   "source": [
    "text.split() "
   ]
  },
  {
   "cell_type": "code",
   "execution_count": 17,
   "metadata": {},
   "outputs": [],
   "source": [
    "f.close()"
   ]
  },
  {
   "cell_type": "markdown",
   "metadata": {},
   "source": [
    "**Archivos binarios**\n",
    "\n",
    "Los archivos son archivos que no son directamente comprensibles para los humanos, pero si para las computadoras, como por ejemplo una imagen PNG. estos archivos también pueden ser procesadas con la función ``open()``\n",
    "\n",
    "\n",
    "```python\n",
    ">>> import struct\n",
    ">>> packed = struct.pack('>i4sh', 7, b'spam', 8) # Create packed binary data\n",
    ">>> packed # 10 bytes, not objects or text\n",
    "b'\\x00\\x00\\x00\\x07spam\\x00\\x08'\n",
    ">>>\n",
    ">>> file = open('data.bin', 'wb') # Open binary output file\n",
    ">>> file.write(packed) # Write packed binary data\n",
    "10\n",
    ">>> file.close()\n",
    "\n",
    ">>> data = open('data.bin', 'rb').read() # Open/read binary data file\n",
    ">>> data # 10 bytes, unaltered\n",
    "b'\\x00\\x00\\x00\\x07spam\\x00\\x08'\n",
    ">>> data[4:8] # Slice bytes in the middle\n",
    "b'spam'\n",
    ">>> list(data) # A sequence of 8-bit bytes\n",
    "[0, 0, 0, 7, 115, 112, 97, 109, 0, 8]\n",
    ">>> struct.unpack('>i4sh', data) # Unpack into objects again\n",
    "(7, b'spam', 8)\n",
    "```"
   ]
  },
  {
   "cell_type": "markdown",
   "metadata": {},
   "source": [
    "## Sets\n",
    "\n",
    "Los `sets` es un tipo de dato que nos permiten generar conjuntos, es decir un agrupamiento de elementos, no necesariamente ordenados, pero que no se repiten en dentro del conjunto, a diferencia de una lista o tupla, en donde los valores pueden ser repetidos\n",
    "\n",
    "```python\n",
    ">>> X = set('spam') # Make a set out of a sequence in 2.X and 3.X\n",
    ">>> Y = {'h', 'a', 'm'} # Make a set with set literals in 3.X and 2.7\n",
    ">>> X, Y # A tuple of two sets without parentheses\n",
    "({'m', 'a', 'p', 's'}, {'m', 'a', 'h'})\n",
    "\n",
    ">>> list(set([1, 2, 1, 3, 1])) # Filtering out duplicates (possibly reordered)\n",
    "[1, 2, 3]\n",
    ">>> set('spam') - set('ham') # Finding differences in collections\n",
    "{'p', 's'}\n",
    ">>> set('spam') == set('asmp') # Order-neutral equality tests (== is False)\n",
    "True\n",
    "```\n",
    "\n",
    "la ventaja de los `sets` es que las operaciones de conjuntos se aplican en ellos \n",
    "\n",
    "```python\n",
    ">>> X & Y # Intersection\n",
    "{'m', 'a'}\n",
    ">>> X | Y # Union\n",
    "{'m', 'h', 'a', 'p', 's'}\n",
    ">>> X - Y # Difference\n",
    "{'p', 's'}\n",
    ">>> X > Y # Superset\n",
    "False\n",
    ">>> {n ** 2 for n in [1, 2, 3, 4]} # Set comprehensions in 3.X and 2.7\n",
    "{16, 1, 4, 9}\n",
    "```"
   ]
  },
  {
   "cell_type": "markdown",
   "metadata": {},
   "source": []
  }
 ],
 "metadata": {
  "interpreter": {
   "hash": "cb6cd5bb8a4fc649266e1b95dae8ab58b18cb2208a1b6d749f13a16dd38b4c0e"
  },
  "kernelspec": {
   "display_name": "Python 3.9.7 64-bit ('learning-python': conda)",
   "name": "python3"
  },
  "language_info": {
   "codemirror_mode": {
    "name": "ipython",
    "version": 3
   },
   "file_extension": ".py",
   "mimetype": "text/x-python",
   "name": "python",
   "nbconvert_exporter": "python",
   "pygments_lexer": "ipython3",
   "version": "3.9.7"
  },
  "orig_nbformat": 4
 },
 "nbformat": 4,
 "nbformat_minor": 2
}
