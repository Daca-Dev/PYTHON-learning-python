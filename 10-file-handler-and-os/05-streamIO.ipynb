{
 "cells": [
  {
   "cell_type": "markdown",
   "metadata": {},
   "source": [
    "# Stream IO\n",
    "\n",
    "## ¿Qué es un Stream?\n",
    "\n",
    "> un Stream es un objeto que nos ofrece un servicio capaz de leer, guardar y conducir información.\n",
    "\n",
    "Para explicarlo mas fácil un Stream es un concepto mas profundo que el de manejar un archivo, ya que nos permite manipular y trabajar con datos que prvengan de diferentes fuentes de datos. como lo son un servicio web, un socket, un archivo, un pipe, etc.\n",
    "\n",
    "la principal ventaja es que nos permite además de trabajar con los datos también conducirlos a las cosas que necesitamos que sucedan, como por ejemplo llevarlo a un archivo pero también puede ser enviarlo a una base de datos, como respuesta de un servicio, etc.\n",
    "\n",
    "# Streams en Python\n",
    "\n",
    "python tiene a nuestra disposición el módulo **io** dentro de su core, que nos permite crear estos Objetos y dentro de ella podemos encontrar tres objetos en especifico\n",
    "\n",
    "- Text I/O\n",
    "- Byte I/O\n",
    "- Raw I/O\n",
    "\n",
    "cada uno enfocado a un tipo de dato en especifico, por ejemplo si creamos un Objeto del tipo ByteIO y le enviamos strings, es decir texto nos arrojara un error ya que no corresponde con la información que el objeto esperaba\n",
    "\n",
    "podemos ver la estructura de los objetos que pone a nuestra disposición **io**\n",
    "\n",
    "![grafico](./images/img3.png)\n"
   ]
  },
  {
   "cell_type": "markdown",
   "metadata": {},
   "source": [
    "# IOBase\n",
    "\n",
    "La clase **IOBase** es la clase de la que heredan todas los demás objetos que nombramos antes, esta implementan métodos abstractos que deben de ser definidos por las sub-clases, además de soportar la iteración y el manejo por medio del context manager, es decir con ``with`` y ``with-as``.\n",
    "\n",
    "Dicha clase tiene los siguientes métodos que serán heredados por sus hijos\n",
    "\n",
    "- `close()` = flush and close the stream.\n",
    "- `closed` = an attribute indicating whether the stream is closed.\n",
    "- `flush()` = flush the write buffer of the stream if applicable.\n",
    "- `readable()` = returns True if the stream can be read from.\n",
    "- `readline(size=-1)` = return a line from the stream. If size is specified at most size bytes will be read.\n",
    "- `readline(hint=-1)` = read a list of lines. If hint is specified then it is used to control the number of lines read.\n",
    "- `seek(offset[, whence])` = This method moves the current the stream position/pointer to the given offset. The meaning of the offset depends on the whence parameter. The default value for whence is SEEK_SET.\n",
    "- SEEK_SET or 0 = seek from the start of the stream (the default); offset must either be a number returned by TextIOBase.tell(), or zero. Any other offset value produces undefined behaviour.\n",
    "- SEEK_CUR or 1 = “seek” to the current position; offset must be zero, which is a no-operation (all other values are unsupported).\n",
    "- SEEK_END or 2 = seek to the end of the stream; offset must be zero (all other values are unsupported).\n",
    "- `seekable()` = does the stream support seek().\n",
    "- `tell()` = return the current stream position/pointer.\n",
    "- `writeable()` = returns true if data can be written to the stream.\n",
    "- `writelines(lines)` = write a list of lines to the stream.\n",
    "\n",
    "# Raw IO/UnBuffered IO Classes\n",
    "\n",
    "Esta clase hereda de la clase **IOBase** y se encarga de proveer un strem binario de bajo nivel, es decir que trabaja a un nivel primitivo y no como lo haria un stream del tipo **textIO** que tiene como abse el trabajo con textos, un ``RawIO`` o ``UnBufferedIO`` se encarga de manipular data en su mas bajo nivel, tiene los siguientes métodos a su disposición\n",
    "\n",
    "- `read(size=-1)` = This method reads up to size bytes from the stream and returns them. If size is unspecified or -1 then all available bytes are read.\n",
    "- `readall()` = This method reads and returns all available bytes within the stream.\n",
    "- `readint(b)` = This method reads the bytes in the stream into a pre-allocated, writable bytes-like object b (e.g. into a byte array). It returns the number of bytes read.\n",
    "- `write(b)` = This method writes the data provided by b (a bytes -like object such as a byte array) into the underlying raw stream.\n",
    "\n",
    "## FileIO\n",
    "\n",
    "**FileIO** es una clase que hereda de **RawIO** que nos permite manejar el Stream bajo el concepto de archivo, con esto nos permite definir caracteristicas como el .\n",
    "nombre, el formato de archivo (imagen, pdf, etc.) o incluso definir el modo de operación"
   ]
  },
  {
   "cell_type": "markdown",
   "metadata": {},
   "source": [
    "# Binary IO/Buffered IO Classes\n",
    "\n",
    "**Binary IO** o **Buffered IO** es una subclase de **rawIO** que filtra los Stream que sn enviados y extiende las siguientes caracteristicas\n",
    "\n",
    "- when the buffer gets too small for all pending data;\n",
    "- when flush() is called;\n",
    "- when the BufferedWriter object is closed or destroyed.\n",
    "\n",
    "además de extender los siguientes metodos\n",
    "\n",
    "- `peek(n)` = return up to n bytes of data without advancing the stream pointer. The number of bytes returned may be less or more than requested depending on the amount of data available.\n",
    "- `read(n)` = return n bytes of data as bytes, if n is not supplied (or is negative) the read all available data.\n",
    "- `readl(n)` = read up to n bytes of data using a single call on the raw data stream. The operations supported by buffered writers include:\n",
    "- `write(bytes)` = writes the bytes-like data and returns the number of bytes written.\n",
    "- `flush()` = This method forces the bytes held in the buffer into the raw stream."
   ]
  },
  {
   "cell_type": "code",
   "execution_count": 6,
   "metadata": {},
   "outputs": [
    {
     "name": "stdout",
     "output_type": "stream",
     "text": [
      "b'star'\n"
     ]
    }
   ],
   "source": [
    "import io\n",
    "\n",
    "binary_stream_from_file = io.BufferedReader(io.BytesIO(b'starship.png'))\n",
    "bytes = binary_stream_from_file.read(4)\n",
    "print(bytes)"
   ]
  },
  {
   "cell_type": "markdown",
   "metadata": {},
   "source": [
    "# Text Stream Classes\n",
    "\n",
    "Las clases **Text Stream** son usadas para manipular datos de tipo texto y estas clases tiene una clase padre en común que es **TextIOBase** la cual funciona como interfaz y dispone de los siguientes métodos\n",
    "\n",
    "- ``read(size=-1)`` = This method will return at most size characters from the stream as a single string. If size is negative or None, it will read all remaining data.\n",
    "- ``readline(size=-1)`` = This method will return a string representing the current line (up to a newline or the end of the data whichever comes first). If the stream is already at EOF, an empty string is returned. If size is specified, at most size characters will be read.\n",
    "- ``seek(offset, [, whence])`` = change the stream position/pointer by the specified offset. The optional whence parameter indicates where the seek should start from:\n",
    "    - SEEK_SET or 0: (the default) seek from the start of the stream.\n",
    "    - SEEK_CUR or 1: seek to the current position; offset must be zero, which is a no-operation.\n",
    "    - SEEK_END or 2: seek to the end of the stream; offset must be zero.\n",
    "- ``tell()`` = Returns the current stream position/pointer as an opaque number. The number does not usually represent a number of bytes in the underlying binary storage.\n",
    "- ``write(s)`` = This method will write the string s to the stream and return the number of characters written.\n",
    "\n",
    "## TextIOWrapper\n",
    "\n",
    "```python\n",
    "io.TextIOWrapper(buffer, encoding=None, errors=None, newline=None, line_buffering=False, write_through=False)\n",
    "```\n",
    "\n",
    "- ``buffer`` = is the buffered binary stream.\n",
    "- ``encoding`` = represents the text encoding used such as UTF-8.\n",
    "- ``errors`` = defines the error handling policy such as strict or ignore.\n",
    "- ``newline`` = controls how line endings are handled for example should they be ignored (None) or represented as a linefeed, carriage return or a newline/carriage return etc.\n",
    "- ``line_buffering`` = if True then flush() is implied when a call to write contains a newline character or a carriage return.\n",
    "- ``write_through`` = if True then a call to write is guaranteed not to be buffered.\n",
    "\n",
    "## StringIO\n",
    "\n",
    "This is an in memory stream for text I/O. The initial value of the buffer held by the StringIO object can be provided when the instance is created, for example:"
   ]
  },
  {
   "cell_type": "code",
   "execution_count": 7,
   "metadata": {},
   "outputs": [
    {
     "name": "stdout",
     "output_type": "stream",
     "text": [
      "in_memory_text_stream <_io.StringIO object at 0x000002344A82B940>\n",
      "to be or not to be that is the question\n"
     ]
    }
   ],
   "source": [
    "in_memory_text_stream = io.StringIO('to be or not to be that is the question')\n",
    "print('in_memory_text_stream', in_memory_text_stream)\n",
    "print(in_memory_text_stream.getvalue())\n",
    "in_memory_text_stream.close()"
   ]
  }
 ],
 "metadata": {
  "interpreter": {
   "hash": "e10c588331812ce8644711cf49296cc7106d891fd97acbc1dbff548955ff74f4"
  },
  "kernelspec": {
   "display_name": "Python 3.9.7 64-bit ('learn-python': conda)",
   "name": "python3"
  },
  "language_info": {
   "codemirror_mode": {
    "name": "ipython",
    "version": 3
   },
   "file_extension": ".py",
   "mimetype": "text/x-python",
   "name": "python",
   "nbconvert_exporter": "python",
   "pygments_lexer": "ipython3",
   "version": "3.9.7"
  },
  "orig_nbformat": 4
 },
 "nbformat": 4,
 "nbformat_minor": 2
}
