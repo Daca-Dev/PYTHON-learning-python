{
 "cells": [
  {
   "cell_type": "markdown",
   "metadata": {},
   "source": [
    "# Pathlib\n",
    "\n",
    "**Pathlib** es un módulo que viene implementado en el core de Python desde la versión 3.4 y nos permite manipualar facilmente los Paths dentro del código, nos permite movernos entre directorios y además pone a nuestra disposición metodos para crear, renombrar y eliminar elementos de un **Path**, esto sin necesidad de importar el modulo **os**, lo cual nos ahorra espacio de memoria y tiempo.\n",
    "\n",
    "La principal clase de este módulo que nos permite interactuar con los paths se llama especificamente **Path** y podemos interactuar con los siguientes métodos que nos permiten trabajar con caracteristicas del path\n",
    "\n",
    "- `exists()` = returns True of False depending on whether the path points to an existing file or directory.\n",
    "- `is_dir()` = returns True if the path points to a directory. False if it references a file. False is also returned if the path does not exist.\n",
    "- `is_file()` = returns True of the path points to a file, it returns False if the path does not exist or the path references a directory.\n",
    "- `absolute()` = A Path object is considered absolute if it has both a root and (if appropriate) a drive.\n",
    "- `is_absolute()` = returns a Boolean value indicating whether the Path is absolute or not.\n",
    "\n",
    "veamos un ejemplo de uso"
   ]
  },
  {
   "cell_type": "code",
   "execution_count": 1,
   "metadata": {},
   "outputs": [
    {
     "name": "stdout",
     "output_type": "stream",
     "text": [
      "Create Path object for current directory\n",
      "p: .\n",
      "p.exists(): True\n",
      "p.is_dir(): True\n",
      "p.is_file(): False\n",
      "p.absolute(): c:\\Users\\dacasas\\OneDrive - ENDAVA\\Documents\\python\\learning-python\\10-file-handler-and-os\n"
     ]
    }
   ],
   "source": [
    "from pathlib import Path\n",
    "\n",
    "print('Create Path object for current directory')\n",
    "p = Path('.')\n",
    "print('p:', p)\n",
    "print('p.exists():', p.exists())\n",
    "print('p.is_dir():', p.is_dir())\n",
    "print('p.is_file():', p.is_file())\n",
    "print('p.absolute():', p.absolute())"
   ]
  },
  {
   "cell_type": "markdown",
   "metadata": {},
   "source": [
    "también nos ofrece una buena cantidad de métodos que nos permite jugar con directorios\n",
    "\n",
    "- `mkdir()` = is used to create a directory path if it does not exist. If the path already exists, then a FileExistsError is raised.\n",
    "- `rmdir()` = remove this directory; the directory must be empty otherwise an error will be raised.\n",
    "- `rename(target)` = rename this file or directory to the given target.\n",
    "- `unlink()` = removes the file referenced by the path object.\n",
    "- `joinpath(*other)` = appends elements to the path object e.g. path.joinpath(‘/ temp’).\n",
    "- `with_name(new_name)` = return a new path object with the name changed.\n",
    "- The ‘/’ operator can also be used to create new path objects from existing paths for example path/ ‘test’/ ‘output’ which would append the directories test and out to the path object.\n",
    "\n",
    "Adicionalmente podemos crear nuevos objetos con las instancias\n",
    "\n",
    "- `Path.cwd()` = return a new path object representing the current directory.\n",
    "- `Path.home()` = return a new path object representing the user’s home directory."
   ]
  },
  {
   "cell_type": "code",
   "execution_count": 3,
   "metadata": {},
   "outputs": [
    {
     "name": "stdout",
     "output_type": "stream",
     "text": [
      "Set up new directory\n",
      "Check to see if newdir exists\n",
      "newdir.exists(): False\n",
      "Create new dir\n",
      "newdir.exists(): True\n"
     ]
    }
   ],
   "source": [
    "p = Path.cwd()\n",
    "print('Set up new directory')\n",
    "newdir = p / 'test'\n",
    "print('Check to see if newdir exists')\n",
    "print('newdir.exists():', newdir.exists())\n",
    "print('Create new dir')\n",
    "newdir.mkdir()\n",
    "print('newdir.exists():', newdir.exists())\n",
    "newdir.rmdir()"
   ]
  },
  {
   "cell_type": "markdown",
   "metadata": {},
   "source": [
    "Si quisieramos obtener los paths de cada uno de los archivos que cumplan con un nombre en especifico, como por ejemplo los archivos que terminan en ``*.ipynb`` y esto lo hacemos con la función ``Path.glob(pattern)``, veamos un ejemplo de código\n",
    "\n",
    "> Path debe ser la instancia de la clase"
   ]
  },
  {
   "cell_type": "code",
   "execution_count": 7,
   "metadata": {},
   "outputs": [
    {
     "name": "stdout",
     "output_type": "stream",
     "text": [
      "----------\n",
      "file: 01-read-write-files.ipynb\n",
      "file: 02-file-handler.ipynb\n",
      "file: 03-temporary-files.ipynb\n",
      "file: 04-pathlib.ipynb\n",
      "----------\n"
     ]
    }
   ],
   "source": [
    "from pathlib import Path\n",
    "\n",
    "path = Path('.')\n",
    "\n",
    "print('-' * 10)\n",
    "for file in path.glob('*.ipynb'):\n",
    "    print('file:', file)\n",
    "print('-' * 10)"
   ]
  },
  {
   "cell_type": "markdown",
   "metadata": {},
   "source": [
    "Una de las ventajas que ofrecen las instancias de **Path** es que podemos pasarlo como variable para manipular objetos dentro de la funcion ``open()``"
   ]
  },
  {
   "cell_type": "code",
   "execution_count": 8,
   "metadata": {},
   "outputs": [
    {
     "name": "stdout",
     "output_type": "stream",
     "text": [
      "Hola mundo!\n",
      "\n"
     ]
    }
   ],
   "source": [
    "p = Path('lectura.txt')\n",
    "with p.open() as f:\n",
    "    print(f.readline())"
   ]
  },
  {
   "cell_type": "markdown",
   "metadata": {},
   "source": [
    "y adicionalmente si solo necesitaramos escribir o leer el contenido, la instancia de **Path** nos ofrece los métodos ``write_text()`` y ``read_text()``\n",
    "\n",
    "- `write_text(data)` = opens the file pointed to in text mode and writes the data to it and then closes the file.\n",
    "- `read_text()` = opens the file in read mode, reads the text and closes the file; it then returns the contents of the file as a string."
   ]
  },
  {
   "cell_type": "code",
   "execution_count": 10,
   "metadata": {},
   "outputs": [
    {
     "name": "stdout",
     "output_type": "stream",
     "text": [
      "Create new file\n",
      "Write some text to file\n",
      "Read the text back again\n",
      "Hello Python World!\n",
      "Remove the file\n"
     ]
    }
   ],
   "source": [
    "dir = Path('.')\n",
    "print('Create new file')\n",
    "newfile = dir / 'text.txt'\n",
    "print('Write some text to file')\n",
    "newfile.write_text('Hello Python World!')\n",
    "print('Read the text back again')\n",
    "print(newfile.read_text())\n",
    "print('Remove the file')\n",
    "newfile.unlink()"
   ]
  }
 ],
 "metadata": {
  "interpreter": {
   "hash": "e10c588331812ce8644711cf49296cc7106d891fd97acbc1dbff548955ff74f4"
  },
  "kernelspec": {
   "display_name": "Python 3.9.7 64-bit ('learn-python': conda)",
   "name": "python3"
  },
  "language_info": {
   "codemirror_mode": {
    "name": "ipython",
    "version": 3
   },
   "file_extension": ".py",
   "mimetype": "text/x-python",
   "name": "python",
   "nbconvert_exporter": "python",
   "pygments_lexer": "ipython3",
   "version": "3.9.7"
  },
  "orig_nbformat": 4
 },
 "nbformat": 4,
 "nbformat_minor": 2
}
