{
 "cells": [
  {
   "cell_type": "markdown",
   "metadata": {},
   "source": [
    "# Archivos temporales\n",
    "\n",
    "Muchas veces necesitamos archivos solo para procesar la información y despues ya no requerimos ams ese archivo, por lo que no es neceario guardarlo en la memoria, ya que esto consume recursos y tiempo de maquina sin necesidad, para ello Python nos ofrece la manipulación de **archivos** y **directorios** de manera temporal con ayuda del módulo **tempfile**\n",
    "\n",
    "Dentro de este módulo tenemos 4 clases que nos permiten manipular estos tipos de archivos y estas clases serán las que se encargan de limpiar automaticamente los archivos despues de usarlos y se basan en el uso de context managers, veamos cada uno de ellos\n",
    "\n",
    "> el modulo **tempfile** nos permite usar las funciones ``mkstemp()`` y ``mkdtemp()`` que es una forma sencilla y rapida de crear archivos y directorios temprales pero no tienes control total de las caracteristicas del mismo\n",
    "\n",
    "\n",
    "- `TemporaryFile(mode=‘w+b’` = Return an anonymous file-like object that can be used as a temporary storage area. On completion of the managed context (via a with statement) or destruction of the file object, the temporary file will be removed from the filesystem. Note that by default all data is written to the temporary file in binary format which is generally more efficient.\n",
    "- `NamedTemporaryFile(mode=‘w+b’)` = This function operates exactly as TemporaryFile() does, except that the file has s visible name in the file system.\n",
    "- `SpooledTemporaryFile(max_size=0, mode=‘w+b’)` = This function operates exactly as TemporaryFile() does, except that data is spooled in memory until the file size exceeds max_size, or until the file’s fileno () method is called, at which point the contents are written to disk and operation proceeds as with TemporaryFile().\n",
    "- `TemporaryDirectory(suffix=None, prefix=None, dir=None)` = This function creates a temporary directory. On completion of the context or destruction of the temporary directory object the newly created temporary directory and all its contents are removed from the filesystem.\n",
    "\n",
    "las funciones de bajo nivel que nos ofrece el módulo nos permiten\n",
    "\n",
    "- `mkstemp()` = Creates a temporary file that is only readable or writable by the user who created it.\n",
    "- `mkdtemp()` = Creates a temporary directory. The directory is readable, writable, and searchable only by the creating user ID.\n",
    "- `gettempdir()` = Return the name of the directory used for temporary files. This defines the default value for the default temporary directory to be used with the other functions in this module."
   ]
  },
  {
   "cell_type": "code",
   "execution_count": 1,
   "metadata": {},
   "outputs": [
    {
     "name": "stdout",
     "output_type": "stream",
     "text": [
      "tempfile.gettempdir(): C:\\Users\\dacasas\\AppData\\Local\\Temp\n",
      "temp.name: C:\\Users\\dacasas\\AppData\\Local\\Temp\\tmp3iwe5kvg\n",
      "temp.mode: w+\n",
      "line: Hello world!\n"
     ]
    }
   ],
   "source": [
    "import tempfile\n",
    "print('tempfile.gettempdir():', tempfile.gettempdir())\n",
    "temp = tempfile.TemporaryFile('w+')\n",
    "print('temp.name:', temp.name)\n",
    "print('temp.mode:', temp.mode)\n",
    "temp.write('Hello world!')\n",
    "temp.seek(0)\n",
    "line = temp.readline()\n",
    "print('line:', line)"
   ]
  }
 ],
 "metadata": {
  "interpreter": {
   "hash": "e10c588331812ce8644711cf49296cc7106d891fd97acbc1dbff548955ff74f4"
  },
  "kernelspec": {
   "display_name": "Python 3.9.7 64-bit ('learn-python': conda)",
   "name": "python3"
  },
  "language_info": {
   "codemirror_mode": {
    "name": "ipython",
    "version": 3
   },
   "file_extension": ".py",
   "mimetype": "text/x-python",
   "name": "python",
   "nbconvert_exporter": "python",
   "pygments_lexer": "ipython3",
   "version": "3.9.7"
  },
  "orig_nbformat": 4
 },
 "nbformat": 4,
 "nbformat_minor": 2
}
