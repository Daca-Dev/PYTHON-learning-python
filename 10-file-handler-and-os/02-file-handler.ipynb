{
 "cells": [
  {
   "cell_type": "markdown",
   "metadata": {},
   "source": [
    "# Manipular archivos\n",
    "\n",
    "Para manipular arhivos dentro de nuestro código tenemos dos formas de hacerlo, primero con el modulo **os** que nos permite ejecutar comandos del OS dentro del codigo python, es decir que se tiene una comunicación directa con el SO donde se esta ejecutando la maquina. desglocemos su uso\n",
    "\n",
    "> **os** viene por defecto en las instalaciones de Python\n",
    "\n",
    "## renombrar archivos"
   ]
  },
  {
   "cell_type": "code",
   "execution_count": 1,
   "metadata": {},
   "outputs": [],
   "source": [
    "import os\n",
    "\n",
    "os.rename('lectura-dos.txt', 'lectura-dos-1.txt')"
   ]
  },
  {
   "cell_type": "markdown",
   "metadata": {},
   "source": [
    "fijate que el nombre del archivo cambio, ahora lo volveremos a su estado anterior"
   ]
  },
  {
   "cell_type": "code",
   "execution_count": 2,
   "metadata": {},
   "outputs": [],
   "source": [
    "os.rename('lectura-dos-1.txt', 'lectura-dos.txt')"
   ]
  },
  {
   "cell_type": "markdown",
   "metadata": {},
   "source": [
    "## Eliminar arhivos\n",
    "\n",
    "> crearemos un archivo nuevo para borrar"
   ]
  },
  {
   "cell_type": "code",
   "execution_count": 3,
   "metadata": {},
   "outputs": [],
   "source": [
    "os.remove('borrar.txt')"
   ]
  },
  {
   "cell_type": "markdown",
   "metadata": {},
   "source": [
    "# Archivos de acceso aleatorio\n",
    "\n",
    "Hasta ahora hemos visto como podemos leer un archivo de manera secuencia desde el inicio hasta el final, sin embargo también podemos acceder de manera aleatoria al archivo, es decir que podemos desplazarnos a través de él según las necesidades, para ello debemos de tener en cuenta el concepto de **puntero**, el puntero es el encargado de definir en donde estas ubicado dentro del archivos, lo podemos ver en el siguiente grafico\n",
    "\n",
    "![grafico](./images/img2.png)\n",
    "\n",
    "para cambiar o modificar la posición del puntero debemos de usar el método ``seek()`` del objeto que entrega ``open()``, su modo de operar es el siguiente\n",
    "\n",
    "``file.seek (offset, whence)`` = this method determines where the next read or write operation (depending on the mode used in the open() call) takes place.\n",
    "\n",
    "te puedes desplazar hacia adelante o hacia atras en función de la posición del puntero, y cambiar el punto de referencia según el valor de ``whence`` de la siguiente forma\n",
    "\n",
    "- **0** = indicates that the offset is relative to start of file (the default).\n",
    "- **1** = means that the offset is relative to the current pointer position.\n",
    "- **2** = indicates the offset is relative to end of file."
   ]
  },
  {
   "cell_type": "code",
   "execution_count": 4,
   "metadata": {},
   "outputs": [
    {
     "name": "stdout",
     "output_type": "stream",
     "text": [
      "abcdefBOOjHELLOpqrstuvwxyz\n"
     ]
    }
   ],
   "source": [
    "f = open('text.txt', 'w')\n",
    "f.write('abcdefghijklmnopqrstuvwxyz\\n')\n",
    "f.seek(10,0)\n",
    "f.write('HELLO')\n",
    "f.seek(6, 0)\n",
    "f.write ('BOO')\n",
    "f.close()\n",
    "with open('text.txt', 'r') as f:\n",
    "    for line in f:\n",
    "        print(line, end='')"
   ]
  },
  {
   "cell_type": "markdown",
   "metadata": {},
   "source": [
    "Dentro de las funciones del módulo **os** encontramos otras funcionalidades que nos permiten manipular no solo archivos sino drectorios o rutas en las que nos encontraremos. veamos algunos de ellos\n",
    "\n",
    "- `mkdir()` = This function is used to create a directory, it takes the name of the directory to create as a parameter. If the directory already exists FileExistsError is raised.\n",
    "- `chdir()` = This function can be used to change the current working directory. This is the directory that the application will read from/ write to by default.\n",
    "- `getcwd()` = This function returns a string representing the name of the current working directory.\n",
    "- `rmdir()` = This function is used to remove/ delete a directory. It takes the name of the directory to delete as a parameter.\n",
    "- `listdir()` = This function returns a list containing the names of the entries in the directory specified as a parameter to the function (if no name is given the current directory is used)."
   ]
  },
  {
   "cell_type": "code",
   "execution_count": 5,
   "metadata": {},
   "outputs": [
    {
     "name": "stdout",
     "output_type": "stream",
     "text": [
      "os.getcwd(: c:\\Users\\dacasas\\OneDrive - ENDAVA\\Documents\\python\\learning-python\\10-file-handler-and-os\n",
      "List contents of directory\n",
      "['01-read-write-files.ipynb', '02-file-handler.ipynb', 'images', 'lectura-dos.txt', 'lectura.txt', 'text.txt']\n",
      "Create mydir\n",
      "List the updated contents of directory\n",
      "['01-read-write-files.ipynb', '02-file-handler.ipynb', 'images', 'lectura-dos.txt', 'lectura.txt', 'mydir', 'text.txt']\n",
      "Change into mydir directory\n",
      "os.getcwd(: c:\\Users\\dacasas\\OneDrive - ENDAVA\\Documents\\python\\learning-python\\10-file-handler-and-os\\mydir\n",
      "Change back to parent directory\n",
      "os.getcwd(: c:\\Users\\dacasas\\OneDrive - ENDAVA\\Documents\\python\\learning-python\\10-file-handler-and-os\n",
      "Remove mydir directory\n",
      "List the resulting contents of directory\n",
      "['01-read-write-files.ipynb', '02-file-handler.ipynb', 'images', 'lectura-dos.txt', 'lectura.txt', 'text.txt']\n"
     ]
    }
   ],
   "source": [
    "import os\n",
    "print('os.getcwd(:', os.getcwd())\n",
    "print('List contents of directory')\n",
    "print(os.listdir())\n",
    "print('Create mydir')\n",
    "os.mkdir('mydir')\n",
    "print('List the updated contents of directory')\n",
    "print(os.listdir())\n",
    "print('Change into mydir directory')\n",
    "os.chdir('mydir')\n",
    "print('os.getcwd(:', os.getcwd())\n",
    "print('Change back to parent directory')\n",
    "os.chdir('..')\n",
    "print('os.getcwd(:', os.getcwd())\n",
    "print('Remove mydir directory')\n",
    "os.rmdir('mydir')\n",
    "print('List the resulting contents of directory')\n",
    "print(os.listdir())"
   ]
  }
 ],
 "metadata": {
  "interpreter": {
   "hash": "e10c588331812ce8644711cf49296cc7106d891fd97acbc1dbff548955ff74f4"
  },
  "kernelspec": {
   "display_name": "Python 3.9.7 64-bit ('learn-python': conda)",
   "name": "python3"
  },
  "language_info": {
   "codemirror_mode": {
    "name": "ipython",
    "version": 3
   },
   "file_extension": ".py",
   "mimetype": "text/x-python",
   "name": "python",
   "nbconvert_exporter": "python",
   "pygments_lexer": "ipython3",
   "version": "3.9.7"
  },
  "orig_nbformat": 4
 },
 "nbformat": 4,
 "nbformat_minor": 2
}
