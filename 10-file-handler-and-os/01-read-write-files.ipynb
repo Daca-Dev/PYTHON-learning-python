{
 "cells": [
  {
   "cell_type": "markdown",
   "metadata": {},
   "source": [
    "# Lectura y escritura de Archivo\n",
    "\n",
    "Para manipular los archivos en Python haremos uso de la funcion **built-in** ``open()`` la cual nos permitira manipular un archiuvo y entregarlo como un OBjeto en Python, para ello debemos de pasar solo un parámetro obligatorio, aunque acepta otros que ya veremos mas adelante\n",
    "\n",
    "> por defecto todoa archivo se abre en modo lectura 'r'"
   ]
  },
  {
   "cell_type": "code",
   "execution_count": 1,
   "metadata": {},
   "outputs": [
    {
     "name": "stdout",
     "output_type": "stream",
     "text": [
      "<_io.TextIOWrapper name='./lectura.txt' mode='r' encoding='cp1252'>\n"
     ]
    }
   ],
   "source": [
    "file = open('./lectura.txt')\n",
    "print(file)"
   ]
  },
  {
   "cell_type": "code",
   "execution_count": 2,
   "metadata": {},
   "outputs": [
    {
     "data": {
      "text/plain": [
       "'Hola mundo!\\n'"
      ]
     },
     "execution_count": 2,
     "metadata": {},
     "output_type": "execute_result"
    }
   ],
   "source": [
    "file.readline()"
   ]
  },
  {
   "cell_type": "code",
   "execution_count": 3,
   "metadata": {},
   "outputs": [
    {
     "data": {
      "text/plain": [
       "['Estamos saludando desde el archiv\\n', 'XD\\n', 'Adios...']"
      ]
     },
     "execution_count": 3,
     "metadata": {},
     "output_type": "execute_result"
    }
   ],
   "source": [
    "file.readlines()"
   ]
  },
  {
   "cell_type": "markdown",
   "metadata": {},
   "source": [
    "en los bloques de código anteriores usamos la función ``open()`` para poder leer el contenido del archivo ``lectura.txt``, al momento de imprimir la variable **file** nos damos cuenta que es del tipo **TextIOWrapper**\n",
    "\n",
    "Uno de los métodos que tiene disponible es el método ``readline()`` el cual nos permite leer una linea del archiv, es decir hasta que encuentre un ``\\n`` dentro del archivo.\n",
    "\n",
    "otro metodo es el de ``readlines()`` que nos permite obtener una lista con todas las líneas de una archivo ordenadas según la secuencia en el archivo\n",
    "\n",
    "> Fijate que al llamar ``readlines()`` después de ``readline()`` solo me trae las lineas de texto siguientes a la que ya se leyo, esto es porque el archivo se basa en un apuntador para sacar el contenido del archivo, ya lo veremos mas adelante\n",
    "\n",
    "Por último siempre se debe de cerrar el archivo si no se usará ms, esto es muy importante porque asi evitamos que se dañe el archivo y se hace con el método ``close()``"
   ]
  },
  {
   "cell_type": "code",
   "execution_count": 4,
   "metadata": {},
   "outputs": [],
   "source": [
    "file.close()"
   ]
  },
  {
   "cell_type": "code",
   "execution_count": 6,
   "metadata": {},
   "outputs": [
    {
     "data": {
      "text/plain": [
       "True"
      ]
     },
     "execution_count": 6,
     "metadata": {},
     "output_type": "execute_result"
    }
   ],
   "source": [
    "file.closed"
   ]
  },
  {
   "cell_type": "markdown",
   "metadata": {},
   "source": [
    "# modos de lectura de archivos\n",
    "\n",
    "Existen varios modos de apertura de los archivos y todos se describen en la siguiente tabla\n",
    "\n",
    "![grafica](./images/img1.png)\n",
    "\n",
    "dentro de la grafica cabe destacar los dos formatos en que podemos abrir un archivo en formato texto o byte, la diferencia es que en formato texto los valores leidos son comprensibles por los humanos, mientras que un formato Byte esta compuestos por códigos que solo la maquina es capaz de entender y manipular, se diferencian por la ``b`` al final del modo.\n",
    "\n",
    "para definir el modo de uso de un archivo lo podemos pasar como segundo parámetro en nuestra función ``open()`` o definiendo el parámetro ``mode``\n",
    "\n"
   ]
  },
  {
   "cell_type": "code",
   "execution_count": 9,
   "metadata": {},
   "outputs": [
    {
     "name": "stdout",
     "output_type": "stream",
     "text": [
      "var file: <_io.TextIOWrapper name='./lectura.txt' mode='a' encoding='utf-8'>\n",
      "modo de apertura: a\n",
      "archivo Cerrado? False\n",
      "nombre de archivo ./lectura.txt\n",
      "archivo Cerrado? True\n"
     ]
    }
   ],
   "source": [
    "file = open(file='./lectura.txt', mode='a', encoding='utf-8')\n",
    "print('var file:', file)\n",
    "print('modo de apertura:', file.mode)\n",
    "print('archivo Cerrado?', file.closed)\n",
    "print('nombre de archivo', file.name)\n",
    "\n",
    "file.write('Yo escribi esto desde código :D\\n')\n",
    "\n",
    "file.close()\n",
    "print('archivo Cerrado?', file.closed)"
   ]
  },
  {
   "cell_type": "markdown",
   "metadata": {},
   "source": [
    "> Es importante destacar la codificación usada al momento de leer un archivo, por defecto se usa ASCII pero se recomienda usar el valor 'utf-8' que se pasa a través del parámetro **enconding**\n",
    "\n",
    "Con nuestros archivo también podemos usar iteraciones para poder procesar cada una de las lineas de manera automatica y no tener que usar todo el tiempo ``readline()``"
   ]
  },
  {
   "cell_type": "code",
   "execution_count": 11,
   "metadata": {},
   "outputs": [
    {
     "name": "stdout",
     "output_type": "stream",
     "text": [
      "Hola mundo!\n",
      "Estamos saludando desde el archiv\n",
      "XD\n",
      "Adios...Yo escribi esto desde código :D\n",
      "Yo escribi esto desde código :D\n",
      "Yo escribi esto desde código :D\n"
     ]
    }
   ],
   "source": [
    "file = open('lectura.txt', 'r', encoding='utf-8')\n",
    "for line in file:\n",
    "    print(line, end='')\n",
    "file.close()"
   ]
  },
  {
   "cell_type": "code",
   "execution_count": 13,
   "metadata": {},
   "outputs": [
    {
     "name": "stdout",
     "output_type": "stream",
     "text": [
      "['HOLA MUNDO!\\n', 'ESTAMOS SALUDANDO DESDE EL ARCHIV\\n', 'XD\\n', 'ADIOS...YO ESCRIBI ESTO DESDE CÓDIGO :D\\n', 'YO ESCRIBI ESTO DESDE CÓDIGO :D\\n', 'YO ESCRIBI ESTO DESDE CÓDIGO :D\\n']\n"
     ]
    }
   ],
   "source": [
    "file = open('lectura.txt', 'r', encoding='utf-8')\n",
    "lines = [line.upper() for line in file]\n",
    "file.close()\n",
    "print(lines)"
   ]
  },
  {
   "cell_type": "markdown",
   "metadata": {},
   "source": [
    "Normalmente se hace uso de la función ``open()`` con un context manager, es decir con un ``with`` esto nos permite controlar el cierre de los archivos si se llegase a generar un error en el programa, ahorrandonos problemas futuros, usarlo es muy sencillo"
   ]
  },
  {
   "cell_type": "code",
   "execution_count": 15,
   "metadata": {},
   "outputs": [
    {
     "name": "stdout",
     "output_type": "stream",
     "text": [
      "Hola mundo!\n",
      "Estamos saludando desde el archiv\n",
      "XD\n",
      "Adios...Yo escribi esto desde código :D\n",
      "Yo escribi esto desde código :D\n",
      "Yo escribi esto desde código :D\n"
     ]
    }
   ],
   "source": [
    "with open('lectura.txt', 'r', encoding='utf-8') as file:\n",
    "    lines = file.readlines()\n",
    "    for line in lines:\n",
    "        print(line, end='')"
   ]
  },
  {
   "cell_type": "markdown",
   "metadata": {},
   "source": [
    "> como puedes observar evitamos el uso de ``close()`` porque el context manager se encarga por nosotros de ejecutar dicha tarea\n",
    "\n",
    "si por alguna razón necesitaras leer mas de un archivo a la vez puedes hacerlo de dos maneras, una es creando dos variables dentro del context manager y la otra es usando una función del módulo ``fileinput`` que viene en el built-in de Python.\n",
    "\n",
    "## fileinput\n",
    "\n",
    "para leer varios archivos con el módulo ``fileinput`` es tan sencillo como"
   ]
  },
  {
   "cell_type": "code",
   "execution_count": 25,
   "metadata": {},
   "outputs": [
    {
     "name": "stdout",
     "output_type": "stream",
     "text": [
      "Hola mundo!\n",
      "Estamos saludando desde el archivo\n",
      "XD\n",
      "Adios...Yo escribi esto desde cÃ³digo :D\n",
      "Yo escribi esto desde cÃ³digo :D\n",
      "Yo escribi esto desde cÃ³digo :D\n",
      "soy la lectura dos :/\n",
      "pero bueno es aprte del oficio\n"
     ]
    }
   ],
   "source": [
    "import fileinput\n",
    "\n",
    "with fileinput.input(files=('lectura.txt', 'lectura-dos.txt')) as f:\n",
    "    for line in f:\n",
    "        print(line, end='')"
   ]
  },
  {
   "cell_type": "markdown",
   "metadata": {},
   "source": [
    "Este método nos ofrece funciones adicionales como"
   ]
  },
  {
   "cell_type": "code",
   "execution_count": 24,
   "metadata": {},
   "outputs": [
    {
     "name": "stdout",
     "output_type": "stream",
     "text": [
      "f.filename(): lectura.txt\n",
      "f.isfirstline(): True\n",
      "f.lineno(): 1\n",
      "f.filelineno(): 1\n",
      "Estamos saludando desde el archivo\n",
      "XD\n",
      "Adios...Yo escribi esto desde cÃ³digo :D\n",
      "Yo escribi esto desde cÃ³digo :D\n",
      "Yo escribi esto desde cÃ³digo :D\n",
      "soy la lectura dos :/\n",
      "pero bueno es aprte del oficio\n"
     ]
    }
   ],
   "source": [
    "import fileinput\n",
    "\n",
    "with fileinput.input(files=('lectura.txt', 'lectura-dos.txt')) as f:\n",
    "    line = f.readline()\n",
    "    print('f.filename():', f.filename())\n",
    "    print('f.isfirstline():', f.isfirstline())\n",
    "    print('f.lineno():', f.lineno())\n",
    "    print('f.filelineno():', f.filelineno())\n",
    "    for line in f:\n",
    "        print(line, end='')"
   ]
  },
  {
   "cell_type": "markdown",
   "metadata": {},
   "source": [
    "## mas de un archivo con el context manager"
   ]
  },
  {
   "cell_type": "code",
   "execution_count": 23,
   "metadata": {},
   "outputs": [
    {
     "name": "stdout",
     "output_type": "stream",
     "text": [
      "Hola mundo!\n",
      "Estamos saludando desde el archivo\n",
      "XD\n",
      "Adios...Yo escribi esto desde código :D\n",
      "Yo escribi esto desde código :D\n",
      "Yo escribi esto desde código :D\n",
      "soy la lectura dos :/\n",
      "pero bueno es aprte del oficio\n"
     ]
    }
   ],
   "source": [
    "with open('lectura.txt', 'r', encoding='utf-8') as f1, open('lectura-dos.txt', 'r', encoding='utf-8') as f2:\n",
    "    for line in f1:\n",
    "        print(line, end='')\n",
    "    for line in f2:\n",
    "        print(line, end='')"
   ]
  }
 ],
 "metadata": {
  "interpreter": {
   "hash": "e10c588331812ce8644711cf49296cc7106d891fd97acbc1dbff548955ff74f4"
  },
  "kernelspec": {
   "display_name": "Python 3.9.7 64-bit ('learn-python': conda)",
   "name": "python3"
  },
  "language_info": {
   "codemirror_mode": {
    "name": "ipython",
    "version": 3
   },
   "file_extension": ".py",
   "mimetype": "text/x-python",
   "name": "python",
   "nbconvert_exporter": "python",
   "pygments_lexer": "ipython3",
   "version": "3.9.7"
  },
  "orig_nbformat": 4
 },
 "nbformat": 4,
 "nbformat_minor": 2
}
