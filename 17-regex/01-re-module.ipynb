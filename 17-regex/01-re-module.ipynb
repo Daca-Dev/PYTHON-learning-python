{
 "cells": [
  {
   "cell_type": "markdown",
   "metadata": {},
   "source": [
    "# Expresiones regulares\n",
    "\n",
    "Las expresiones regulares son un método de busqueda optimizado para encontrar patrones dentro de las cadenas de caracter, es suma mente potente para encontrar coincidencias de elementos que sabes su estructura pero no los valores exactos.\n",
    "\n",
    "Aunque las espresiones regulares, también llamado ``regex`` no son solo aplicables a la programación estas brindan una muy potente herramienta a la hora de filtar o extraer datos de cadenas de caracter, para empezar a usarlo en ``Python`` debemos de usar el módulo ``re`` que viene con la instalación de ``Python``\n",
    "\n",
    "Supongamos que queremos extraer un número telefónico, pero antes de empezar vamos a hacer elcódigo como si fura un script que lo busca a través de métodos de Strings.\n",
    "\n",
    "El número que queremos encontrar va a tener la siguiente estructrua: **415-555-4242**"
   ]
  },
  {
   "cell_type": "code",
   "execution_count": 5,
   "metadata": {},
   "outputs": [],
   "source": [
    "def isPhoneNumber(text):\n",
    "    if len(text) != 12:\n",
    "        return False\n",
    "    for i in range(0, 3):\n",
    "        if not text[i].isdecimal():\n",
    "            return False\n",
    "    if text[3] != '-':\n",
    "        return False\n",
    "    for i in range(4, 7):\n",
    "        if not text[i].isdecimal():\n",
    "            return False\n",
    "    if text[7] != '-':\n",
    "        return False\n",
    "    for i in range(8, 12):\n",
    "        if not text[i].isdecimal():\n",
    "            return False\n",
    "    return True"
   ]
  },
  {
   "cell_type": "markdown",
   "metadata": {},
   "source": [
    "En el anterior código estamos busca una coincidencia dentro de una cadena de caracteres que vaya cumpliendo con la estructura que habiamos definido, ahora podemos probarlo"
   ]
  },
  {
   "cell_type": "code",
   "execution_count": 6,
   "metadata": {},
   "outputs": [
    {
     "name": "stdout",
     "output_type": "stream",
     "text": [
      "415-555-4242 is a phone number:\n",
      "True\n",
      "Moshi moshi is a phone number:\n",
      "False\n"
     ]
    }
   ],
   "source": [
    "print('415-555-4242 is a phone number:')\n",
    "print(isPhoneNumber('415-555-4242'))\n",
    "print('Moshi moshi is a phone number:')\n",
    "print(isPhoneNumber('Moshi moshi'))"
   ]
  },
  {
   "cell_type": "markdown",
   "metadata": {},
   "source": [
    "Sin embargo tenemos un código bastante largo para la simple tarea de extraer un número y aún así tenemos el problema de que sucedería si el numero que nos envían tiene la siguiente estructura **(415)-555-4242**, nuestro código no lo encontraría porque no esta dentro de las validaciones del código que tenemos, aqui es donde entra la potencia de las expresiones regulares.\n",
    "\n",
    "``regex`` nos permite obtener información según patrones que nosotros definamos, estos patrones estan definidos por una sintaxis bien planteada y que empezaremos a abordar."
   ]
  },
  {
   "cell_type": "code",
   "execution_count": 7,
   "metadata": {},
   "outputs": [
    {
     "data": {
      "text/plain": [
       "'415-555-4242'"
      ]
     },
     "execution_count": 7,
     "metadata": {},
     "output_type": "execute_result"
    }
   ],
   "source": [
    "import re\n",
    "\n",
    "regex = re.compile(r'\\d\\d\\d-\\d\\d\\d-\\d\\d\\d\\d')\n",
    "om = regex.search('this 415-555-4242 is a phone number?')\n",
    "om.group()"
   ]
  },
  {
   "cell_type": "markdown",
   "metadata": {},
   "source": [
    "en primera instancia con este código lo que hicimos fue crear una expresión regular que se va a aplicar a las cadenas de caracter que enviemos a nuestro modelo compilado, en este caso la frase **\"this 415-555-4242 is a phone number?\"**\n",
    "\n",
    "> Fíjate que la expresión regular encontro el número dentro del string completo, no toco pasarlo como parámetro filtrado\n",
    "\n",
    "la expresión regex **'\\d\\d\\d-\\d\\d\\d-\\d\\d\\d\\d'** lo que esta diciendo es que busca tres caracteres numericos (0-9) seguido de un guion (-) y luego otros 3 caracteres númericos junto a otro guión y finalmente otros 4 caracteres numericos.\n",
    "\n",
    "sin embargo asi se ve un poco mas tediosa la expresión, afortunadamente ``regex`` nos permite simplificar y facilitar el entendimiento de las expresiones, con el caracte ``{}`` nos permite defnir la cantidad de elementos que queremos buscar en la coincidencia\n",
    "\n",
    "- podemos definir una cantidad en especifico ``{1}``, ``{3}``\n",
    "- podemos definir un rango ``{3,5}`` ``{min, max}``\n",
    "- podemos definir un limite minimo o maximo y que el otro extremo sea variable\n",
    "  - ``{, max}``: encontrar 0 o max coincidencias\n",
    "  - ``{min, }``: encontrar min o inf coincidencias\n",
    "\n",
    "veamoslo en funcionamiento"
   ]
  },
  {
   "cell_type": "code",
   "execution_count": 8,
   "metadata": {},
   "outputs": [
    {
     "data": {
      "text/plain": [
       "'415-555-4242'"
      ]
     },
     "execution_count": 8,
     "metadata": {},
     "output_type": "execute_result"
    }
   ],
   "source": [
    "regex = re.compile(r'\\d{3}-\\d{3}-\\d{4}')\n",
    "om = regex.search('this 415-555-4242 is a phone number?')\n",
    "om.group()"
   ]
  },
  {
   "cell_type": "code",
   "execution_count": 16,
   "metadata": {},
   "outputs": [
    {
     "name": "stdout",
     "output_type": "stream",
     "text": [
      "None\n",
      "<re.Match object; span=(0, 4), match='aaaa'>\n"
     ]
    }
   ],
   "source": [
    "regex = re.compile(r'a{3,5}')\n",
    "om = regex.search('aa')\n",
    "print(om)\n",
    "om = regex.search('aaaa')\n",
    "print(om)\n"
   ]
  },
  {
   "cell_type": "markdown",
   "metadata": {},
   "source": [
    "También podemos agrupar elementos para realizar busquedas de agrupamientos de caracteres, por ejemplo que quisieramos buscar las palabras que empiezan con ``Bat`` como Batimovil, Baticinturon, etc.\n",
    "\n",
    "# Acceso rapido a Caracteres \n",
    "\n",
    "Antes de mostrar los grupos vamos a ver las demas opciones que nos ofrece regex similares a ``\\d``\n",
    "\n",
    "![caracteres especiales regex](./images/img1.png)\n",
    "\n",
    "Ahora si para agrupar los elementos usaremos los ``()`` lo cual ademas de permitirnos definir los patrones de ese grupos, al momento de extraer datos también podemos manejarlo por grupos y accder a cada grupo dentro de nuestra expresión"
   ]
  },
  {
   "cell_type": "code",
   "execution_count": 27,
   "metadata": {},
   "outputs": [
    {
     "data": {
      "text/plain": [
       "['man', 'mobile', 'bat']"
      ]
     },
     "execution_count": 27,
     "metadata": {},
     "output_type": "execute_result"
    }
   ],
   "source": [
    "regex = re.compile(r'Bat(man|mobile|copter|bat)')\n",
    "om = regex.findall('Batman, batman, Batmobile, Batbat')\n",
    "om\n"
   ]
  },
  {
   "cell_type": "markdown",
   "metadata": {},
   "source": [
    "> fíjate que para esta expresión usamos el método ``findall`` que nos permite buscar todas las coincidencias de la expresión y no solo la primera como lo define ``search``\n",
    "\n",
    "# Agrupamiento\n",
    "\n",
    "En esta expresión podemos ver dos nuevos comportamientos de las ``regex``\n",
    "\n",
    "1. el pipe ``|`` que es analogo a la condicional ``or`` de logica booleana, es decir que buscara esta coincidencia Ó la otra.\n",
    "2. el agrupamiento `()` el cual nos ayuda a definir que buscaremos dentro de las cadenas de catacteres.\n",
    "\n",
    "muchas veces los caracteres especiales como ``\\d`` y ``\\w`` no cumplen con nuestros requisitos de buscar elementos dentro de una expresión regular, supongamos que queremos buscar solo las vocales dentro de nuesto string, esto se define con los ``[]`` dentro de los cuales podremos definir los caracteres que buscamos"
   ]
  },
  {
   "cell_type": "code",
   "execution_count": 29,
   "metadata": {},
   "outputs": [
    {
     "data": {
      "text/plain": [
       "['o', 'o', 'o', 'e', 'a', 'a', 'o', 'o', 'A', 'O', 'O']"
      ]
     },
     "execution_count": 29,
     "metadata": {},
     "output_type": "execute_result"
    }
   ],
   "source": [
    "vowelRegex = re.compile(r'[aeiouAEIOU]')\n",
    "vowelRegex.findall('RoboCop eats baby food. BABY FOOD.')"
   ]
  },
  {
   "cell_type": "markdown",
   "metadata": {},
   "source": [
    "la sentencia ``regex`` creada esta definiendo que busque las vocales, tanto mayusculas como minusculas\n",
    "\n",
    "otros wildcards que nos ofrece ``regex`` son los de coincidencias, que nos permiten selecionar definir si queremos o no encontrar una coincidencia de elementos en nuestros grupos o caracteres, aunque muchos de estos se pueden hacer con ``{}``, a veces es mas facil usar estos wildcards\n",
    "\n",
    "# wildcards\n",
    "\n",
    "- ``*`` cero o mas coincidencias\n",
    "- ``+`` una o mas coincidencia\n",
    "- ``?`` cero o una coincidencia"
   ]
  },
  {
   "cell_type": "code",
   "execution_count": 36,
   "metadata": {},
   "outputs": [
    {
     "name": "stdout",
     "output_type": "stream",
     "text": [
      "mo1: 415-555-4242\n",
      "mo2: 555-4242\n"
     ]
    }
   ],
   "source": [
    "# uso de ?\n",
    "phoneRegex = re.compile(r'(\\d\\d\\d-)?\\d\\d\\d-\\d\\d\\d\\d')\n",
    "mo1 = phoneRegex.search('My number is 415-555-4242')\n",
    "print('mo1:', mo1.group())\n",
    "mo2 = phoneRegex.search('My number is 555-4242')\n",
    "print('mo2:', mo2.group())"
   ]
  },
  {
   "cell_type": "code",
   "execution_count": 33,
   "metadata": {},
   "outputs": [
    {
     "name": "stdout",
     "output_type": "stream",
     "text": [
      "mo1: Batman\n",
      "mo2: Batwoman\n",
      "mo3: Batwowowowoman\n"
     ]
    }
   ],
   "source": [
    "# uso de *\n",
    "batRegex = re.compile(r'Bat(wo)*man')\n",
    "mo1 = batRegex.search('The Adventures of Batman')\n",
    "print('mo1:', mo1.group())\n",
    "mo2 = batRegex.search('The Adventures of Batwoman')\n",
    "print('mo2:', mo2.group())\n",
    "mo3 = batRegex.search('The Adventures of Batwowowowoman')\n",
    "print('mo3:', mo3.group())"
   ]
  },
  {
   "cell_type": "code",
   "execution_count": 35,
   "metadata": {},
   "outputs": [
    {
     "name": "stdout",
     "output_type": "stream",
     "text": [
      "mo1: Batwoman\n",
      "mo2: Batwowowowoman\n",
      "mo3: True\n"
     ]
    }
   ],
   "source": [
    "# uso de +\n",
    "batRegex = re.compile(r'Bat(wo)+man')\n",
    "mo1 = batRegex.search('The Adventures of Batwoman')\n",
    "print('mo1:', mo1.group())\n",
    "mo2 = batRegex.search('The Adventures of Batwowowowoman')\n",
    "print('mo2:', mo2.group())\n",
    "mo3 = batRegex.search('The Adventures of Batman')\n",
    "print('mo3:', mo3 == None)"
   ]
  },
  {
   "cell_type": "markdown",
   "metadata": {},
   "source": [
    "# Caret and Dollar Sign Characters\n",
    "\n",
    "el caret ``^`` nos permite definir coincidencias solo que esten desde el inicio de la cadena de caracter estudiada, y de manera analoga el caracter ``$`` nos permite buscar coincidencia que esten al final de nuestra cadena"
   ]
  },
  {
   "cell_type": "code",
   "execution_count": 38,
   "metadata": {},
   "outputs": [
    {
     "name": "stdout",
     "output_type": "stream",
     "text": [
      "result: <re.Match object; span=(0, 5), match='Hello'>\n",
      "result: True\n",
      "result: <re.Match object; span=(16, 17), match='2'>\n",
      "result: True\n",
      "result: <re.Match object; span=(0, 10), match='1234567890'>\n",
      "result: True\n",
      "result: True\n"
     ]
    }
   ],
   "source": [
    "beginsWithHello = re.compile(r'^Hello')\n",
    "print('result:', beginsWithHello.search('Hello world!'))\n",
    "print('result:', beginsWithHello.search('He said hello.') == None)\n",
    "\n",
    "endsWithNumber = re.compile(r'\\d$')\n",
    "print('result:', endsWithNumber.search('Your number is 42'))\n",
    "print('result:', endsWithNumber.search('Your number is forty two.') == None)\n",
    "\n",
    "wholeStringIsNum = re.compile(r'^\\d+$')\n",
    "print('result:', wholeStringIsNum.search('1234567890'))\n",
    "print('result:', wholeStringIsNum.search('12345xyz67890') == None)\n",
    "print('result:', wholeStringIsNum.search('12 34567890') == None)"
   ]
  },
  {
   "cell_type": "markdown",
   "metadata": {},
   "source": [
    "por último vamos a ver un ultimo wildcard que nos permite capturar todos los tipos de caracteres, este es el . y puede ser usado en combinación con los otros wildcards para obtener mayor funcionalidad\n",
    "\n",
    "- ``.`` obtener todos los caracteres excepto el salto le línea\n",
    "- ``.*`` obtener todo en su mayor coincidencia\n",
    "- ``.*?`` obtener todo en su menor coincidencia"
   ]
  },
  {
   "cell_type": "code",
   "execution_count": 41,
   "metadata": {},
   "outputs": [
    {
     "name": "stdout",
     "output_type": "stream",
     "text": [
      "uso de . ['cat', 'hat', 'sat', 'lat', 'mat']\n",
      "uso de .* Al\n",
      "uso de .* Sweigart\n",
      "uso de .* <To serve man> for dinner.>\n",
      "uso de .*? <To serve man>\n"
     ]
    }
   ],
   "source": [
    "# uso de .\n",
    "atRegex = re.compile(r'.at')\n",
    "print('uso de .', atRegex.findall('The cat in the hat sat on the flat mat.'))\n",
    "\n",
    "# uso de .*\n",
    "nameRegex = re.compile(r'First Name: (.*) Last Name: (.*)')\n",
    "mo = nameRegex.search('First Name: Al Last Name: Sweigart')\n",
    "print('uso de .*', mo.group(1))\n",
    "print('uso de .*', mo.group(2))\n",
    "\n",
    "# uso de .*?\n",
    "greedyRegex = re.compile(r'<.*>')\n",
    "mo = greedyRegex.search('<To serve man> for dinner.>')\n",
    "print('uso de .*', mo.group())\n",
    "nongreedyRegex = re.compile(r'<.*?>')\n",
    "mo = nongreedyRegex.search('<To serve man> for dinner.>')\n",
    "print('uso de .*?', mo.group())"
   ]
  },
  {
   "cell_type": "markdown",
   "metadata": {},
   "source": [
    "Resumen de las expresiones regulares que hemos visto hasta el momento\n",
    "\n",
    "![expresiones regulares](./images/img2.png)"
   ]
  }
 ],
 "metadata": {
  "interpreter": {
   "hash": "9228c2573cbbde0dac843b8968f6cfda5f3b714f9bc1009cf3aff046ad8f0798"
  },
  "kernelspec": {
   "display_name": "Python 3.9.7 64-bit ('learning-python-book': conda)",
   "name": "python3"
  },
  "language_info": {
   "codemirror_mode": {
    "name": "ipython",
    "version": 3
   },
   "file_extension": ".py",
   "mimetype": "text/x-python",
   "name": "python",
   "nbconvert_exporter": "python",
   "pygments_lexer": "ipython3",
   "version": "3.9.7"
  },
  "orig_nbformat": 4
 },
 "nbformat": 4,
 "nbformat_minor": 2
}
