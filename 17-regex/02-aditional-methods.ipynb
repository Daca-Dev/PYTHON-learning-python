{
 "cells": [
  {
   "cell_type": "markdown",
   "metadata": {},
   "source": [
    "# Métodos y funciones adicionales del módulo re\n",
    "\n",
    "En la primera parte se abordaron los temas de expresiones regulares en Python, y vimos como funcionan estas expresiones con el módulo, todo lo visto allí es facilmente aplicable a otras herramientas y lenguages de programación que empleen expresiones regulares.\n",
    "\n",
    "Ahora veremos funciones adicionales que nos facilitarán el desarrollo en Python, estas funciones viene con el módulo y aunque es posible que se puedan encontrar en otros lenguajes, no son nativos de regex\n",
    "\n",
    "## Case-Insensitive Matching\n",
    "\n",
    "Si queremos buscar una coincidencia de una palabra sin importar si son mayusculas o minusculas, en lugar de crear una expresión que tenga en cuenta todas las posbiles combinaciones podemos pasar el parámetro ``re.IGNORECASE`` o ``re.I``"
   ]
  },
  {
   "cell_type": "code",
   "execution_count": 1,
   "metadata": {},
   "outputs": [
    {
     "name": "stdout",
     "output_type": "stream",
     "text": [
      "RoboCop\n",
      "ROBOCOP\n",
      "robocop\n"
     ]
    }
   ],
   "source": [
    "import re\n",
    "\n",
    "# como no se debe hacer\n",
    "regex1 = re.compile('RoboCop')\n",
    "regex2 = re.compile('ROBOCOP')\n",
    "regex3 = re.compile('robOcop')\n",
    "regex4 = re.compile('RobocOp')\n",
    "# como si se debe hacer\n",
    "robocop = re.compile(r'robocop', re.I)\n",
    "print(robocop.search('RoboCop is part man, part machine, all cop.').group())\n",
    "print(robocop.search('ROBOCOP protects the innocent.').group())\n",
    "print(robocop.search('Al, why does your programming book talk about robocop so much?').group())"
   ]
  },
  {
   "cell_type": "markdown",
   "metadata": {},
   "source": [
    "## Substituting Strings with the sub() Method\n",
    "\n",
    "también con ayuda de las expresiones regulares y el método ``sub()`` podemos reemplazar las coincidencias dentro de un texto con una frase en especifico, este método es sencillo de usar y se puede usar una vez ya se haya compilado la expresión regular"
   ]
  },
  {
   "cell_type": "code",
   "execution_count": 2,
   "metadata": {},
   "outputs": [
    {
     "data": {
      "text/plain": [
       "'CENSORED gave the secret documents to CENSORED.'"
      ]
     },
     "execution_count": 2,
     "metadata": {},
     "output_type": "execute_result"
    }
   ],
   "source": [
    "namesRegex = re.compile(r'Agent \\w+')\n",
    "namesRegex.sub('CENSORED', 'Agent Alice gave the secret documents to Agent Bob.')"
   ]
  },
  {
   "cell_type": "markdown",
   "metadata": {},
   "source": [
    "> Cabe resaltar que el método ``sub()`` devuelve un nuevo string con los cambios efectuados\n",
    "\n",
    "También uno de los modos de uso es reemplazar los grupos dentro de la expresión regular generada, y esto se hace con la combinaci;on de strings ``\\1``, ``\\2``, `\\3` y así susesivamente, veamoslo en un ejemplo"
   ]
  },
  {
   "cell_type": "code",
   "execution_count": 3,
   "metadata": {},
   "outputs": [
    {
     "data": {
      "text/plain": [
       "'A**** told C**** that E**** knew B**** was a double agent.'"
      ]
     },
     "execution_count": 3,
     "metadata": {},
     "output_type": "execute_result"
    }
   ],
   "source": [
    "agentNamesRegex = re.compile(r'Agent (\\w)\\w*')\n",
    "agentNamesRegex.sub(r'\\1****', 'Agent Alice told Agent Carol that Agent Eve knew Agent Bob was a double agent.')"
   ]
  },
  {
   "cell_type": "markdown",
   "metadata": {},
   "source": [
    "Lo que se esta especificando en el código anterior es que agregue el primer grupo de la coincidencia y después agrege los caracteres ``****`` y el primer grupo es el de la inicial del nombre\n",
    "\n",
    "## Manejando expresiones regulares complejas\n",
    "\n",
    "Muchas veces se crean expresiones regulares complejas que son dificiles de leer y que pueden ser tediosas y mas si estas se exeden de los 80 caracteres que segun el zen de python es el maximo limite que deberia tener una línea de código.\n",
    "\n",
    "supongamos que tenemos el siguiente código"
   ]
  },
  {
   "cell_type": "code",
   "execution_count": 4,
   "metadata": {},
   "outputs": [],
   "source": [
    "phoneRegex = re.compile(r'((\\d{3}|\\(\\d{3}\\))?(\\s|-|\\.)?\\d{3}(\\s|-|\\.)\\d{4} (\\s*(ext|x|ext.)\\s*\\d{2,5})?)')"
   ]
  },
  {
   "cell_type": "markdown",
   "metadata": {},
   "source": [
    "es un código muy dificil de leer a primera instancia, pero el modulo `re` nos permite organizar nuestra expresión regular en varias líneas sin que se tomen en cuenta los saltos de línea, esto se hace enviando un parametro adicional llamado ``vervose`` y se hace de la siguiente forma"
   ]
  },
  {
   "cell_type": "code",
   "execution_count": 5,
   "metadata": {},
   "outputs": [],
   "source": [
    "phoneRegex = re.compile(r'''(\n",
    "    (\\d{3}|\\(\\d{3}\\))? # area code\n",
    "    (\\s|-|\\.)? # separator\n",
    "    \\d{3} # first 3 digits\n",
    "    (\\s|-|\\.) # separator\n",
    "    \\d{4} # last 4 digits\n",
    "    (\\s*(ext|x|ext.)\\s*\\d{2,5})? # extension\n",
    "    )''', re.VERBOSE\n",
    ")"
   ]
  },
  {
   "cell_type": "markdown",
   "metadata": {},
   "source": [
    "De esta forma es mucho mas amigable y nos permite incluso colocar comentarios como se ahce normalmente en Python sin que estos sean tomados en cuenta, esto nos permite tener una mejor documentación de nuestro código\n",
    "\n",
    "## Combinación de los parámetros re.IGNORECASE, re.DOTALL y re.VERBOSE\n",
    "\n",
    "para combinar estos parámetros si llegase a ser necesario estos se deben de enviar con el caracter ``or`` o ``pipe`` (|) como se muestra a continuación\n"
   ]
  },
  {
   "cell_type": "code",
   "execution_count": 6,
   "metadata": {},
   "outputs": [],
   "source": [
    "someRegexValue = re.compile('foo', re.IGNORECASE | re.DOTALL)\n",
    "someRegexValue = re.compile('foo', re.IGNORECASE | re.DOTALL | re.VERBOSE)"
   ]
  }
 ],
 "metadata": {
  "interpreter": {
   "hash": "cb6cd5bb8a4fc649266e1b95dae8ab58b18cb2208a1b6d749f13a16dd38b4c0e"
  },
  "kernelspec": {
   "display_name": "Python 3.9.7 64-bit ('learning-python': conda)",
   "name": "python3"
  },
  "language_info": {
   "codemirror_mode": {
    "name": "ipython",
    "version": 3
   },
   "file_extension": ".py",
   "mimetype": "text/x-python",
   "name": "python",
   "nbconvert_exporter": "python",
   "pygments_lexer": "ipython3",
   "version": "3.9.7"
  },
  "orig_nbformat": 4
 },
 "nbformat": 4,
 "nbformat_minor": 2
}
