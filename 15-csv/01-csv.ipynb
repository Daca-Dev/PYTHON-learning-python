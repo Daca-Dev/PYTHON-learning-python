{
 "cells": [
  {
   "cell_type": "markdown",
   "metadata": {},
   "source": [
    "# Manejo de archivos CSV\n",
    "\n",
    "El archivo CSV es un estándar ampliamente usado para exportar información, como por ejemplo desde una base de datos o un archivo Excel, CSV traduce comma separated values (valores separados por comas) y su estructura consiste en que cada línea representa un registro y cada valor despues de una coma es una columna.\n",
    "\n",
    "para poder operar con archivos CSV vamos a usar el módulo de Python que nos permite manipular y crear objetos que son capces abstraer todo el proceso de manipualr estos archivos por nostros.\n",
    "\n",
    "el modulo se llama **csv** y debe de ser importado para poder usarlo, por defecto viene en el core de Python, y este módulo pone a nuestra disposición funciones que nos permiten crear un escritor o lector según sea el caso. estas funciones son\n",
    "\n",
    "- ``csv.reader (csvfile, dialect='excel', **fmtparams)``\n",
    "- ``csv.writer (csvfile, dialect='excel', **fmtparams)``\n",
    "- ``csv.list_dialects()``\n",
    "\n",
    "en donde ``csvfile`` es el path o archivo en donde se escribira/leera el contenido, el ``dialect`` es una variable que le permite al archivo saber en que formato esta trabajando, por defecto esta **excel** pero este puede ser cambiado por uno dentro de la lista que entrega ``list_dialects()``."
   ]
  },
  {
   "cell_type": "code",
   "execution_count": 2,
   "metadata": {},
   "outputs": [
    {
     "data": {
      "text/plain": [
       "['excel', 'excel-tab', 'unix']"
      ]
     },
     "execution_count": 2,
     "metadata": {},
     "output_type": "execute_result"
    }
   ],
   "source": [
    "import csv\n",
    "\n",
    "csv.list_dialects()\n"
   ]
  },
  {
   "cell_type": "markdown",
   "metadata": {},
   "source": [
    "# CSV Writer\n",
    "\n",
    "esta función nos retornara un Objeto que nos permite escribir archivos CSV, ya sea creadolos o editando algunos ya creados, y esta clase tiene los siguientes métodos\n",
    "\n",
    "- ``csvwriter.writerow(row)`` = Write the row parameter to the writer’s file object, formatted according to the current dialect.\n",
    "- ``csvwriter.writerows(rows)`` = Write all elements in rows (an iterable of row objects as described above) to the writer’s file object, formatted according to the current dialect.\n",
    "- ``csvwriter.dialect`` = A read-only description of the dialect in use by the writer.}\n",
    "\n",
    "Veamos el uso de esta función"
   ]
  },
  {
   "cell_type": "code",
   "execution_count": 3,
   "metadata": {},
   "outputs": [
    {
     "name": "stdout",
     "output_type": "stream",
     "text": [
      "Crearting CSV file\n"
     ]
    }
   ],
   "source": [
    "print('Crearting CSV file')\n",
    "with open('sample.csv', 'w', newline='') as csvfile:\n",
    "    writer = csv.writer(csvfile)\n",
    "    writer.writerow(['She Loves You', 'Sept 1963'])\n",
    "    writer.writerow(['I Want to Hold Your Hand', 'Dec 1963'])\n",
    "    writer.writerow(['Cant Buy Me Love', 'Apr 1964'])\n",
    "    writer.writerow(['A Hard Days Night', 'July 1964'])"
   ]
  },
  {
   "cell_type": "markdown",
   "metadata": {},
   "source": [
    "# Writer CSV \n",
    "\n",
    "Para escribir un archivo CSV debemos de usar la función ``csv.reader()`` la cual pone a nuestra disposición los siguientes métodos y atributos\n",
    "\n",
    "- `csvreader.dialect` = A read-only description of the dialect in use by the parser.\n",
    "- `csvreader.line_num` = The number of lines read from the source iterator. This is not the same as the number of records returned, as records can span multiple lines.\n",
    "\n",
    "veamos un ejemplo de uso"
   ]
  },
  {
   "cell_type": "code",
   "execution_count": 4,
   "metadata": {},
   "outputs": [
    {
     "name": "stdout",
     "output_type": "stream",
     "text": [
      "Starting to read csv file\n",
      "She Loves You, Sept 1963\n",
      "I Want to Hold Your Hand, Dec 1963\n",
      "Cant Buy Me Love, Apr 1964\n",
      "A Hard Days Night, July 1964\n",
      "Done Reading\n"
     ]
    }
   ],
   "source": [
    "print('Starting to read csv file')\n",
    "with open('sample.csv', newline='') as csvfile:\n",
    "    reader = csv.reader(csvfile)\n",
    "    for row in reader:\n",
    "        print(*row, sep=', ')\n",
    "print('Done Reading')\n"
   ]
  },
  {
   "cell_type": "markdown",
   "metadata": {},
   "source": [
    "# Crear archivos CSV con ayuda de diccionarios\n",
    "\n",
    "Por lo general los archivos CSV deben de registrar datos relacionados con algo, por lo general esta relación se especifica con las llaves que son los encabezados del archivo, afortunadamente **csv** nos permite manipular los archivos en función de estas llaves, y es con ayuda de las clases **CSV DictWriter** y **CSV DictReader** que se crean con ayuda de\n",
    "\n",
    "- ``csv.DictWriter()``\n",
    "- ``csv.DictReader()``\n",
    "\n",
    "veamos como usar estos dos objetos"
   ]
  },
  {
   "cell_type": "code",
   "execution_count": 8,
   "metadata": {},
   "outputs": [],
   "source": [
    "import csv\n",
    "with open('names.csv', 'w', newline='') as csvfile:\n",
    "    fieldnames = ['first_name', 'last_name', 'result']\n",
    "    writer = csv.DictWriter(csvfile, fieldnames=fieldnames)\n",
    "    writer.writeheader()\n",
    "    writer.writerow(\n",
    "        {'first_name': 'John', 'last_name': 'Smith', 'result': 54}\n",
    "    )\n",
    "    writer.writerow(\n",
    "        {'first_name': 'Jane', 'last_name': 'Lewis', 'result': 63}\n",
    "    )\n",
    "    writer.writerow(\n",
    "        {'first_name': 'Chris', 'last_name': 'Davies', 'result': 72}\n",
    "    )\n"
   ]
  },
  {
   "cell_type": "markdown",
   "metadata": {},
   "source": [
    "en el código anterior podemos observar las diferencias de usar esta clase, y es que nos permite definir los encabezados del archivo siendo una lista de strings, los estrigns son los nombres de cada columna , en este caso 3 columnas, dicha lista se envia dentro del parámetro **fieldname** y se escriben en el archivo con el método ``writeheader()`` y al escribir una nueva columna podemos usar el mismo método ``writerow()`` pero esta vez pasamos como valor un diccionario y dentro del archivo solo se escribirán los datos que estan en las llaves definidas\n",
    "\n",
    "> si una llave faltase, esta la dejaria vacia\n",
    "\n",
    "de igual manera si queremos leer un archivo CSV con este tipo de estructura podemos usar la clase ``DictReader()`` cuyo único parámetro es el apth del archivo, veamos su uso"
   ]
  },
  {
   "cell_type": "code",
   "execution_count": 14,
   "metadata": {},
   "outputs": [
    {
     "name": "stdout",
     "output_type": "stream",
     "text": [
      "Starting to read dict CSV example\n",
      "first_name last_name result \n",
      "------------------------------\n",
      "John Smith 54\n",
      "Jane Lewis 63\n",
      "Chris Davies 72\n",
      "------------------------------\n",
      "Done\n"
     ]
    }
   ],
   "source": [
    "import csv\n",
    "\n",
    "print('Starting to read dict CSV example')\n",
    "with open('names.csv', newline='') as csvfile:\n",
    "    reader = csv.DictReader(csvfile)\n",
    "    \n",
    "    for heading in reader.fieldnames:\n",
    "        print(heading, end=' ')\n",
    "\n",
    "    print('\\n', '-'* 30, sep='')\n",
    "    for row in reader:\n",
    "        print(row['first_name'], row['last_name'], row['result'])\n",
    "    print('-'* 30)\n",
    "    \n",
    "print('Done')"
   ]
  }
 ],
 "metadata": {
  "interpreter": {
   "hash": "e10c588331812ce8644711cf49296cc7106d891fd97acbc1dbff548955ff74f4"
  },
  "kernelspec": {
   "display_name": "Python 3.9.7 64-bit ('learn-python': conda)",
   "name": "python3"
  },
  "language_info": {
   "codemirror_mode": {
    "name": "ipython",
    "version": 3
   },
   "file_extension": ".py",
   "mimetype": "text/x-python",
   "name": "python",
   "nbconvert_exporter": "python",
   "pygments_lexer": "ipython3",
   "version": "3.9.7"
  },
  "orig_nbformat": 4
 },
 "nbformat": 4,
 "nbformat_minor": 2
}
