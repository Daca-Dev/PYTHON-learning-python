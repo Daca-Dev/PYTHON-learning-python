{
 "cells": [
  {
   "cell_type": "markdown",
   "metadata": {},
   "source": [
    "# Conceptos avanzados de funciones\n",
    "\n",
    "## Funciones recursivas\n",
    "\n",
    "Las funciones recursivas, son funciones que se llaman asi mismas para dar solución a una problematica, aunque Python soporta muchos diseños de programación y entre ellos se involucra las funciones recursivas, no es lo que recomienda ya que si el llamado es lo suficientemente profundo puede llenar la memoria y estancar el programa.\n",
    "\n",
    "```python\n",
    "def suma(b):\n",
    "    if b == [] :\n",
    "        return 0\n",
    "    else:\n",
    "        suma(b[1:])\n",
    "        \n",
    "print(suma([1,2,3]))```"
   ]
  },
  {
   "cell_type": "markdown",
   "metadata": {},
   "source": [
    "# Funciones anonimas (Lambda)\n",
    "\n",
    "Las funciones lambdas o anonimas nos permiten declarar funciones en una sola linea de código y son funciones sencillas que solo ejecutarán una tarea como sumar, transformar etc. los valores de entrada"
   ]
  },
  {
   "cell_type": "code",
   "execution_count": 6,
   "metadata": {},
   "outputs": [
    {
     "name": "stdout",
     "output_type": "stream",
     "text": [
      "def: 20\n",
      "lambda: 20\n"
     ]
    }
   ],
   "source": [
    "def suma(a,b):\n",
    "    return a + b\n",
    "\n",
    "b = lambda a,b : a + b\n",
    "\n",
    "print('def:', suma(10,10))\n",
    "print('lambda:', b(10,10))"
   ]
  },
  {
   "cell_type": "markdown",
   "metadata": {},
   "source": [
    "> Los principales beneficios de Lambda es que nos permite aplicar una función en ciertas aprtes de código sin la necesidad de asignarlo previamente en memoria, veamos un ejemplo con list comprehentions "
   ]
  },
  {
   "cell_type": "markdown",
   "metadata": {},
   "source": [
    "# Funciones built-in\n",
    "\n",
    "Python nos ofrecen tres funciones ampliamente usadas y prácticas que nos permiten aplicar una serie de operaciones a cada elemento de un elemento iterador, estas funciones son\n",
    "- map\n",
    "- filter\n",
    "- reduce\n",
    "\n",
    "## map\n",
    "\n",
    "la funcion map nos permite aplicar una función a cada elemento de un iterable, y retorna el un objeto generador del mismo tipo con las transformaciones correspondientes, es decirque podemos acceder a cada item con la función ``next``, es decir que debes de hacer el paso de crear la lista"
   ]
  },
  {
   "cell_type": "code",
   "execution_count": 9,
   "metadata": {},
   "outputs": [
    {
     "data": {
      "text/plain": [
       "[1, 4, 27, 256, 3125]"
      ]
     },
     "execution_count": 9,
     "metadata": {},
     "output_type": "execute_result"
    }
   ],
   "source": [
    "lista = [1,2,3,4,5]\n",
    "list(map(pow, lista, lista)) # [pow(1,1), pow(2,2), pow(3,3), ...]"
   ]
  },
  {
   "cell_type": "markdown",
   "metadata": {},
   "source": [
    "De igual modo podemos usar lambda dentro de map"
   ]
  },
  {
   "cell_type": "code",
   "execution_count": 10,
   "metadata": {},
   "outputs": [
    {
     "data": {
      "text/plain": [
       "[1, 4, 9, 16, 25]"
      ]
     },
     "execution_count": 10,
     "metadata": {},
     "output_type": "execute_result"
    }
   ],
   "source": [
    "# [1**2, 2**2, 3**2, 4**2, ...]\n",
    "list(map(lambda a:a**2, lista))"
   ]
  },
  {
   "cell_type": "markdown",
   "metadata": {},
   "source": [
    "## filter\n",
    "\n",
    "Filtre al igual que map aplicará una función a cada item de un iterable, generando a la salida tmabién un generador. la diferencia radica en que podemos aplicar una validación para saber si aceptamos o no el item, como por ejemplo si el número es par."
   ]
  },
  {
   "cell_type": "code",
   "execution_count": 16,
   "metadata": {},
   "outputs": [
    {
     "data": {
      "text/plain": [
       "[0, 2, 4, 6, 8]"
      ]
     },
     "execution_count": 16,
     "metadata": {},
     "output_type": "execute_result"
    }
   ],
   "source": [
    "lista = [i for i in range(10)]\n",
    "list(filter(lambda a: a % 2 == 0, lista))"
   ]
  },
  {
   "cell_type": "markdown",
   "metadata": {},
   "source": [
    "Fíjate que la función lambda dentro de filter, sirve como comparador, es decir que la tarea de la función es arrojar un valor booleano y si este es True, se agrega a la lista, en caso contrario lo omite"
   ]
  },
  {
   "cell_type": "markdown",
   "metadata": {},
   "source": [
    "## reduce\n",
    "\n",
    "A diferencia de map y filter, reduces solo genera un valor de salida y es la aplicación de una función de manera iterativa y acumulativa, veamos el ejemplo"
   ]
  },
  {
   "cell_type": "code",
   "execution_count": 17,
   "metadata": {},
   "outputs": [
    {
     "data": {
      "text/plain": [
       "10"
      ]
     },
     "execution_count": 17,
     "metadata": {},
     "output_type": "execute_result"
    }
   ],
   "source": [
    "from functools import reduce\n",
    "reduce((lambda x, y: x + y), [1, 2, 3, 4])"
   ]
  },
  {
   "cell_type": "markdown",
   "metadata": {},
   "source": [
    "> Podemos realizar el procesamiento de map y filter con ayuda de los list comprehentions y y las funciones lambda, incluso llega a ser mas facíl de entender y optimo "
   ]
  }
 ],
 "metadata": {
  "interpreter": {
   "hash": "9228c2573cbbde0dac843b8968f6cfda5f3b714f9bc1009cf3aff046ad8f0798"
  },
  "kernelspec": {
   "display_name": "Python 3.9.7 64-bit ('learning-python-book': conda)",
   "name": "python3"
  },
  "language_info": {
   "codemirror_mode": {
    "name": "ipython",
    "version": 3
   },
   "file_extension": ".py",
   "mimetype": "text/x-python",
   "name": "python",
   "nbconvert_exporter": "python",
   "pygments_lexer": "ipython3",
   "version": "3.9.7"
  },
  "orig_nbformat": 4
 },
 "nbformat": 4,
 "nbformat_minor": 2
}
