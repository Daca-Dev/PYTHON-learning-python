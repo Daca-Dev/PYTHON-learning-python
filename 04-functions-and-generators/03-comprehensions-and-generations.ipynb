{
 "cells": [
  {
   "cell_type": "markdown",
   "metadata": {},
   "source": [
    "# List Comprehentions\n",
    "\n",
    "ya hemos visto el método de implementación de los list comprehensions, esto nos permite crear listas de manera mas rapida y amigable, sin mencionar que es mas optimo que usar la función generadora ``list()`` o los ``[]``\n",
    "\n",
    "```python\n",
    "[ expression for target1 in iterable1 if condition1\n",
    "             for target2 in iterable2 if condition2 ...\n",
    "             for targetN in iterableN if conditionN ]```"
   ]
  },
  {
   "cell_type": "code",
   "execution_count": 1,
   "metadata": {},
   "outputs": [
    {
     "data": {
      "text/plain": [
       "['s', 'p', 'a', 'm']"
      ]
     },
     "execution_count": 1,
     "metadata": {},
     "output_type": "execute_result"
    }
   ],
   "source": [
    "[ x for x in 'spam']"
   ]
  },
  {
   "cell_type": "code",
   "execution_count": 2,
   "metadata": {},
   "outputs": [
    {
     "data": {
      "text/plain": [
       "['sP2', 'sP3', 'sA2', 'sA3', 'mP2', 'mP3', 'mA2', 'mA3']"
      ]
     },
     "execution_count": 2,
     "metadata": {},
     "output_type": "execute_result"
    }
   ],
   "source": [
    "[x + y + z  for x in 'spam' if x in 'sm'\n",
    "            for y in 'SPAM' if y in ('P', 'A')\n",
    "            for z in '123' if z > '1']"
   ]
  },
  {
   "cell_type": "markdown",
   "metadata": {},
   "source": [
    "El mismo ejemplo desarrollado de manera rutinaria con for loops, sería algo como lo siguient"
   ]
  },
  {
   "cell_type": "code",
   "execution_count": 4,
   "metadata": {},
   "outputs": [
    {
     "data": {
      "text/plain": [
       "[(0, 1), (0, 3), (2, 1), (2, 3), (4, 1), (4, 3)]"
      ]
     },
     "execution_count": 4,
     "metadata": {},
     "output_type": "execute_result"
    }
   ],
   "source": [
    "res = []\n",
    "for x in range(5):\n",
    "    if x % 2 == 0:\n",
    "        for y in range(5):\n",
    "            if y % 2 == 1:\n",
    "                res.append((x, y))\n",
    "                \n",
    "res"
   ]
  },
  {
   "cell_type": "markdown",
   "metadata": {},
   "source": [
    "Podemos observar que nuestra función no es tan amigable de leer e incluso usa muchas mas líneas de código\n",
    "\n",
    "# Generadores\n",
    "\n",
    "Los generadors son funciones que en lugar de retornar todo un elemento, sea una lista, valor, etc. esta función va generando cada uno de los valores hasta que cumpla con la condición.\n",
    "\n",
    "La principal diferencia con estas funciones es que nos permiten ahorrar espacio de memoria, ya que al no generar todos los elementos, no se esta creando el espacio de memoría en la maquina.\n",
    "\n",
    "El modo de funcionar de los generadores es que cuando retornan un valor, antes de hacerlo, guardan el estado en que quedara la función y la posición de memoria en donde quedo el programa una vez que retornara un vaor.\n",
    "\n",
    "Los generadores se crean al igual que una función con la palabra ``def`` y en vez de usar ``return`` usamos la palabra ``yield``"
   ]
  },
  {
   "cell_type": "code",
   "execution_count": 10,
   "metadata": {},
   "outputs": [],
   "source": [
    "def squareNum(n):\n",
    "    for i in range(1, n + 1):\n",
    "        print(f'valor de n: {i}')\n",
    "        yield i"
   ]
  },
  {
   "cell_type": "code",
   "execution_count": 11,
   "metadata": {},
   "outputs": [
    {
     "data": {
      "text/plain": [
       "<generator object squareNum at 0x00000264509929E0>"
      ]
     },
     "execution_count": 11,
     "metadata": {},
     "output_type": "execute_result"
    }
   ],
   "source": [
    "x = squareNum(5)\n",
    "x"
   ]
  },
  {
   "cell_type": "code",
   "execution_count": 12,
   "metadata": {},
   "outputs": [
    {
     "name": "stdout",
     "output_type": "stream",
     "text": [
      "valor de n: 1\n",
      "valor de n: 2\n",
      "valor de n: 3\n"
     ]
    },
    {
     "data": {
      "text/plain": [
       "3"
      ]
     },
     "execution_count": 12,
     "metadata": {},
     "output_type": "execute_result"
    }
   ],
   "source": [
    "next(x)\n",
    "next(x)\n",
    "next(x)"
   ]
  },
  {
   "cell_type": "code",
   "execution_count": 13,
   "metadata": {},
   "outputs": [
    {
     "name": "stdout",
     "output_type": "stream",
     "text": [
      "valor de n: 4\n",
      "4\n",
      "valor de n: 5\n",
      "5\n"
     ]
    }
   ],
   "source": [
    "for i in x:\n",
    "    print(i)"
   ]
  },
  {
   "cell_type": "markdown",
   "metadata": {},
   "source": [
    "A diferencia de una lista el generador nos entregara cada uno de los valores que este vaya calculando, según nuestro código. además podemos pasarle parámetros entre cada llamado, esto es imporante tenerlo en cuanta ya que es una excelente cualidad de los generadores."
   ]
  },
  {
   "cell_type": "code",
   "execution_count": 41,
   "metadata": {},
   "outputs": [],
   "source": [
    "def sumRange(n):\n",
    "    k = 0\n",
    "    for i in range(n):\n",
    "        print(f'{i} + {k} = {i + k}')\n",
    "        k = yield(i)\n",
    "        k = 1 if not k else k\n",
    "        print(type(i), type(k))"
   ]
  },
  {
   "cell_type": "code",
   "execution_count": 42,
   "metadata": {},
   "outputs": [
    {
     "name": "stdout",
     "output_type": "stream",
     "text": [
      "0 + 0 = 0\n",
      "<class 'int'> <class 'int'>\n",
      "1 + 10 = 11\n",
      "<class 'int'> <class 'int'>\n",
      "2 + 1 = 3\n",
      "<class 'int'> <class 'int'>\n",
      "3 + 1 = 4\n",
      "<class 'int'> <class 'int'>\n",
      "4 + 10 = 14\n"
     ]
    },
    {
     "data": {
      "text/plain": [
       "4"
      ]
     },
     "execution_count": 42,
     "metadata": {},
     "output_type": "execute_result"
    }
   ],
   "source": [
    "x = sumRange(8)\n",
    "next(x)\n",
    "x.send(10)\n",
    "next(x)\n",
    "next(x)\n",
    "x.send(10)"
   ]
  },
  {
   "cell_type": "markdown",
   "metadata": {},
   "source": [
    "Asi como existen los list comprehensions, también tenemos la posibilidad de creare generator comprehensions, esto nos facilitará y optimizara la ejecucución de nuestro programa. si sintaxis es:"
   ]
  },
  {
   "cell_type": "code",
   "execution_count": 43,
   "metadata": {},
   "outputs": [
    {
     "data": {
      "text/plain": [
       "<generator object <genexpr> at 0x0000026450A7C120>"
      ]
     },
     "execution_count": 43,
     "metadata": {},
     "output_type": "execute_result"
    }
   ],
   "source": [
    "x = (i for i in range(10))\n",
    "x"
   ]
  }
 ],
 "metadata": {
  "interpreter": {
   "hash": "9228c2573cbbde0dac843b8968f6cfda5f3b714f9bc1009cf3aff046ad8f0798"
  },
  "kernelspec": {
   "display_name": "Python 3.9.7 64-bit ('learning-python-book': conda)",
   "name": "python3"
  },
  "language_info": {
   "codemirror_mode": {
    "name": "ipython",
    "version": 3
   },
   "file_extension": ".py",
   "mimetype": "text/x-python",
   "name": "python",
   "nbconvert_exporter": "python",
   "pygments_lexer": "ipython3",
   "version": "3.9.7"
  },
  "orig_nbformat": 4
 },
 "nbformat": 4,
 "nbformat_minor": 2
}
