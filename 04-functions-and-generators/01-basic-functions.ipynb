{
 "cells": [
  {
   "cell_type": "markdown",
   "metadata": {},
   "source": [
    "# Conceptos báscios de las funciones\n",
    "\n",
    "Las funciones en Python como todo elemento en Python son Objetos, y estas se declaran con la palabra clave ``def`` y dentro de ellas podemos crear piezas de código reutilizable que nos permite optimizar y mejorar el mantenimiento del código.\n",
    "\n",
    "Dentro de las funciones debemos de tener en cuenta los siguientes conceptos\n",
    "\n",
    "![Conceptos de funciones](./images/img1.png)\n",
    "\n",
    "Empecemos por el uso de funciones, el cual se hace con la siguiebte estructura\n",
    "\n",
    "`sum()`\n",
    "\n",
    "usando el () y si tiene parámetros estos se pasan entre los parentesis"
   ]
  },
  {
   "cell_type": "code",
   "execution_count": 1,
   "metadata": {},
   "outputs": [
    {
     "data": {
      "text/plain": [
       "45"
      ]
     },
     "execution_count": 1,
     "metadata": {},
     "output_type": "execute_result"
    }
   ],
   "source": [
    "lista = list(range(10))\n",
    "sum(lista)"
   ]
  },
  {
   "cell_type": "markdown",
   "metadata": {},
   "source": [
    "Adicional también es posible declarar tus propias funciones, esto se hace con la siguientes estructura"
   ]
  },
  {
   "cell_type": "code",
   "execution_count": 2,
   "metadata": {},
   "outputs": [
    {
     "name": "stdout",
     "output_type": "stream",
     "text": [
      "10\n",
      "hola mundo\n",
      "(10, 40)\n",
      "{'head': 'esto', 'end': 'que es'}\n"
     ]
    }
   ],
   "source": [
    "def mi_funcion(atr1, atr2, *args, **kwargs):\n",
    "    \"\"\" documentación de mi función \"\"\"\n",
    "    print(atr1)\n",
    "    print(atr2)\n",
    "    print(args)\n",
    "    print(kwargs)\n",
    "    \n",
    "mi_funcion(10, \"hola mundo\", 10, 40, head='esto', end=\"que es\")"
   ]
  },
  {
   "cell_type": "markdown",
   "metadata": {},
   "source": [
    "Podemos darnos cuenta que que podemos declarar funciones con o sin parámetros y estos se pueden definir de tres formas\n",
    "\n",
    "- atributos especificos: son atributos que se colocan de manera explicita y que deben de ser enviados si o si en la función\n",
    "- lista de atributos adicionales: son los parámetros que son pasados como argumentos extra pero que no tienen un nombre asociado, sino que todos son pasados en una lista\n",
    "- pasados como diccionario: cuando definimos los parametros con nombres como es el caso head y end, estas variables se encontraran dentro de una varible.\n",
    "\n",
    "De igual forma podemos retornar valores de nuestras funciones, es decir que podemos procesar la información y tener un valor de salida, veamos un ejemplo"
   ]
  },
  {
   "cell_type": "code",
   "execution_count": 3,
   "metadata": {},
   "outputs": [
    {
     "data": {
      "text/plain": [
       "'hola mundo'"
      ]
     },
     "execution_count": 3,
     "metadata": {},
     "output_type": "execute_result"
    }
   ],
   "source": [
    "def mi_otra_funcion(a, b):\n",
    "    \"\"\" documentación de mi otra función \"\"\"\n",
    "    return a + b\n",
    "\n",
    "mi_otra_funcion('hola', ' mundo')"
   ]
  },
  {
   "cell_type": "markdown",
   "metadata": {},
   "source": [
    "Para usar esta funcionalidad debemos de usar la palabra reservada `return`.\n",
    "\n",
    "> Si no especificamos el return por defecto el valor sera `none`."
   ]
  },
  {
   "cell_type": "markdown",
   "metadata": {},
   "source": [
    "# Alcance de las funciones\n",
    "\n",
    "Debemos de tener en cuenta que las variables dentro de las funciones, tienen de un alcance local, es decir que una vez se completada la instancia de la función esa referencia al espacio de memoria se va a eliminar.\n",
    "\n",
    "Pero podemos escoger varibales del ambito local, es decir que se encuentra en el nivel principal del código"
   ]
  },
  {
   "cell_type": "code",
   "execution_count": 4,
   "metadata": {},
   "outputs": [
    {
     "name": "stdout",
     "output_type": "stream",
     "text": [
      "local\n",
      "local 2?\n"
     ]
    }
   ],
   "source": [
    "x = 'global'\n",
    "\n",
    "def hola_mundo():\n",
    "    \"\"\" doc de mi función \"\"\"\n",
    "    x = 'local'\n",
    "    print(x)\n",
    "    \n",
    "def hola_mundo_2():\n",
    "    \"\"\" doc de mi función \"\"\"\n",
    "    global x\n",
    "    x = 'local 2?'\n",
    "    print(x)\n",
    "    \n",
    "hola_mundo()\n",
    "x = 'global!!!!'\n",
    "hola_mundo_2()"
   ]
  },
  {
   "cell_type": "markdown",
   "metadata": {},
   "source": [
    "sin embargo podemos suar varibales de un alcane intermedio, es decir que nos permite acceder a una variable que no se encuentra en el global o en local, vemoslo"
   ]
  },
  {
   "cell_type": "code",
   "execution_count": 5,
   "metadata": {},
   "outputs": [
    {
     "name": "stdout",
     "output_type": "stream",
     "text": [
      "hola mundo\n",
      "local\n",
      "hola mundo\n",
      "soy intermedia\n"
     ]
    }
   ],
   "source": [
    "x = 'hola mundo'\n",
    "\n",
    "def hola_mundo():\n",
    "    \"\"\" doc funcion \"\"\"\n",
    "    y = 'soy intermedia'\n",
    "    x = 'local'\n",
    "    print(x)\n",
    "    print(y)\n",
    "    def inter_funcion():\n",
    "        nonlocal y\n",
    "        print(y)\n",
    "    \n",
    "    return inter_funcion\n",
    "\n",
    "\n",
    "print(x)\n",
    "a = hola_mundo()\n",
    "print(x)\n",
    "a()"
   ]
  },
  {
   "cell_type": "markdown",
   "metadata": {},
   "source": [
    "# Argumentos de las funciones\n",
    "\n",
    "Las funciones pueden recibir argumentos que son los que nos permitirán procesar información o controlar el comportamiento en función de estos argumentos.\n",
    "\n",
    "para enviar argumentos simplemente lo definimos entre parentesis al momento de declarar la función"
   ]
  },
  {
   "cell_type": "code",
   "execution_count": 1,
   "metadata": {},
   "outputs": [
    {
     "data": {
      "text/plain": [
       "30"
      ]
     },
     "execution_count": 1,
     "metadata": {},
     "output_type": "execute_result"
    }
   ],
   "source": [
    "def mi_funcion(a, b):\n",
    "    return a + b\n",
    "\n",
    "mi_funcion(10, 20)"
   ]
  },
  {
   "cell_type": "markdown",
   "metadata": {},
   "source": [
    "En el caso anterior se delcaro la función ``mi_funcion`` cuyos parámetros son a y b, dicha función retorna la suma de a y b\n",
    "\n",
    "> Debes de tener en cuenta el comportamiento de tus variables, es decir que como sabes Python es te tipado dinamico, y si esto no se controla puedes tener un comportamiento no deseado, como por ejemplo sumar un string con un number\n",
    "\n",
    "## Argumentos por defecto\n",
    "\n",
    "Con las funciones es posible definer argumentos opcionales, estos argumentos son los que tienen un valor por defecto y esto se define de la siguiente forma."
   ]
  },
  {
   "cell_type": "code",
   "execution_count": 2,
   "metadata": {},
   "outputs": [
    {
     "data": {
      "text/plain": [
       "(30, 40)"
      ]
     },
     "execution_count": 2,
     "metadata": {},
     "output_type": "execute_result"
    }
   ],
   "source": [
    "def mi_funcion(a, b=10):\n",
    "    return a + b\n",
    "\n",
    "\n",
    "mi_funcion(20), mi_funcion(20,20)"
   ]
  },
  {
   "cell_type": "markdown",
   "metadata": {},
   "source": [
    "Podemos observar que en la primera función solo pasamos un argumento, haciendo referencia al parámetro a y por defecto le da el valor de 10 a b, siendo la suma de retorno 30. En el segundo caso enviamos dos parametros siendo estos dos 20, cuya suma es 40\n",
    "\n",
    "Al momento de pasar parámetros dentro de una función podemos hacerlo definiendo el parámetro, asi podemos cambiar el orden o incluso los parametros que enviamos"
   ]
  },
  {
   "cell_type": "code",
   "execution_count": 5,
   "metadata": {},
   "outputs": [
    {
     "name": "stdout",
     "output_type": "stream",
     "text": [
      "******función*******\n",
      "a 20\n",
      "b 3\n",
      "c 20\n",
      "******función*******\n",
      "a -1\n",
      "b 1\n",
      "c 10\n"
     ]
    },
    {
     "data": {
      "text/plain": [
       "10"
      ]
     },
     "execution_count": 5,
     "metadata": {},
     "output_type": "execute_result"
    }
   ],
   "source": [
    "def mi_funcion(a, b=3, c=10):\n",
    "    print('función'.center(20, '*'))\n",
    "    print('a', a)\n",
    "    print('b', b)\n",
    "    print('c', c)\n",
    "    return a + b + c\n",
    "\n",
    "mi_funcion(20, c=20)\n",
    "mi_funcion(b=1, a=-1)"
   ]
  },
  {
   "cell_type": "markdown",
   "metadata": {},
   "source": [
    "En las funciones tenemos dos parámetros que nos permiten capturar valores que no fueron declarados explicitamente dentro de los parámetros pero que si queremos capturar, estos son\n",
    "\n",
    "- recibir los parámetros que fueron definidos como nombres como un diccionario\n",
    "- recibir los parámetros que solo fueron compartidos en la función"
   ]
  },
  {
   "cell_type": "code",
   "execution_count": 6,
   "metadata": {},
   "outputs": [
    {
     "name": "stdout",
     "output_type": "stream",
     "text": [
      "<class 'tuple'> ('hola', 'mundo', 'python')\n",
      "<class 'dict'> {'a': 'mis', 'b': 'funciones'}\n"
     ]
    }
   ],
   "source": [
    "def mi_funcion(*args, **kwargs):\n",
    "    print(type(args), args)\n",
    "    print(type(kwargs), kwargs)\n",
    "    \n",
    "mi_funcion('hola', 'mundo', 'python', a='mis', b='funciones')"
   ]
  },
  {
   "cell_type": "markdown",
   "metadata": {},
   "source": [
    "> Los nombres ``args`` y ``kwargs`` son nombres que son usados normalmente en Python, estos pueden ser otros"
   ]
  }
 ],
 "metadata": {
  "interpreter": {
   "hash": "9228c2573cbbde0dac843b8968f6cfda5f3b714f9bc1009cf3aff046ad8f0798"
  },
  "kernelspec": {
   "display_name": "Python 3.9.7 64-bit ('learning-python-book': conda)",
   "name": "python3"
  },
  "language_info": {
   "codemirror_mode": {
    "name": "ipython",
    "version": 3
   },
   "file_extension": ".py",
   "mimetype": "text/x-python",
   "name": "python",
   "nbconvert_exporter": "python",
   "pygments_lexer": "ipython3",
   "version": "3.9.7"
  },
  "orig_nbformat": 4
 },
 "nbformat": 4,
 "nbformat_minor": 2
}
