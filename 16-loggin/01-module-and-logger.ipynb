{
 "cells": [
  {
   "cell_type": "markdown",
   "metadata": {},
   "source": [
    "# Módulo logging\n",
    "\n",
    "El módulo logging nos permite crear objetos que se encargarán de generar logs de nuestras aplicaciones, y estos serán facilmente administrables a lo largo del programa que se ejecute, pero antes de ver el módulo analicemos por que es importante llevar un tracking o seguimiento de nuestras aplicaciones\n",
    "\n",
    "## ¿por qué usar logs?\n",
    "\n",
    "Los logs nos sirven no solo para depurar sino para lelvar un seguimiento de nuestras aplicaciones y saber que se estan ejecutando correctamente o que en caso de que haya un error o algo no este funcionando correctamente, o en otros se debe de guardar un tracking de la información que esta ejecutando el script para tareas de analisis, depuración o incluso interventoría.\n",
    "\n",
    "## ¿de que debemos hacer seguimiento?\n",
    "\n",
    "- principalmente debemos hacer seguimiento de información que nos va a permitir hacer un seguimiento de las acciones de nuestros scripts y programas\n",
    "- Los errores y advertencias que se generen durante el programa, asi al momento de depurar y leer los archivos logs se tendrá una idea de donde buscar\n",
    "- información respecto al programa, pero no la mayor cantidad de unformación sino la que te permita abordar el problema e incluso ahondar mas.\n",
    "\n",
    "## ¿qué NO debemos guardar?\n",
    "\n",
    "La información que no debemos guardar debe ser toda aquella que sea sensible como claves, llaves, credenciales, etc no solo de los entornos de producción o de la empresa sino también de cualquier persona, los datos almacenados no deben de relacionar directamente a un individuo en los logs, como por ejemplo nombre, correo, etc.\n",
    "\n",
    "## Logging en Python\n",
    "\n",
    "El módulo de logging en python funciona de la siguiente manera, algunos de los puntos que lo componen son opcionales, es decir que toman valores por defecto que ya configura el módulo\n",
    "\n",
    "![estructura logging](./images/img1.png)\n",
    "\n",
    "- log message: es el mensaje que sera guardado en el logger\n",
    "- logger: objeto que se encarga de gestionar los logs dentro de la app\n",
    "- handler: es el encargado de gestionar hacia donde se enviarán los mensajes\n",
    "- filter: este parámetro es opcional y define que mensajes pasan o no\n",
    "- formatter: permite configurar la forma en que se presentarán los mensajes en los logs\n",
    "- configuration information: las configuraciones de los Logger puede hacerse desde código, pero muchas veces es mas fácil hacerlo desde un archivo externo de configuración que permite setear mas parámetros y modificarlos en caliente. normalmente es unarchivo YAML\n"
   ]
  },
  {
   "cell_type": "markdown",
   "metadata": {},
   "source": [
    "# Logger\n",
    "\n",
    "Logger es la interface (clase) que nos permite interactuar con los logs y nos provee una seríe de metodos que veremos mas adelante para colocar el mensaje de log que realmente queremos, para implementarlo usaremos la siguiente sintaxis.\n",
    "\n",
    "Para obtener un logger usaremos el método ``getLogger()`` y este retornará el Logger por defecto\n",
    "\n",
    "> Debes de importar el módulo ``logging``\n"
   ]
  },
  {
   "cell_type": "code",
   "execution_count": 1,
   "metadata": {},
   "outputs": [
    {
     "name": "stderr",
     "output_type": "stream",
     "text": [
      "This shuold be used with something unexpected!\n"
     ]
    }
   ],
   "source": [
    "import logging\n",
    "\n",
    "logger = logging.getLogger()\n",
    "\n",
    "logger.error('This shuold be used with something unexpected!')"
   ]
  },
  {
   "cell_type": "markdown",
   "metadata": {},
   "source": [
    "## Controlando la información guardada del Logger\n",
    "\n",
    "Con los Loggers podemos enviar 6 tipos de mensajes diferentes, estas son:\n",
    "\n",
    "1. NOTSET: por lo general no se usa, pero sirve para enviar un mensaje y ya\n",
    "2. DEBUG: se activa principalmente en entornos de desarrollo y sirve para colocar mensajes que solo son utiles en entornos de desarrollo y brinda información detallada de los logs\n",
    "3. INFO: provee información solamente informativa, por lo general es usada para confirmar que una app funciona corectamente\n",
    "4. WARNING: Normalmente es usado para informar de eventos anormales que mas adelante puedan ser investigados por los desarrolladores y administradores\n",
    "5. ERROR: sirve para dar información de problemas serios que se presenten dentro de la app\n",
    "6. CRITICAL: son mensajes de alta prioridad que y vulnerabilidad en la app, por lo general se usa en logs que hacen que el programa no continua\n",
    "\n",
    "y cada uno de estas categorias tienen un peso dentro del Logger cuyos valores son\n",
    "\n",
    "![pesos de categorias](./images/img2.png)\n",
    "\n",
    "por defecto el nivel configurado es el de warning, es decir que solo se procesarán los logs que estan por encima de esta categoria, es decir warning, error y critial, veamos el siguiente ejemplo"
   ]
  },
  {
   "cell_type": "code",
   "execution_count": 2,
   "metadata": {},
   "outputs": [
    {
     "name": "stderr",
     "output_type": "stream",
     "text": [
      "This is a warning!\n",
      "This should be used with something unexpected\n",
      "Something serious\n"
     ]
    }
   ],
   "source": [
    "# library\n",
    "import logging\n",
    "\n",
    "# create Logger\n",
    "logger = logging.getLogger()\n",
    "\n",
    "# messagge\n",
    "logger.debug('This is to help with debugging')\n",
    "logger.info('This is just for information')\n",
    "logger.warning('This is a warning!')\n",
    "logger.error('This should be used with something unexpected')\n",
    "logger.critical('Something serious')"
   ]
  },
  {
   "cell_type": "markdown",
   "metadata": {},
   "source": [
    "# Métodos del logger\n",
    "\n",
    "Hasta ahora hemos visto el Logger por defecto que trae el módulo, pero antes de ver como podemos crear nuevos loggers, vamos a ver los métodos que podemos usar para gestionar nuestro Logger\n",
    "\n",
    "- ``setLevel(level)`` Sets this loggers log level.\n",
    "- ``getEffectiveLevel()`` Returns this loggers log level.\n",
    "- ``isEnabledFor(level)`` Checks to see if this logger is enabled for the log level specified.\n",
    "- ``debug(message)`` logs messages at the debug level.\n",
    "- ``info(message)`` logs messages at the info level.\n",
    "- ``warning(message)`` logs messages at the warning level\n",
    "- ``error(message)`` logs messages at the error level.\n",
    "- ``critical(message)`` logs messages at the critical level\n",
    "- ``exception(message)`` This method logs a message at the error level. However, it can only be used within an exception handler and includes a stack\n",
    "trace of any associated exception, for example:\n",
    "    ````python\n",
    "    import logging\n",
    "    logger = logging.getLogger()\n",
    "    try:\n",
    "    print('starting')\n",
    "    x = 1 / 0\n",
    "    print(x)\n",
    "    except:\n",
    "    logger.exception('an exception message')\n",
    "    print('Done')```\n",
    "- ``log(level, message)`` logs messages at the log level specified as the first parameter.\n",
    "\n",
    "Adicionalmente podemos definir y configurarlos Handlers, que veremos mas adeltante\n",
    "\n",
    "- ``addFilter(filter)`` This method adds the specified filter filter to this logger.\n",
    "- ``removeFilter(filter)`` The specified filter is removed from this logger object.\n",
    "- ``addHandler(handler)`` The specified handler is added to this logger.\n",
    "- ``removeHandler(handler)`` Removes the specified handler from this logger.\n",
    "\n",
    "# Default Logger\n",
    "\n",
    "Como ya mensionamos hasta ahora hemos trabajado solamente con el Logger que viene por defecto en el módulo e incluso vamos a ver que no es necesario instanciarlo para por acceder a el"
   ]
  },
  {
   "cell_type": "code",
   "execution_count": 3,
   "metadata": {},
   "outputs": [
    {
     "name": "stderr",
     "output_type": "stream",
     "text": [
      "This is a warning!\n",
      "This should be used with something unexpected\n",
      "Something serious\n",
      "WARNING:root:This is a warning!\n",
      "ERROR:root:This should be used with something unexpected\n",
      "CRITICAL:root:Something serious\n"
     ]
    }
   ],
   "source": [
    "# create Logger\n",
    "logger = logging.getLogger()\n",
    "\n",
    "# messagge with Logger instance\n",
    "logger.debug('This is to help with debugging')\n",
    "logger.info('This is just for information')\n",
    "logger.warning('This is a warning!')\n",
    "logger.error('This should be used with something unexpected')\n",
    "logger.critical('Something serious')\n",
    "\n",
    "# messagge with loggin module (Logger deault direct)\n",
    "\n",
    "logging.debug('This is to help with debugging')\n",
    "logging.info('This is just for information')\n",
    "logging.warning('This is a warning!')\n",
    "logging.error('This should be used with something unexpected')\n",
    "logging.critical('Something serious')"
   ]
  },
  {
   "cell_type": "markdown",
   "metadata": {},
   "source": [
    "Aqui podemos identificar dos cosas, la primera que es de ambas formas estamos acceddiendo al mismo Logger, es decir que para una aplicación sencilla podemos usar los dos métodos indistintivamente, la segunda cosa que podemos identificar es que los formatos son disitintos, en el Logger accedido por medio del módulo nos provee mas información, esto es porque este define una configuración adicional que ya mas adelante vamos a ver\n",
    "\n",
    "# Gestionar varios Loggers\n",
    "\n",
    "Muchas veces queremos gestionar un log por cada archivo o una categoría en especifico, normalmente se hace por módulo donde recuerda que un módulo es un archivo python. para poder esta gestion de archivos, vamos a enviar una cadena de caracteres a la función de ``getLogger()`` que anteriormente usamos para extraer la instancia de nuestro Logger, veamos el código de ejemplo:"
   ]
  },
  {
   "cell_type": "code",
   "execution_count": 4,
   "metadata": {},
   "outputs": [
    {
     "name": "stdout",
     "output_type": "stream",
     "text": [
      "Root logger: <RootLogger root (WARNING)>\n",
      "stringed logger: <Logger my_logger (WARNING)>\n",
      "module logger: <Logger __main__ (WARNING)>\n"
     ]
    }
   ],
   "source": [
    "logger = logging.getLogger()\n",
    "logger1 = logging.getLogger('my_logger')\n",
    "logger2 = logging.getLogger(__name__)\n",
    "\n",
    "# Loggers\n",
    "print('Root logger:', logger)\n",
    "print('stringed logger:', logger1)\n",
    "print('module logger:', logger2)\n"
   ]
  },
  {
   "cell_type": "markdown",
   "metadata": {},
   "source": [
    "Podemos observar que al imprimir la instancia de nuestras loggers podemos ver el primero es el root Logger y los demaás son instancias de Logge, también podemos observar que cada uno tiene un nombre distinto, siendo root el primero, el segundo ``my_logger`` que fue el nombre que definimos y el último tiene el valor de `__main__` que es el archivo de entrada\n",
    "\n",
    "> Normalmente se procura usar el parámetro `__name__` para definir los tipos de loggers, esto facilita el uso y se sabe a que hace referencia\n",
    "\n",
    "Otro punto importante es que los Loggers herenda la configuración de los Loggers que se definan mas arriba, como si de módulos se trataban, para ilustrar mejor este concepto miremos el siguiente grafico\n",
    "\n",
    "![jerarquia logger](./images/img3.png)\n",
    "\n",
    "# Formatos o formateador de loggers\n",
    "\n",
    "Como vimos en el ejemplo dela instancia del root logger o default logger, es posible modificar la sintaxis del formato del texto o del mesaje que se enviara al logger, esto nos permite guardar la información que realmente creemos pertinente y necesaria, existen dos tipos de formatos, los formatos de mensaje y los formatos de log\n",
    "\n",
    "## Formato de mensaje\n",
    "\n",
    "Los formatos de mensaje consisten en directamente formatear el texto del mensaje que se guardara en el log, esto se hace directamente en el llamado del método que va a hacer la publicación del mensaje Log, esto se hace de la siguiente forma:"
   ]
  },
  {
   "cell_type": "code",
   "execution_count": 5,
   "metadata": {},
   "outputs": [
    {
     "name": "stderr",
     "output_type": "stream",
     "text": [
      "WARNING:root:count is set to 42\n"
     ]
    }
   ],
   "source": [
    "logger.warning('%s is set to %d', 'count', 42)"
   ]
  },
  {
   "cell_type": "markdown",
   "metadata": {},
   "source": [
    "Fíjate que estamos enviando el formato de strings junto con los valores que deben de ser reemplazados en la cadena de caracter, esto es lo mas práctico y eficiente con lo que respecta a Loggers, porque aunque podriamos enviarlo de la siguiente forma"
   ]
  },
  {
   "cell_type": "code",
   "execution_count": 6,
   "metadata": {},
   "outputs": [
    {
     "name": "stderr",
     "output_type": "stream",
     "text": [
      "WARNING:root:count is set to 42\n"
     ]
    }
   ],
   "source": [
    "msg = 'count'\n",
    "value = 42\n",
    "logger.warning(f'{msg} is set to {value}')"
   ]
  },
  {
   "cell_type": "markdown",
   "metadata": {},
   "source": [
    "Este método no es eficiente porque antes de hacer el llamado al Logger el string interno se genera, es decir que se parsean los datos a su correspondiente representación y se concatenan en el string final que es el pasado como parámetro del método Logger, este problema es que habrán casos en que un filtro o el nivel del Logger no permitira la escritura, por lo que esa tarea de transformación y generación del string seria inecesaria.\n",
    "\n",
    "## Formato de la salida del Log\n",
    "\n",
    "La configuración del archivo de salida, consiste en definir el formato de salida estándar de todos los mensajes log que se envien, y esto se configura en con ayuda de la función ``basicConfig()`` del módulo, asignando el formato al parámetro ``format`` como se muestra en el siguiente ejemplo\n"
   ]
  },
  {
   "cell_type": "code",
   "execution_count": 7,
   "metadata": {},
   "outputs": [
    {
     "name": "stderr",
     "output_type": "stream",
     "text": [
      "WARNING:__main__:This is a warning!\n",
      "ERROR:__main__:This should be used with something unexpected\n",
      "CRITICAL:__main__:Something serious\n"
     ]
    },
    {
     "name": "stdout",
     "output_type": "stream",
     "text": [
      "<Logger __main__ (WARNING)>\n"
     ]
    }
   ],
   "source": [
    "import logging\n",
    "\n",
    "logging.basicConfig(format='%(asctime)s %(message)s', level=logging.DEBUG)\n",
    "\n",
    "logger = logging.getLogger(__name__)\n",
    "\n",
    "\n",
    "def do_something():\n",
    "    print(logger)\n",
    "    logger.debug('This is to help with debugging')\n",
    "    logger.info('This is just for information')\n",
    "    logger.warning('This is a warning!')\n",
    "    logger.error('This should be used with something unexpected')\n",
    "    logger.critical('Something serious')\n",
    "    \n",
    "do_something()"
   ]
  },
  {
   "cell_type": "markdown",
   "metadata": {},
   "source": [
    "En el anterior código configuramos el formato para que se imprimiera la fecha y el mensaje, pero existe una amplia variedad de variables que podemos usar y que puedes profundizar en el siguiente [link](https://docs.python.org/3/library/logging.html#logrecord-attributes)\n",
    "\n",
    "por ejemplo las mas usadas son:\n",
    "\n",
    "- ``args`` a tuple listing the arguments used to call the associated function or method.\n",
    "- ``asctime`` indicates the time that the log message was created.\n",
    "- ``filename`` the name of the file containing the log statement.\n",
    "- ``module`` the module name (the name portion of the filename).\n",
    "- ``funcName`` the name of the function or method containing the log statement.\n",
    "- ``levelname`` the log level of the log statement.\n",
    "- ``message`` the log message itself as provided to the log method.\n",
    "\n",
    "veamoslos en el siguiente código de ejemplo"
   ]
  },
  {
   "cell_type": "code",
   "execution_count": 8,
   "metadata": {},
   "outputs": [
    {
     "name": "stderr",
     "output_type": "stream",
     "text": [
      "WARNING:__main__:This is a warning!\n",
      "ERROR:__main__:This should be used with something unexpected\n",
      "CRITICAL:__main__:Something serious\n"
     ]
    }
   ],
   "source": [
    "import logging\n",
    "\n",
    "logging.basicConfig(format='%(asctime)s [%(levelname)s] %(funcName)s: %(message)s', level=logging.DEBUG)\n",
    "loggerb = logging.getLogger(__name__)\n",
    "\n",
    "def do_something():\n",
    "    loggerb.debug('This is to help with debugging')\n",
    "    loggerb.info('This is just for information')\n",
    "    loggerb.warning('This is a warning!')\n",
    "    loggerb.error('This should be used with something unexpected')\n",
    "    loggerb.critical('Something serious')\n",
    "\n",
    "do_something()"
   ]
  },
  {
   "cell_type": "markdown",
   "metadata": {},
   "source": [
    "También podemos configurar el formato de la fecha y hora de salida, vamoslo"
   ]
  },
  {
   "cell_type": "code",
   "execution_count": 9,
   "metadata": {},
   "outputs": [
    {
     "name": "stderr",
     "output_type": "stream",
     "text": [
      "WARNING:__main__:This is a warning!\n",
      "ERROR:__main__:This should be used with something unexpected\n",
      "CRITICAL:__main__:Something serious\n"
     ]
    }
   ],
   "source": [
    "import logging\n",
    "\n",
    "logging.basicConfig(\n",
    "    format='%(asctime)s [%(levelname)s] %(funcName)s: %(message)s',\n",
    "    level=logging.DEBUG,\n",
    "    datefmt='%m/%d/%Y %I:%M:%S %p'\n",
    ")\n",
    "logger = logging.getLogger(__name__)\n",
    "\n",
    "def do_something():\n",
    "    logger.debug('This is to help with debugging')\n",
    "    logger.info('This is just for information')\n",
    "    logger.warning('This is a warning!')\n",
    "    logger.error('This should be used with something unexpected')\n",
    "    logger.critical('Something serious')\n",
    "\n",
    "do_something()"
   ]
  },
  {
   "cell_type": "markdown",
   "metadata": {},
   "source": [
    "Recuerda que el formato fecha esta dado por el mismo estilo del tipo de dato datime de Python, siendo los principales estilos:\n",
    "\n",
    "- ``%m`` = Month as a zero-padded decimal number e.g. 01, 11, 12.\n",
    "- ``%d`` = Day of the month as a zero-padded decimal number e.g. 01, 12 etc.\n",
    "- ``%Y`` = Year with century as a decimal number e.g. 2020.\n",
    "- ``%I`` = Hour (12-h clock) as a zero-padded decimal number e.g. 01, 10 etc.\n",
    "- ``%M`` = Minute as a zero-padded decimal number e.g. 0, 01, 59 etc.\n",
    "- ``%S`` = Second as a zero-padded decimal number e.g. 00, 01, 59 etc.\n",
    "- ``%p`` = Either AM or PM.\n",
    "\n",
    "# Handlers\n",
    "\n",
    "Por último solo nos hace falta abordar lo que se define como handlers o controladres, y son los que nos van a permitir cambiar el objetivo de los logs, por defecto estos imprimen en consola los mensajes, pero podemos configurarlos para que los guarden o envien a otra parte, como por ejemplo crear un archivo txt, json, etc. o enviarlos a un servidor por medio de HTTP o SMTP, entre muchas otras opciones.\n",
    "\n",
    "la principal ventaja es que podemos usar mas de un controlador con un Logger de tal manera que tengamos varios puntos de almacenamiento de logs, para ilustrarlo tenemos el siguiente grafico\n",
    "\n",
    "![handlers](./images/img4.png)\n",
    "\n",
    "los diferentes Handlers que podemos encontrar en el framework son:\n",
    "\n",
    "- `logging.StreamHandler` sends messages to outputs such as stdout, stderr etc.\n",
    "- `logging.FileHandler` sends log messages to files. There are several varieties of File Handler in addition to the basic `FileHandler`, these include the `logging.handlers.RotatingFileHandler` (which will rotate log files based on a maximum file size) and `logging.handlers.TimeRotatingFileHandler` (which rotates the log file at specified time intervals e.g. daily).\n",
    "- `logging.handlers.SocketHandler` which sends messages to a TCP/IP socket where it can be received by a TCP Server.\n",
    "- `logging.handlers.SMTPHandler` that sends messages by the SMTP (Simple Mail Transfer Protocol) to a email server.\n",
    "- `logging.handlers.SysLogHandler` that sends log messages to a Unix syslog program.\n",
    "- `logging.handlers.NTEventLogHandler` that sends message to a Windows event log.\n",
    "- `logging.handlers.HTTPHandler` which sends messages to a HTTP server.\n",
    "- `logging.NullHandler` that does nothing with error messages. This is often used by library developers who want to include logging in their applications but expect developers to set up an appropriate handler when they use the library.\n",
    "\n",
    "Si quisieramos agregar un handler al Logger root solo debemos de definirlo en la configuración básica al momento de crearlo, como se muestra en el siguiente ejemplo"
   ]
  },
  {
   "cell_type": "code",
   "execution_count": 10,
   "metadata": {},
   "outputs": [
    {
     "name": "stderr",
     "output_type": "stream",
     "text": [
      "WARNING:__main__:This is a warning!\n",
      "ERROR:__main__:This should be used with something unexpected\n",
      "CRITICAL:__main__:Something serious\n"
     ]
    }
   ],
   "source": [
    "import logging\n",
    "\n",
    "# Sets a file handler on the root logger to\n",
    "# save log messages to the example.log file\n",
    "logging.basicConfig(filename='./tests/example.log' ,level=logging.DEBUG)\n",
    "\n",
    "# If no handler is explicitly set on the name logger\n",
    "# it will delegate the messages to the parent logger to handle\n",
    "logger = logging.getLogger(__name__)\n",
    "\n",
    "logger.debug('This is to help with debugging' )\n",
    "logger.info('This is just for information' )\n",
    "logger.warning('This is a warning!' )\n",
    "logger.error('This should be used with something unexpected' )\n",
    "logger.critical('Something serious' )"
   ]
  },
  {
   "cell_type": "markdown",
   "metadata": {},
   "source": [
    "Sin embargo también podemos modificar este comportamiento a lo largo del código como se muestra a continuación, la ventaja de este método es que podemos asignar varios controladores a un mismo Logger, en este caso dejamos el valor por defecto de imprimir en consola y le agragamos el controlador para que cree un archivo de log"
   ]
  },
  {
   "cell_type": "code",
   "execution_count": 11,
   "metadata": {},
   "outputs": [
    {
     "name": "stderr",
     "output_type": "stream",
     "text": [
      "INFO:__main__:Starting\n",
      "DEBUG:__main__:debug message\n",
      "INFO:__main__:info message\n",
      "WARNING:__main__:warn message\n",
      "ERROR:__main__:error message\n",
      "CRITICAL:__main__:critical message\n",
      "INFO:__main__:Done\n"
     ]
    }
   ],
   "source": [
    "import logging\n",
    "\n",
    "# Empty basic config turns off default console handler\n",
    "logging.basicConfig()\n",
    "logger = logging.getLogger(__name__)\n",
    "logger.setLevel(logging.DEBUG)\n",
    "\n",
    "# create file handler which logs to the specified file\n",
    "file_handler = logging.FileHandler('./tests/detailed.log')\n",
    "\n",
    "# Add the handler to the Logger\n",
    "logger.addHandler(file_handler)\n",
    "\n",
    "# 'application' code\n",
    "def do_something():\n",
    "    logger.debug('debug message')\n",
    "    logger.info('info message')\n",
    "    logger.warning('warn message')\n",
    "    logger.error('error message')\n",
    "    logger.critical('critical message')\n",
    "\n",
    "logger.info('Starting')\n",
    "do_something()\n",
    "logger.info('Done')"
   ]
  },
  {
   "cell_type": "markdown",
   "metadata": {},
   "source": [
    "Si te fijaste bien el formato de salida en consola no coincide con el formato de salida en el archivo, esto es porque también el controlador tiene un valor por defecto del formato y no son compartidos, esto nos permite tener información de distinta foram en uno u otro controlador, por ejemplo en consola queremos ver lo mas importante mientras que en el archivo queremos además de esto agregar lo que es información secundaria"
   ]
  },
  {
   "cell_type": "code",
   "execution_count": 12,
   "metadata": {},
   "outputs": [
    {
     "name": "stderr",
     "output_type": "stream",
     "text": [
      "INFO:__main__:Starting\n",
      "DEBUG:__main__:debug message\n",
      "INFO:__main__:info message\n",
      "WARNING:__main__:warn message\n",
      "ERROR:__main__:error message\n",
      "CRITICAL:__main__:critical message\n",
      "INFO:__main__:Done\n"
     ]
    }
   ],
   "source": [
    "import logging\n",
    "\n",
    "# create file handler which logs to the specified file\n",
    "file_handler = logging.FileHandler('./tests/detailed-frmt.log' )\n",
    "\n",
    "\n",
    "# Empty basic config turns off default console handler\n",
    "logging.basicConfig()\n",
    "logger = logging.getLogger(__name__)\n",
    "logger.setLevel(logging.DEBUG)\n",
    "\n",
    "# create file handler which logs to the specified file\n",
    "file_handler = logging.FileHandler('./tests/detailed-frmt.log')\n",
    "\n",
    "# Create formatter for the file_handler\n",
    "formatter = logging.Formatter('%(asctime)s - %(funcName)s - %(message)s' )\n",
    "file_handler.setFormatter(formatter)\n",
    "\n",
    "# Add the handler to the Logger\n",
    "logger.addHandler(file_handler)\n",
    "\n",
    "# 'application' code\n",
    "def do_something():\n",
    "    logger.debug('debug message')\n",
    "    logger.info('info message')\n",
    "    logger.warning('warn message')\n",
    "    logger.error('error message')\n",
    "    logger.critical('critical message')\n",
    "\n",
    "logger.info('Starting')\n",
    "do_something()\n",
    "logger.info('Done')"
   ]
  },
  {
   "cell_type": "markdown",
   "metadata": {},
   "source": [
    "# Filtros\n",
    "\n",
    "Los filtros nos permiten realizar una analisis previo de la información que viaja en el Logger y decidir si se imprime o no en los logs, esto tiene una gran cantidad de aplicaciones como para evitar que se guarde información sensible, veamos el ejemplo"
   ]
  },
  {
   "cell_type": "code",
   "execution_count": 13,
   "metadata": {},
   "outputs": [],
   "source": [
    "import logging\n",
    "\n",
    "# Filtro para el Logger que hereda de Filter\n",
    "class MyFilter(logging.Filter):\n",
    "    def filter(self, record):\n",
    "        if 'John' in record.msg:\n",
    "            return False\n",
    "        else:\n",
    "            return True\n",
    "\n",
    "# create Logger\n",
    "logging.basicConfig(format='%(asctime)s %(message)s', level=logging.DEBUG)\n",
    "logger = logging.getLogger()\n",
    "\n",
    "# Add filter\n",
    "logger.addFilter(MyFilter())\n",
    "\n",
    "# Test de nuestro Logger\n",
    "logger.debug('This is to help with debugging')\n",
    "logger.info('This is information on John')"
   ]
  },
  {
   "cell_type": "markdown",
   "metadata": {},
   "source": [
    "# Configuración del Logger por medio de un archivo externo\n",
    "\n",
    "por ultimo muchas veces se acostumbra a crear la configuraciónd desde un archivo externo, esto es una buena practica porque asi si quieres cambiar algo o agregar nueva información de los Loggers o uno en especifico, debes de cambiar solamente el archivo de configuración y no el código que esto implicaria todo un proceso de actualización en producción lo cual no es lo ideal.\n",
    "\n",
    "Por lo general los archivos de configuración se pueden crear de distintos formatos, pero los mas usados son JSON, YAML y conf, para el ejemplo usaremos el YAMl y la lógica de uso para los demas formatos será la misma mostrada aqui.\n",
    "\n",
    "supongamos que tenemos el siguiente archivo `logging.config.yaml`.\n",
    "\n",
    "```yaml\n",
    "version: 1\n",
    "formatters:\n",
    "    myformatter:\n",
    "        format: \"%(asctime)s [%(levelname)s] %(name)s.%(funcName)s: %(message)s\"\n",
    "handlers:\n",
    "    console:\n",
    "        class: logging.StreamHandler\n",
    "        level: DEBUG\n",
    "        formatter: myformatter\n",
    "        stream: ext://sys.stdout\n",
    "loggers:\n",
    "    myLogger:\n",
    "        level: DEBUG\n",
    "        handlers: [console]\n",
    "        propagate: no\n",
    "root:\n",
    "    level: ERROR\n",
    "    handlers: [console]```\n",
    "````\n",
    "\n",
    "por último para poder importar esta información en Python vamos a usar el módulo ``pyyaml`` que debemos de instalar ya sea por conda o pip, según el gestor de paquetes que se este utilizando"
   ]
  },
  {
   "cell_type": "code",
   "execution_count": 16,
   "metadata": {},
   "outputs": [
    {
     "name": "stdout",
     "output_type": "stream",
     "text": [
      "2021-10-23 19:09:06,398 [INFO] myLogger.<module>: Starting\n",
      "2021-10-23 19:09:06,399 [DEBUG] myLogger.do_something: debug message\n",
      "2021-10-23 19:09:06,399 [INFO] myLogger.do_something: info message\n",
      "2021-10-23 19:09:06,400 [WARNING] myLogger.do_something: warn message\n",
      "2021-10-23 19:09:06,400 [ERROR] myLogger.do_something: error message\n",
      "2021-10-23 19:09:06,401 [CRITICAL] myLogger.do_something: critical message\n",
      "2021-10-23 19:09:06,402 [INFO] myLogger.<module>: Done\n"
     ]
    }
   ],
   "source": [
    "import logging\n",
    "import logging.config\n",
    "import yaml\n",
    "\n",
    "with open('logging.config.yaml', 'r') as f:\n",
    "    config = yaml.safe_load(f.read())\n",
    "    logging.config.dictConfig(config)\n",
    "    \n",
    "logger = logging.getLogger('myLogger')\n",
    "\n",
    "# 'application' code\n",
    "def do_something():\n",
    "    logger.debug('debug message')\n",
    "    logger.info('info message')\n",
    "    logger.warning('warn message')\n",
    "    logger.error('error message')\n",
    "    logger.critical('critical message')\n",
    "\n",
    "logger.info('Starting')\n",
    "do_something()\n",
    "logger.info('Done')"
   ]
  }
 ],
 "metadata": {
  "interpreter": {
   "hash": "cb6cd5bb8a4fc649266e1b95dae8ab58b18cb2208a1b6d749f13a16dd38b4c0e"
  },
  "kernelspec": {
   "display_name": "Python 3.9.7 64-bit ('learning-python': conda)",
   "name": "python3"
  },
  "language_info": {
   "codemirror_mode": {
    "name": "ipython",
    "version": 3
   },
   "file_extension": ".py",
   "mimetype": "text/x-python",
   "name": "python",
   "nbconvert_exporter": "python",
   "pygments_lexer": "ipython3",
   "version": "3.9.7"
  },
  "orig_nbformat": 4
 },
 "nbformat": 4,
 "nbformat_minor": 2
}
