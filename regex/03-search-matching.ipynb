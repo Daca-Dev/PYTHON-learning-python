{
 "cells": [
  {
   "cell_type": "markdown",
   "metadata": {},
   "source": [
    "# Simple use\n",
    "\n",
    "El módulo **re** nos ofrece las funciones search y mateching que nos evitra el uso de la función **compile**"
   ]
  },
  {
   "cell_type": "code",
   "execution_count": 1,
   "metadata": {},
   "outputs": [
    {
     "name": "stdout",
     "output_type": "stream",
     "text": [
      "looking in john williams for the pattern [Jj]ohn\n",
      "Match has been found\n"
     ]
    }
   ],
   "source": [
    "import re\n",
    "\n",
    "text1 = 'john williams'\n",
    "pattern = '[Jj]ohn'\n",
    "\n",
    "print('looking in', text1, 'for the pattern', pattern)\n",
    "if re.search(pattern, text1):\n",
    "    print('Match has been found')"
   ]
  },
  {
   "cell_type": "markdown",
   "metadata": {},
   "source": [
    "las dos funciones que vamos a ver nos devolveran como resultado un objeto de la clase Match el cual tendrá un valor de **True** si encontro alguna coincidencia y un valor de **None** en caso contrario, por lo que puede ser usado en una sentencia **if**\n",
    "\n",
    "adicional nos ofrece los siguientes métodos y atributos\n",
    "\n",
    "- `match.re` = The regular expression object whose match() or search() method produced this match instance.\n",
    "- `match.string` = The string passed to match() or search().\n",
    "- `match.start([group])` / `match.end([group])` = Return the indices of the start and end of the substring matched by group.\n",
    "- `match.group()` = returns the part of the string where there was a match.\n",
    "- `match.groups()` = returns a list with all parts of the string where there was a match.\n",
    "\n",
    "veamoslo en funcionamiento"
   ]
  },
  {
   "cell_type": "code",
   "execution_count": 6,
   "metadata": {},
   "outputs": [
    {
     "name": "stdout",
     "output_type": "stream",
     "text": [
      "regex: re.compile('[Jj](oh)(n)')\n",
      "String to use: john williams y jose Jhon andrae\n",
      "start: 0\n",
      "end: 4\n",
      "group: john\n",
      "groups: ('oh', 'n')\n"
     ]
    }
   ],
   "source": [
    "import re\n",
    "\n",
    "text1 = 'john williams y jose Jhon andrae'\n",
    "pattern = '[Jj](oh)(n)'\n",
    "\n",
    "match = re.search(pattern, text1)\n",
    "if match:\n",
    "    print('regex:', match.re)\n",
    "    print('String to use:', match.string)\n",
    "    print('start:', match.start())\n",
    "    print('end:', match.end())\n",
    "    print('group:', match.group())\n",
    "    print('groups:', match.groups())"
   ]
  },
  {
   "cell_type": "markdown",
   "metadata": {},
   "source": [
    "# The ``search()`` function\n",
    "\n",
    "La función ``search()`` nos permite hacer una busqueda de una coincidencia (Match) dentro de un string, apenas encuentre una la devolvera en caso contrario devolvera **None**\n",
    "\n",
    "su estructura es la siguiente\n",
    "\n",
    "``re.search(pattern, string, flags=0)``\n",
    "\n",
    "en donde cada parámetro es\n",
    "\n",
    "- `pattern` = this is the regular expression pattern to be used in the matching process.\n",
    "- `string` = this is the string to be searched.\n",
    "- `flags` = these (optional) flags can be used to modify the operation of the search.\n",
    "\n",
    "en donde cada flag esta dada por\n",
    "\n",
    "![grafico](./images/img6.png)\n",
    "\n",
    "veamos un caso de uso"
   ]
  },
  {
   "cell_type": "code",
   "execution_count": 7,
   "metadata": {},
   "outputs": [
    {
     "name": "stdout",
     "output_type": "stream",
     "text": [
      "Line 1 contains an integer\n"
     ]
    }
   ],
   "source": [
    "import re\n",
    "\n",
    "line1 = 'The price is 23.55'\n",
    "containsIntegers = r'\\d+'\n",
    "\n",
    "if re.search(containsIntegers, line1):\n",
    "    print('Line 1 contains an integer')\n",
    "else:\n",
    "    print('Line 1 does not contain an integer')"
   ]
  },
  {
   "cell_type": "code",
   "execution_count": 8,
   "metadata": {},
   "outputs": [
    {
     "name": "stdout",
     "output_type": "stream",
     "text": [
      "Set Fire to the Rain\n"
     ]
    }
   ],
   "source": [
    "import re\n",
    "\n",
    "# Alternative words\n",
    "music = r'Beatles|Adele|Gorillaz'\n",
    "request = 'Play some Adele'\n",
    "\n",
    "if re.search(music, request):\n",
    "    print('Set Fire to the Rain')\n",
    "else:\n",
    "    print('No Adele Available')"
   ]
  },
  {
   "cell_type": "markdown",
   "metadata": {},
   "source": [
    "# The ``match()`` function\n",
    "\n",
    "La única diferencia que tiene martch con search es que ``match()`` busca la coincidencia al principio del string en cuestion. de resto tiene la misma estructura y modo de uso\n",
    "\n",
    "`re.match(pattern, string, flags=0)`\n",
    "\n",
    "> la diferencia entre math y search\n",
    "\n",
    "> • match() checks for a match only at the beginning of the string,\n",
    "\n",
    "> • search() checks for a match anywhere in the string."
   ]
  },
  {
   "cell_type": "markdown",
   "metadata": {},
   "source": [
    "# ``Findall()`` function\n",
    "\n",
    "Esta función actua igual que ``search()`` con la diferencia que encuentra todas las coincidencias que no se sobrepongan buscando de izquierda a derecha\n",
    "\n",
    "como resultado devuelve una lista de strings con las coincidencias, en caso de que hayan grupos devolvera una tupla con los grupos encontrados\n",
    "\n",
    "su estructrura es igual a las que hemos visto\n",
    "\n",
    "``re.findall(pattern, string, flags=0)``"
   ]
  },
  {
   "cell_type": "code",
   "execution_count": 9,
   "metadata": {},
   "outputs": [
    {
     "name": "stdout",
     "output_type": "stream",
     "text": [
      "['Spain', 'plain']\n",
      "Spain\n",
      "plain\n"
     ]
    }
   ],
   "source": [
    "import re\n",
    "\n",
    "string = 'The rain in Spain stays mainly on the plain'\n",
    "\n",
    "results = re.findall('[a-zA-Z]{2}ai.', string)\n",
    "\n",
    "print(results)\n",
    "for s in results:\n",
    "    print(s)"
   ]
  },
  {
   "cell_type": "markdown",
   "metadata": {},
   "source": [
    "# ``Finditer()`` function\n",
    "\n",
    "esta función devuelve un generador con los resultados encontrados en un string, y cada objeto que devuelve es de la Clase Match que ya vimos antes\n",
    "\n",
    "`re.finditer(pattern, string, flags=0)`"
   ]
  },
  {
   "cell_type": "code",
   "execution_count": 16,
   "metadata": {},
   "outputs": [
    {
     "name": "stdout",
     "output_type": "stream",
     "text": [
      "<callable_iterator object at 0x000001CFAE9FB2B0>\n",
      "Spain\n",
      "plain\n"
     ]
    }
   ],
   "source": [
    "import re\n",
    "\n",
    "string = 'The rain in Spain stays mainly on the plain'\n",
    "\n",
    "results = re.finditer('[a-zA-Z]{2}ai.', string)\n",
    "\n",
    "print(results)\n",
    "for s in results:\n",
    "    print(s.group())"
   ]
  },
  {
   "cell_type": "markdown",
   "metadata": {},
   "source": [
    "# The ``split()`` Function\n",
    "\n",
    "Esta función devuelve una lista con el string dividido en cada parte en donde hubo un match, sin incluir dicho match, su estructura es \n",
    "\n",
    "`re.split(pattern, string, maxsplit=0, flags=0)`\n",
    "\n",
    "> maxsplit por defecto es 0 y recibe valores enteros positivos que definen cuantas veces se debe de separar el string empezando de izq a derecha"
   ]
  },
  {
   "cell_type": "code",
   "execution_count": 17,
   "metadata": {},
   "outputs": [
    {
     "name": "stdout",
     "output_type": "stream",
     "text": [
      "['It', 'was', 'a', 'hot', 'summer', 'night']\n"
     ]
    }
   ],
   "source": [
    "import re\n",
    "\n",
    "str = 'It was a hot summer night'\n",
    "\n",
    "x = re.split('\\s', str)\n",
    "print(x)"
   ]
  },
  {
   "cell_type": "markdown",
   "metadata": {},
   "source": [
    "# The ``sub()`` Function\n",
    "\n",
    "Esta función remplaza los matches con el valor pasado dentro del parámetro **repl** teniendo en cuenta la siguiente estructura de la función\n",
    "\n",
    "`re.sub(pattern, repl, string, max=0)`\n"
   ]
  },
  {
   "cell_type": "code",
   "execution_count": 19,
   "metadata": {},
   "outputs": [
    {
     "name": "stdout",
     "output_type": "stream",
     "text": [
      "ENGLAND for football, ENGLAND for Rugby and ENGLAND for the Highland games\n"
     ]
    }
   ],
   "source": [
    "import re\n",
    "\n",
    "pattern = '(England|Wales|Scotland)'\n",
    "\n",
    "input = 'England for football, Wales for Rugby and Scotland for the Highland games'\n",
    "print(re.sub(pattern, 'ENGLAND', input ))"
   ]
  },
  {
   "cell_type": "code",
   "execution_count": 20,
   "metadata": {},
   "outputs": [
    {
     "name": "stdout",
     "output_type": "stream",
     "text": [
      "WALES for football, WALES for Rugby and Scotland for the Highland games\n"
     ]
    }
   ],
   "source": [
    "# controlando la cantidad de reemplazos\n",
    "import re\n",
    "pattern = '(England|Wales|Scotland)'\n",
    "input = 'England for football, Wales for Rugby and Scotland for the Highland games'\n",
    "\n",
    "x = re.sub(pattern, 'WALES', input, 2)\n",
    "print(x)"
   ]
  },
  {
   "cell_type": "markdown",
   "metadata": {},
   "source": [
    "Adicionalmente podemos obtener un string y la cantidad de sustituciones con ayuda de la función ``subn()`` cuya estructura es exactamente igual solo que cambia el retorno"
   ]
  },
  {
   "cell_type": "code",
   "execution_count": 21,
   "metadata": {},
   "outputs": [
    {
     "name": "stdout",
     "output_type": "stream",
     "text": [
      "('Scotland for football, Scotland for Rugby and Scotland for the Highland games', 3)\n"
     ]
    }
   ],
   "source": [
    "import re\n",
    "pattern = '(England|Wales|Scotland)'\n",
    "\n",
    "input = 'England for football, Wales for Rugby and Scotland for the Highland games'\n",
    "print(re.subn(pattern,'Scotland', input ))"
   ]
  }
 ],
 "metadata": {
  "interpreter": {
   "hash": "e10c588331812ce8644711cf49296cc7106d891fd97acbc1dbff548955ff74f4"
  },
  "kernelspec": {
   "display_name": "Python 3.9.7 64-bit ('learn-python': conda)",
   "name": "python3"
  },
  "language_info": {
   "codemirror_mode": {
    "name": "ipython",
    "version": 3
   },
   "file_extension": ".py",
   "mimetype": "text/x-python",
   "name": "python",
   "nbconvert_exporter": "python",
   "pygments_lexer": "ipython3",
   "version": "3.8.8"
  },
  "orig_nbformat": 4
 },
 "nbformat": 4,
 "nbformat_minor": 2
}
