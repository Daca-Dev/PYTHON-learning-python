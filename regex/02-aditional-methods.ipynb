{
 "cells": [
  {
   "cell_type": "markdown",
   "metadata": {},
   "source": [
    "# Métodos y funciones adicionales del módulo re\n",
    "\n",
    "En la primera parte se abordaron los temas de expresiones regulares en Python, y vimos como funcionan estas expresiones con el módulo, todo lo visto allí es facilmente aplicable a otras herramientas y lenguages de programación que empleen expresiones regulares.\n",
    "\n",
    "Ahora veremos funciones adicionales que nos facilitarán el desarrollo en Python, estas funciones viene con el módulo y aunque es posible que se puedan encontrar en otros lenguajes, no son nativos de regex\n",
    "\n",
    "## Case-Insensitive Matching\n",
    "\n",
    "Si queremos buscar una coincidencia de una palabra sin importar si son mayusculas o minusculas, en lugar de crear una expresión que tenga en cuenta todas las posbiles combinaciones podemos pasar el parámetro ``re.IGNORECASE`` o ``re.I``"
   ]
  },
  {
   "cell_type": "code",
   "execution_count": 3,
   "metadata": {},
   "outputs": [
    {
     "name": "stdout",
     "output_type": "stream",
     "text": [
      "RoboCop\n",
      "ROBOCOP\n",
      "robocop\n"
     ]
    }
   ],
   "source": [
    "import re\n",
    "\n",
    "# como no se debe hacer\n",
    "regex1 = re.compile('RoboCop')\n",
    "regex2 = re.compile('ROBOCOP')\n",
    "regex3 = re.compile('robOcop')\n",
    "regex4 = re.compile('RobocOp')\n",
    "# como si se debe hacer\n",
    "robocop = re.compile(r'robocop', re.I)\n",
    "print(robocop.search('RoboCop is part man, part machine, all cop.').group())\n",
    "print(robocop.search('ROBOCOP protects the innocent.').group())\n",
    "print(robocop.search('Al, why does your programming book talk about robocop so much?').group())"
   ]
  },
  {
   "cell_type": "markdown",
   "metadata": {},
   "source": [
    "## Substituting Strings with the sub() Method\n",
    "\n"
   ]
  }
 ],
 "metadata": {
  "interpreter": {
   "hash": "9228c2573cbbde0dac843b8968f6cfda5f3b714f9bc1009cf3aff046ad8f0798"
  },
  "kernelspec": {
   "display_name": "Python 3.9.7 64-bit ('learning-python-book': conda)",
   "name": "python3"
  },
  "language_info": {
   "codemirror_mode": {
    "name": "ipython",
    "version": 3
   },
   "file_extension": ".py",
   "mimetype": "text/x-python",
   "name": "python",
   "nbconvert_exporter": "python",
   "pygments_lexer": "ipython3",
   "version": "3.9.7"
  },
  "orig_nbformat": 4
 },
 "nbformat": 4,
 "nbformat_minor": 2
}
